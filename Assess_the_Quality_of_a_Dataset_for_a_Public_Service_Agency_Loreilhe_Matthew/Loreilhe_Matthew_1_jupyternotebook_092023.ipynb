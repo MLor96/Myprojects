{
 "cells": [
  {
   "cell_type": "markdown",
   "id": "38bcec7a-f9ab-48e8-9553-e9ded639a576",
   "metadata": {},
   "source": [
    "# Trees in Camden\n",
    "Use this notebook to complete your analysis.\n",
    "Enter code and comments after the TODOs.\n",
    "\n",
    "There are some code cells completed for you.  These are highlighted with a <font style=\"color:crimson;background-color:lemonchiffon\">TODO</font> comment.  You can use these to guide the subsequent tasks.  Other cells require you to read documentation or search for answers.  The markdown comments give you links to some useful documentation and articles.  Read the documentation, look at the examples provided in the documentation and then try to apply them to your data.\n",
    "\n",
    "Remember that you can find information on the pandas functions on the Pandas website https://pandas.pydata.org/pandas-docs/stable/reference/frame.html or directly in the notebook by puttin a ? before or after the function name. for instance: `?df.head()` or `df['Maturity'].value_counts()?`"
   ]
  },
  {
   "cell_type": "markdown",
   "id": "71f2c016-f440-4601-8262-1d814315d1bb",
   "metadata": {},
   "source": [
    "## Imports\n",
    "Import the libraries we need to perform the analysis."
   ]
  },
  {
   "cell_type": "code",
   "execution_count": 3,
   "id": "26c7393c-3a3f-4224-8c88-10aa58310351",
   "metadata": {},
   "outputs": [],
   "source": [
    "import pandas as pd"
   ]
  },
  {
   "cell_type": "markdown",
   "id": "ddcf618b-a928-498c-b07e-991c7eb09bb7",
   "metadata": {
    "tags": [],
    "toc-hr-collapsed": true
   },
   "source": [
    "## Task 2: Load Data and Perform Initial Exploration\n",
    "Load the data from the supplied data files.  The files are in different **file formats**, but Pandas can handle this.\n",
    "\n",
    "You should read the data in using the appropriate function:\n",
    "\n",
    "- [pandas.read_excel](https://pandas.pydata.org/pandas-docs/stable/reference/api/pandas.read_excel.html)\n",
    "- [pandas.read_csv](https://pandas.pydata.org/docs/reference/api/pandas.read_csv.html)\n",
    "- [pandas.read_json](https://pandas.pydata.org/pandas-docs/version/0.23.4/generated/pandas.read_json.html)\n",
    "\n",
    "You can then inspect the first few rows of the loaded dataframe:\n",
    "\n",
    "[pandas.DataFrame.head](https://pandas.pydata.org/docs/reference/api/pandas.DataFrame.head.html)\n",
    "\n",
    "You can get the number of rows and columns:\n",
    "\n",
    "[pandas.DataFrame.shape](https://pandas.pydata.org/pandas-docs/stable/reference/api/pandas.DataFrame.shape.html)\n",
    "\n",
    "You can get the list of column names:\n",
    "\n",
    "[pandas.DataFrame.columns](https://pandas.pydata.org/docs/reference/api/pandas.DataFrame.columns.html)\n",
    "\n",
    "And you can list the data types of the columns:\n",
    "\n",
    "[pandas.DataFrames.dtypes](https://pandas.pydata.org/pandas-docs/stable/reference/api/pandas.DataFrame.dtypes.html)\n",
    "\n",
    "I've done the first one (loading `\"camden_trees.xlsx\"`) for you.  Please load `\"camden_trees_environmental.csv\"` and `\"tree_common_names.json\"` and analyse them in the same way.\n"
   ]
  },
  {
   "cell_type": "markdown",
   "id": "be1b77e3-ef79-49da-a896-dafbc51a3e10",
   "metadata": {},
   "source": [
    "### 2.1 Trees\n",
    "The file `\"camden_trees.xlsx\"` is an Excel file, so we use the `read_excel()` function."
   ]
  },
  {
   "cell_type": "code",
   "execution_count": 4,
   "id": "dcc71d80-c6e5-41fa-bdd2-8a9c1c129cc7",
   "metadata": {},
   "outputs": [],
   "source": [
    "# Create a Pandas dataframe called trees that contains the contents of the Excel file\n",
    "trees = pd.read_excel(\"downloads/camden_trees.xlsx\")"
   ]
  },
  {
   "cell_type": "markdown",
   "id": "13689979-f709-4e37-87bc-e005a9dfd0ea",
   "metadata": {},
   "source": [
    "We can now inspect the first few rows using `head()`.  By default, `head()` displays the first 5 rows."
   ]
  },
  {
   "cell_type": "code",
   "execution_count": 10,
   "id": "34c737a4-0666-450f-8db3-b14fd2c2fec5",
   "metadata": {},
   "outputs": [
    {
     "data": {
      "text/html": [
       "<div>\n",
       "<style scoped>\n",
       "    .dataframe tbody tr th:only-of-type {\n",
       "        vertical-align: middle;\n",
       "    }\n",
       "\n",
       "    .dataframe tbody tr th {\n",
       "        vertical-align: top;\n",
       "    }\n",
       "\n",
       "    .dataframe thead th {\n",
       "        text-align: right;\n",
       "    }\n",
       "</style>\n",
       "<table border=\"1\" class=\"dataframe\">\n",
       "  <thead>\n",
       "    <tr style=\"text-align: right;\">\n",
       "      <th></th>\n",
       "      <th>Identifier</th>\n",
       "      <th>Number Of Trees</th>\n",
       "      <th>Site Name</th>\n",
       "      <th>Contract Area</th>\n",
       "      <th>Scientific Name</th>\n",
       "      <th>Inspection Date</th>\n",
       "      <th>Inspection Due Date</th>\n",
       "      <th>Height In Metres</th>\n",
       "      <th>Spread In Metres</th>\n",
       "      <th>Diameter In Centimetres At Breast Height</th>\n",
       "      <th>Ward Code</th>\n",
       "      <th>Ward Name</th>\n",
       "      <th>Easting</th>\n",
       "      <th>Northing</th>\n",
       "      <th>Longitude</th>\n",
       "      <th>Latitude</th>\n",
       "      <th>Location</th>\n",
       "    </tr>\n",
       "  </thead>\n",
       "  <tbody>\n",
       "    <tr>\n",
       "      <th>0</th>\n",
       "      <td>00060053</td>\n",
       "      <td>1.0</td>\n",
       "      <td>Russell Nurseries Estate</td>\n",
       "      <td>Housing</td>\n",
       "      <td>Vacant Tree Pit</td>\n",
       "      <td>NaT</td>\n",
       "      <td>NaN</td>\n",
       "      <td>NaN</td>\n",
       "      <td>NaN</td>\n",
       "      <td>NaN</td>\n",
       "      <td>E05000135</td>\n",
       "      <td>Hampstead Town</td>\n",
       "      <td>527305</td>\n",
       "      <td>185240</td>\n",
       "      <td>-0.165240</td>\n",
       "      <td>51.551693</td>\n",
       "      <td>(51.551693, -0.16524)</td>\n",
       "    </tr>\n",
       "    <tr>\n",
       "      <th>1</th>\n",
       "      <td>00057855</td>\n",
       "      <td>1.0</td>\n",
       "      <td>BRECKNOCK JMI (E)</td>\n",
       "      <td>Education</td>\n",
       "      <td>Vacant Tree Pit</td>\n",
       "      <td>2019-07-17</td>\n",
       "      <td>2022/2023</td>\n",
       "      <td>NaN</td>\n",
       "      <td>NaN</td>\n",
       "      <td>NaN</td>\n",
       "      <td>E05000131</td>\n",
       "      <td>Cantelowes</td>\n",
       "      <td>529923</td>\n",
       "      <td>184782</td>\n",
       "      <td>-0.127681</td>\n",
       "      <td>51.546984</td>\n",
       "      <td>(51.546984, -0.127681)</td>\n",
       "    </tr>\n",
       "    <tr>\n",
       "      <th>2</th>\n",
       "      <td>00059953</td>\n",
       "      <td>1.0</td>\n",
       "      <td>Estate 51 Ravenshaw Street</td>\n",
       "      <td>Housing</td>\n",
       "      <td>Ficus carica</td>\n",
       "      <td>NaT</td>\n",
       "      <td>NaN</td>\n",
       "      <td>5.0</td>\n",
       "      <td>4.0</td>\n",
       "      <td>10.0</td>\n",
       "      <td>NaN</td>\n",
       "      <td>NaN</td>\n",
       "      <td>0</td>\n",
       "      <td>0</td>\n",
       "      <td>NaN</td>\n",
       "      <td>NaN</td>\n",
       "      <td>NaN</td>\n",
       "    </tr>\n",
       "    <tr>\n",
       "      <th>3</th>\n",
       "      <td>00059915</td>\n",
       "      <td>1.0</td>\n",
       "      <td>ROSARY RC JMI (E)</td>\n",
       "      <td>Education</td>\n",
       "      <td>Betula jacquemontii</td>\n",
       "      <td>NaT</td>\n",
       "      <td>NaN</td>\n",
       "      <td>4.0</td>\n",
       "      <td>1.0</td>\n",
       "      <td>6.0</td>\n",
       "      <td>E05000135</td>\n",
       "      <td>Hampstead Town</td>\n",
       "      <td>527249</td>\n",
       "      <td>185261</td>\n",
       "      <td>-0.166051</td>\n",
       "      <td>51.551901</td>\n",
       "      <td>(51.551901, -0.166051)</td>\n",
       "    </tr>\n",
       "    <tr>\n",
       "      <th>4</th>\n",
       "      <td>00010762</td>\n",
       "      <td>1.0</td>\n",
       "      <td>Holly Lodge Estate</td>\n",
       "      <td>Housing</td>\n",
       "      <td>Ilex x altaclarensis</td>\n",
       "      <td>2017-06-14</td>\n",
       "      <td>2020/2021</td>\n",
       "      <td>14.0</td>\n",
       "      <td>6.0</td>\n",
       "      <td>26.0</td>\n",
       "      <td>E05000137</td>\n",
       "      <td>Highgate</td>\n",
       "      <td>528414</td>\n",
       "      <td>186770</td>\n",
       "      <td>-0.148704</td>\n",
       "      <td>51.565198</td>\n",
       "      <td>(51.565198, -0.148704)</td>\n",
       "    </tr>\n",
       "  </tbody>\n",
       "</table>\n",
       "</div>"
      ],
      "text/plain": [
       "  Identifier  Number Of Trees                   Site Name Contract Area  \\\n",
       "0   00060053              1.0    Russell Nurseries Estate       Housing   \n",
       "1   00057855              1.0           BRECKNOCK JMI (E)     Education   \n",
       "2   00059953              1.0  Estate 51 Ravenshaw Street       Housing   \n",
       "3   00059915              1.0           ROSARY RC JMI (E)     Education   \n",
       "4   00010762              1.0          Holly Lodge Estate       Housing   \n",
       "\n",
       "        Scientific Name Inspection Date Inspection Due Date  Height In Metres  \\\n",
       "0       Vacant Tree Pit             NaT                 NaN               NaN   \n",
       "1       Vacant Tree Pit      2019-07-17           2022/2023               NaN   \n",
       "2          Ficus carica             NaT                 NaN               5.0   \n",
       "3   Betula jacquemontii             NaT                 NaN               4.0   \n",
       "4  Ilex x altaclarensis      2017-06-14           2020/2021              14.0   \n",
       "\n",
       "   Spread In Metres  Diameter In Centimetres At Breast Height  Ward Code  \\\n",
       "0               NaN                                       NaN  E05000135   \n",
       "1               NaN                                       NaN  E05000131   \n",
       "2               4.0                                      10.0        NaN   \n",
       "3               1.0                                       6.0  E05000135   \n",
       "4               6.0                                      26.0  E05000137   \n",
       "\n",
       "        Ward Name  Easting  Northing  Longitude   Latitude  \\\n",
       "0  Hampstead Town   527305    185240  -0.165240  51.551693   \n",
       "1      Cantelowes   529923    184782  -0.127681  51.546984   \n",
       "2             NaN        0         0        NaN        NaN   \n",
       "3  Hampstead Town   527249    185261  -0.166051  51.551901   \n",
       "4        Highgate   528414    186770  -0.148704  51.565198   \n",
       "\n",
       "                 Location  \n",
       "0   (51.551693, -0.16524)  \n",
       "1  (51.546984, -0.127681)  \n",
       "2                     NaN  \n",
       "3  (51.551901, -0.166051)  \n",
       "4  (51.565198, -0.148704)  "
      ]
     },
     "execution_count": 10,
     "metadata": {},
     "output_type": "execute_result"
    }
   ],
   "source": [
    "# Display the first few rows\n",
    "trees.head()"
   ]
  },
  {
   "cell_type": "markdown",
   "id": "2dc1c27b-7658-41be-92f5-6d1ee07f49c0",
   "metadata": {},
   "source": [
    "It's good to understand the size of the dataset we are dealing with.  The `shape` property does this for us."
   ]
  },
  {
   "cell_type": "code",
   "execution_count": 11,
   "id": "9e7f1cf1-4e79-4cdd-a6b8-0a41c16cb153",
   "metadata": {},
   "outputs": [
    {
     "data": {
      "text/plain": [
       "(23444, 17)"
      ]
     },
     "execution_count": 11,
     "metadata": {},
     "output_type": "execute_result"
    }
   ],
   "source": [
    "# Get the number of rows and columns\n",
    "trees.shape"
   ]
  },
  {
   "cell_type": "markdown",
   "id": "d499f569-4200-48e9-b0a5-b84fc72a228a",
   "metadata": {},
   "source": [
    "If there are lots of columns we can't always see all of them in the `head()` list above.  We can use the `columns` property to get a full list:"
   ]
  },
  {
   "cell_type": "code",
   "execution_count": 12,
   "id": "be4badda-f1c9-481c-a274-8251330cbc5a",
   "metadata": {},
   "outputs": [
    {
     "data": {
      "text/plain": [
       "Index(['Identifier', 'Number Of Trees', 'Site Name', 'Contract Area',\n",
       "       'Scientific Name', 'Inspection Date', 'Inspection Due Date',\n",
       "       'Height In Metres', 'Spread In Metres',\n",
       "       'Diameter In Centimetres At Breast Height', 'Ward Code', 'Ward Name',\n",
       "       'Easting', 'Northing', 'Longitude', 'Latitude', 'Location'],\n",
       "      dtype='object')"
      ]
     },
     "execution_count": 12,
     "metadata": {},
     "output_type": "execute_result"
    }
   ],
   "source": [
    "# Get a list of all the columns in the dataframe\n",
    "trees.columns"
   ]
  },
  {
   "cell_type": "markdown",
   "id": "7b184dfb-0498-43c0-afa7-9d4be449863a",
   "metadata": {},
   "source": [
    "In order to process the data properly, we should understand the data type for each column.  Pandas attempts to work this out for us, but sometimes we need to give it a bit of a hand.  We can use the `dtypes` property to list the data types.  Note that `object` is Pandas way of saying `string`, i.e. a text data type."
   ]
  },
  {
   "cell_type": "code",
   "execution_count": 13,
   "id": "f5b603ef-9ce1-4667-a672-5a86fe9daf1a",
   "metadata": {},
   "outputs": [
    {
     "data": {
      "text/plain": [
       "Identifier                                          object\n",
       "Number Of Trees                                    float64\n",
       "Site Name                                           object\n",
       "Contract Area                                       object\n",
       "Scientific Name                                     object\n",
       "Inspection Date                             datetime64[ns]\n",
       "Inspection Due Date                                 object\n",
       "Height In Metres                                   float64\n",
       "Spread In Metres                                   float64\n",
       "Diameter In Centimetres At Breast Height           float64\n",
       "Ward Code                                           object\n",
       "Ward Name                                           object\n",
       "Easting                                              int64\n",
       "Northing                                             int64\n",
       "Longitude                                          float64\n",
       "Latitude                                           float64\n",
       "Location                                            object\n",
       "dtype: object"
      ]
     },
     "execution_count": 13,
     "metadata": {},
     "output_type": "execute_result"
    }
   ],
   "source": [
    "# List the data types of each column\n",
    "trees.dtypes"
   ]
  },
  {
   "cell_type": "markdown",
   "id": "722d9b40-5f9c-4362-9b46-b052b2449898",
   "metadata": {},
   "source": [
    "### 2.2 Environmental\n",
    "The file `\"camden_trees_environmental.csv\"` is a csv file.  Use the appropriate function to load it into a Pandas DataFrame."
   ]
  },
  {
   "cell_type": "markdown",
   "id": "5585e3b9-4c1c-436e-a34f-f8f19a0cbd02",
   "metadata": {},
   "source": [
    "<div style=\"background-color:lemonchiffon; border:1px solid; padding:5px; margin:5px; font-weight:bold\"><font color=\"crimson\">\n",
    "TODO: Complete the following code cells\n",
    "    </font></div>"
   ]
  },
  {
   "cell_type": "code",
   "execution_count": 5,
   "id": "a12780eb-bcb5-4955-bc9b-28439ee81d22",
   "metadata": {},
   "outputs": [],
   "source": [
    "# Create a Pandas dataframe called environmental that contains the contents of the csv file\n",
    "# TODO\n",
    "environmental = pd.read_csv(\"downloads/camden_trees_environmental.csv\")"
   ]
  },
  {
   "cell_type": "code",
   "execution_count": 15,
   "id": "4d6e254d-a3df-4004-b262-004923fdbf9a",
   "metadata": {},
   "outputs": [
    {
     "data": {
      "text/html": [
       "<div>\n",
       "<style scoped>\n",
       "    .dataframe tbody tr th:only-of-type {\n",
       "        vertical-align: middle;\n",
       "    }\n",
       "\n",
       "    .dataframe tbody tr th {\n",
       "        vertical-align: top;\n",
       "    }\n",
       "\n",
       "    .dataframe thead th {\n",
       "        text-align: right;\n",
       "    }\n",
       "</style>\n",
       "<table border=\"1\" class=\"dataframe\">\n",
       "  <thead>\n",
       "    <tr style=\"text-align: right;\">\n",
       "      <th></th>\n",
       "      <th>Identifier</th>\n",
       "      <th>Maturity</th>\n",
       "      <th>Physiological Condition</th>\n",
       "      <th>Tree Set To Be Removed</th>\n",
       "      <th>Removal Reason</th>\n",
       "      <th>Capital Asset Value For Amenity Trees</th>\n",
       "      <th>Carbon Storage In Kilograms</th>\n",
       "      <th>Gross Carbon Sequestration Per Year In Kilograms</th>\n",
       "      <th>Pollution Removal Per Year In Grams</th>\n",
       "    </tr>\n",
       "  </thead>\n",
       "  <tbody>\n",
       "    <tr>\n",
       "      <th>0</th>\n",
       "      <td>00055125</td>\n",
       "      <td>Juvenile</td>\n",
       "      <td>Good</td>\n",
       "      <td>No</td>\n",
       "      <td>NaN</td>\n",
       "      <td>115.07</td>\n",
       "      <td>1.6</td>\n",
       "      <td>0.5</td>\n",
       "      <td>5.7</td>\n",
       "    </tr>\n",
       "    <tr>\n",
       "      <th>1</th>\n",
       "      <td>00059429</td>\n",
       "      <td>Middle aged</td>\n",
       "      <td>Fair</td>\n",
       "      <td>No</td>\n",
       "      <td>NaN</td>\n",
       "      <td>7518.08</td>\n",
       "      <td>NaN</td>\n",
       "      <td>NaN</td>\n",
       "      <td>NaN</td>\n",
       "    </tr>\n",
       "    <tr>\n",
       "      <th>2</th>\n",
       "      <td>00018254</td>\n",
       "      <td>Mature</td>\n",
       "      <td>Fair</td>\n",
       "      <td>No</td>\n",
       "      <td>NaN</td>\n",
       "      <td>20419.63</td>\n",
       "      <td>426.4</td>\n",
       "      <td>8.8</td>\n",
       "      <td>215.2</td>\n",
       "    </tr>\n",
       "    <tr>\n",
       "      <th>3</th>\n",
       "      <td>00027155</td>\n",
       "      <td>Mature</td>\n",
       "      <td>Fair</td>\n",
       "      <td>No</td>\n",
       "      <td>NaN</td>\n",
       "      <td>21447.74</td>\n",
       "      <td>448.3</td>\n",
       "      <td>9.6</td>\n",
       "      <td>379.1</td>\n",
       "    </tr>\n",
       "    <tr>\n",
       "      <th>4</th>\n",
       "      <td>00041326</td>\n",
       "      <td>Juvenile</td>\n",
       "      <td>Good</td>\n",
       "      <td>No</td>\n",
       "      <td>NaN</td>\n",
       "      <td>524.30</td>\n",
       "      <td>9.9</td>\n",
       "      <td>1.4</td>\n",
       "      <td>12.8</td>\n",
       "    </tr>\n",
       "  </tbody>\n",
       "</table>\n",
       "</div>"
      ],
      "text/plain": [
       "  Identifier     Maturity Physiological Condition Tree Set To Be Removed  \\\n",
       "0   00055125     Juvenile                    Good                     No   \n",
       "1   00059429  Middle aged                    Fair                     No   \n",
       "2   00018254       Mature                    Fair                     No   \n",
       "3   00027155       Mature                    Fair                     No   \n",
       "4   00041326     Juvenile                    Good                     No   \n",
       "\n",
       "  Removal Reason  Capital Asset Value For Amenity Trees  \\\n",
       "0            NaN                                 115.07   \n",
       "1            NaN                                7518.08   \n",
       "2            NaN                               20419.63   \n",
       "3            NaN                               21447.74   \n",
       "4            NaN                                 524.30   \n",
       "\n",
       "   Carbon Storage In Kilograms  \\\n",
       "0                          1.6   \n",
       "1                          NaN   \n",
       "2                        426.4   \n",
       "3                        448.3   \n",
       "4                          9.9   \n",
       "\n",
       "   Gross Carbon Sequestration Per Year In Kilograms  \\\n",
       "0                                               0.5   \n",
       "1                                               NaN   \n",
       "2                                               8.8   \n",
       "3                                               9.6   \n",
       "4                                               1.4   \n",
       "\n",
       "   Pollution Removal Per Year In Grams  \n",
       "0                                  5.7  \n",
       "1                                  NaN  \n",
       "2                                215.2  \n",
       "3                                379.1  \n",
       "4                                 12.8  "
      ]
     },
     "execution_count": 15,
     "metadata": {},
     "output_type": "execute_result"
    }
   ],
   "source": [
    "# Display the first few rows\n",
    "# TODO\n",
    "environmental.head()"
   ]
  },
  {
   "cell_type": "code",
   "execution_count": 16,
   "id": "66c23391-628f-4612-936b-7f55c561fd1b",
   "metadata": {},
   "outputs": [
    {
     "data": {
      "text/plain": [
       "(23415, 9)"
      ]
     },
     "execution_count": 16,
     "metadata": {},
     "output_type": "execute_result"
    }
   ],
   "source": [
    "# Get the number of rows and columns\n",
    "# TODO\n",
    "environmental.shape"
   ]
  },
  {
   "cell_type": "code",
   "execution_count": 17,
   "id": "2ccce95e-0aec-4b3b-a961-5356606c2d60",
   "metadata": {},
   "outputs": [
    {
     "data": {
      "text/plain": [
       "Index(['Identifier', 'Maturity', 'Physiological Condition',\n",
       "       'Tree Set To Be Removed', 'Removal Reason',\n",
       "       'Capital Asset Value For Amenity Trees', 'Carbon Storage In Kilograms',\n",
       "       'Gross Carbon Sequestration Per Year In Kilograms',\n",
       "       'Pollution Removal Per Year In Grams'],\n",
       "      dtype='object')"
      ]
     },
     "execution_count": 17,
     "metadata": {},
     "output_type": "execute_result"
    }
   ],
   "source": [
    "# Get a list of all the columns in the dataframe\n",
    "# TODO\n",
    "environmental.columns"
   ]
  },
  {
   "cell_type": "code",
   "execution_count": 18,
   "id": "b32a0236-40fc-44d8-a0b1-d2afb3baba19",
   "metadata": {},
   "outputs": [
    {
     "data": {
      "text/plain": [
       "Identifier                                           object\n",
       "Maturity                                             object\n",
       "Physiological Condition                              object\n",
       "Tree Set To Be Removed                               object\n",
       "Removal Reason                                       object\n",
       "Capital Asset Value For Amenity Trees               float64\n",
       "Carbon Storage In Kilograms                         float64\n",
       "Gross Carbon Sequestration Per Year In Kilograms    float64\n",
       "Pollution Removal Per Year In Grams                 float64\n",
       "dtype: object"
      ]
     },
     "execution_count": 18,
     "metadata": {},
     "output_type": "execute_result"
    }
   ],
   "source": [
    "# List the data types of each column\n",
    "# TODO\n",
    "environmental.dtypes"
   ]
  },
  {
   "cell_type": "markdown",
   "id": "35e2a8fe-944e-4ef0-b944-0a536f699455",
   "metadata": {},
   "source": [
    "<hr/>"
   ]
  },
  {
   "cell_type": "markdown",
   "id": "faa2e5f5-67d8-4382-bad0-549486826c3a",
   "metadata": {},
   "source": [
    "### 2.3 Common and Scientific Names\n",
    "The file `\"tree_common_names.json\"` is a json file.  Use the appropriate function to load it into a Pandas DataFrame."
   ]
  },
  {
   "cell_type": "markdown",
   "id": "c60ddc1e-1bc2-498b-83c8-296e182a5048",
   "metadata": {},
   "source": [
    "<div style=\"background-color:lemonchiffon; border:1px solid; padding:5px; margin:5px; font-weight:bold\"><font color=\"crimson\">\n",
    "TODO: Complete the following code cells\n",
    "    </font></div>"
   ]
  },
  {
   "cell_type": "code",
   "execution_count": 6,
   "id": "9d3eef7b-123a-4e3d-8d19-5808becb2d35",
   "metadata": {},
   "outputs": [],
   "source": [
    "# Create a Pandas dataframe called names that contains the contents of the json file\n",
    "# TODO\n",
    "names = pd.read_json(\"downloads/tree_common_names.json\")"
   ]
  },
  {
   "cell_type": "code",
   "execution_count": 24,
   "id": "5d05c25c-b462-481b-b8ca-485f4b5a6cec",
   "metadata": {},
   "outputs": [
    {
     "data": {
      "text/html": [
       "<div>\n",
       "<style scoped>\n",
       "    .dataframe tbody tr th:only-of-type {\n",
       "        vertical-align: middle;\n",
       "    }\n",
       "\n",
       "    .dataframe tbody tr th {\n",
       "        vertical-align: top;\n",
       "    }\n",
       "\n",
       "    .dataframe thead th {\n",
       "        text-align: right;\n",
       "    }\n",
       "</style>\n",
       "<table border=\"1\" class=\"dataframe\">\n",
       "  <thead>\n",
       "    <tr style=\"text-align: right;\">\n",
       "      <th></th>\n",
       "      <th>Scientific Name</th>\n",
       "      <th>Common Name</th>\n",
       "    </tr>\n",
       "  </thead>\n",
       "  <tbody>\n",
       "    <tr>\n",
       "      <th>0</th>\n",
       "      <td>Carpinus betulus Lucas</td>\n",
       "      <td>Hornbeam - European</td>\n",
       "    </tr>\n",
       "    <tr>\n",
       "      <th>1</th>\n",
       "      <td>Prunus 'Pandora'</td>\n",
       "      <td>Cherry - Ornamental</td>\n",
       "    </tr>\n",
       "    <tr>\n",
       "      <th>2</th>\n",
       "      <td>Tilia unidentified species</td>\n",
       "      <td>Lime</td>\n",
       "    </tr>\n",
       "    <tr>\n",
       "      <th>3</th>\n",
       "      <td>Rosa unidentified species</td>\n",
       "      <td>None</td>\n",
       "    </tr>\n",
       "    <tr>\n",
       "      <th>4</th>\n",
       "      <td>Cedrus libani</td>\n",
       "      <td>Cedar of Lebanon</td>\n",
       "    </tr>\n",
       "  </tbody>\n",
       "</table>\n",
       "</div>"
      ],
      "text/plain": [
       "              Scientific Name          Common Name\n",
       "0      Carpinus betulus Lucas  Hornbeam - European\n",
       "1            Prunus 'Pandora'  Cherry - Ornamental\n",
       "2  Tilia unidentified species                 Lime\n",
       "3   Rosa unidentified species                 None\n",
       "4               Cedrus libani     Cedar of Lebanon"
      ]
     },
     "execution_count": 24,
     "metadata": {},
     "output_type": "execute_result"
    }
   ],
   "source": [
    "# Display the first few rows\n",
    "# TODO\n",
    "names.head()"
   ]
  },
  {
   "cell_type": "code",
   "execution_count": 25,
   "id": "d6b7cc1e-1ec9-4a5e-a526-23143c0702f7",
   "metadata": {},
   "outputs": [
    {
     "data": {
      "text/plain": [
       "(589, 2)"
      ]
     },
     "execution_count": 25,
     "metadata": {},
     "output_type": "execute_result"
    }
   ],
   "source": [
    "# Get the number of rows and columns\n",
    "# TODO\n",
    "names.shape"
   ]
  },
  {
   "cell_type": "code",
   "execution_count": 26,
   "id": "f349e0ba-c2d0-469b-9f16-530394e85446",
   "metadata": {},
   "outputs": [
    {
     "data": {
      "text/plain": [
       "Index(['Scientific Name', 'Common Name'], dtype='object')"
      ]
     },
     "execution_count": 26,
     "metadata": {},
     "output_type": "execute_result"
    }
   ],
   "source": [
    "# Get a list of all the columns in the dataframe\n",
    "# TODO\n",
    "names.columns"
   ]
  },
  {
   "cell_type": "code",
   "execution_count": 27,
   "id": "aa722c8d-db42-4d95-85cc-eb3d87bcdc5a",
   "metadata": {},
   "outputs": [
    {
     "data": {
      "text/plain": [
       "Scientific Name    object\n",
       "Common Name        object\n",
       "dtype: object"
      ]
     },
     "execution_count": 27,
     "metadata": {},
     "output_type": "execute_result"
    }
   ],
   "source": [
    "# List the data types of each column\n",
    "# TODO\n",
    "names.dtypes"
   ]
  },
  {
   "cell_type": "markdown",
   "id": "17473375-5a50-4709-9d87-8ba11c738dc9",
   "metadata": {},
   "source": [
    "<hr/>"
   ]
  },
  {
   "cell_type": "markdown",
   "id": "5034de69-86fd-4332-9fbd-9ce160540ded",
   "metadata": {},
   "source": [
    "### 2.4 Review\n",
    "At the end of this task you should have a good basic understanding of the contents and overall shape of the different data files.  If you don't, do back and review the outputs above."
   ]
  },
  {
   "cell_type": "markdown",
   "id": "0ba2d5d3-ad1e-4961-a2c6-c6ecd1bcc9e0",
   "metadata": {
    "tags": []
   },
   "source": [
    "## Task 3: Further Inspect the Datasets\n",
    "The initial inspection gave you a very high-level understanding of the data.  We will now drill a bit deeper and try to understand the data column-by-column.\n",
    "\n",
    "For columns with a string data type (`object` in Pandas) we have **qualitative** data.  It would be good to know how many *different* values we have in the column, what those values are and the *count* how many of each different value we have.  This will help us understand if the qualitative variable is **binary**, **nominal** or **ordinal**.\n",
    "\n",
    "For columns with a numeric data type (`int` or `float`) we have **quantitative** data.  Usually integer type variables can the thought of as **discrete** and float type variables can be thought of as **continuous**.  It would be good to know some summary descriptive statistics for these columns.   \n",
    "\n",
    "If you are unsure of what these different data classifications mean, read this:\n",
    "\n",
    "[Types of Variables](https://openclassrooms.com/en/courses/6037301-perform-an-initial-data-analysis/6051886-discover-the-four-variable-types)\n",
    "\n",
    "You can get the list of values and counts for a column using this function:\n",
    "\n",
    "[pandas.Series.value_counts](https://pandas.pydata.org/docs/reference/api/pandas.Series.value_counts.html)\n",
    "\n",
    "You can get the descriptive statistics for a DataFrame using this function:\n",
    "\n",
    "[pandas.DataFrame.describe](https://pandas.pydata.org/pandas-docs/stable/reference/api/pandas.DataFrame.describe.html)\n",
    "\n",
    "Note that Pandas may treat integer columns as floats if there are null values in the columns.  So if you see a float data type it might be worth checking the actual values to confirm if it really is a float or if it really is an int with nulls.  You can check the actual values with:\n",
    "\n",
    "[pandas.Series.unique](https://pandas.pydata.org/docs/reference/api/pandas.Series.unique.html)\n",
    "\n"
   ]
  },
  {
   "cell_type": "markdown",
   "id": "9899c07e-0430-49db-875a-6d5a629d6887",
   "metadata": {},
   "source": [
    "### 3.1 Further Inspect the Trees Dataset\n",
    "Let's start with the trees dataset.\n"
   ]
  },
  {
   "cell_type": "markdown",
   "id": "e220daf9-b12b-4d67-9253-6f61b1952e2f",
   "metadata": {},
   "source": [
    "#### 3.1.a Counts of Values for String Types Columns\n",
    "Go through each column that is a string (object) type and count the number of rows for each value in the column.  After each one, classify the data as binary, nominal or ordinal using a markdown comment.\n",
    "\n",
    "I've done the first one for you.\n"
   ]
  },
  {
   "cell_type": "markdown",
   "id": "3dd0dd30-406d-4635-888b-4157fa5e3f37",
   "metadata": {},
   "source": [
    "**Site Name**"
   ]
  },
  {
   "cell_type": "code",
   "execution_count": 28,
   "id": "3a4a0915-8d0e-45a2-a919-6b9fd49160da",
   "metadata": {},
   "outputs": [
    {
     "data": {
      "text/plain": [
       "WATERLOW PARK (LS)                         920\n",
       "Alexandra & Ainsworth Estate               289\n",
       "Belsize nature reserve, Russell Nursery    278\n",
       "Holly Lodge Estate                         272\n",
       "LINCOLN'S INN FIELDS, GARDENS (LS)         193\n",
       "                                          ... \n",
       "GOLDINGTON CRESCENT                          1\n",
       "ALLCROFT ROAD                                1\n",
       "WOBURN WALK, LAND BEHIND 4-18                1\n",
       "KILBURN PRIORY                               1\n",
       "GOODGE PLACE                                 1\n",
       "Name: Site Name, Length: 1135, dtype: int64"
      ]
     },
     "execution_count": 28,
     "metadata": {},
     "output_type": "execute_result"
    }
   ],
   "source": [
    "# List of values in Site Name column and their counts\n",
    "trees[\"Site Name\"].value_counts()"
   ]
  },
  {
   "cell_type": "markdown",
   "id": "9117ae6f-8ecb-429f-9e1e-84931d1291c2",
   "metadata": {},
   "source": [
    "Site Name is **qualitative nominal**."
   ]
  },
  {
   "cell_type": "markdown",
   "id": "62f1b4ef-e76a-4464-af20-70a31385091f",
   "metadata": {},
   "source": [
    "Now do the same on the other string columns.  Use `value_counts()` and then classify as binary, ordered or unordered using a markdown comment.  As you do each one, stop and look at the values and counts and think about how the data in the column might be useful for supporting the council's initiatives.  Don't just treat this as a mechanical copy/paste task. The objective is, after all, to get really intimate with the data!"
   ]
  },
  {
   "cell_type": "markdown",
   "id": "51845db9-18f6-4373-a8fc-e19492568561",
   "metadata": {},
   "source": [
    "<div style=\"background-color:lemonchiffon; border:1px solid; padding:5px; margin:5px; font-weight:bold\"><font color=\"crimson\">\n",
    "TODO: Enter your code below.  Use one code cell per column and then add a markdown cell after each one to classify the column as in the above example.  Add as many cells as you need.\n",
    "    </font></div>"
   ]
  },
  {
   "cell_type": "code",
   "execution_count": 29,
   "id": "1f38b812-f955-481d-8964-55ce58be0290",
   "metadata": {},
   "outputs": [
    {
     "data": {
      "text/plain": [
       "Highways              10062\n",
       "Housing                7500\n",
       "Parks                  4330\n",
       "Education              1288\n",
       "Corporate Landlord      264\n",
       "Name: Contract Area, dtype: int64"
      ]
     },
     "execution_count": 29,
     "metadata": {},
     "output_type": "execute_result"
    }
   ],
   "source": [
    "trees[\"Contract Area\"].value_counts()"
   ]
  },
  {
   "cell_type": "markdown",
   "id": "cfbafc42",
   "metadata": {},
   "source": [
    "Contract Area is **qualitative nominal**"
   ]
  },
  {
   "cell_type": "code",
   "execution_count": 30,
   "id": "8313de0e",
   "metadata": {},
   "outputs": [
    {
     "data": {
      "text/plain": [
       "Platanus x hispanica                                 3340\n",
       "Tilia europaea                                       1468\n",
       "Acer pseudoplatanus                                   941\n",
       "Betula pendula                                        765\n",
       "Fraxinus excelsior                                    754\n",
       "                                                     ... \n",
       "Vacant Tree Pit (planned: Populus tremula)              1\n",
       "Liriodendron fastigiata                                 1\n",
       "Sequoia sempervirens                                    1\n",
       "Sorbus x hybrida                                        1\n",
       "Vacant Tree Pit (planned: Acer rubrum 'Amstrong')       1\n",
       "Name: Scientific Name, Length: 543, dtype: int64"
      ]
     },
     "execution_count": 30,
     "metadata": {},
     "output_type": "execute_result"
    }
   ],
   "source": [
    "trees[\"Scientific Name\"].value_counts()"
   ]
  },
  {
   "cell_type": "markdown",
   "id": "909dacd2",
   "metadata": {},
   "source": [
    "Scientific Name is **qualitative nominal**"
   ]
  },
  {
   "cell_type": "code",
   "execution_count": 31,
   "id": "cce85194",
   "metadata": {},
   "outputs": [
    {
     "data": {
      "text/plain": [
       "2022/2023    7921\n",
       "2021/2022    7353\n",
       "2020/2021    6577\n",
       "2019/2020    1157\n",
       "2018/2019      16\n",
       "2017/2018       5\n",
       "2016/2017       4\n",
       "2001/2002       4\n",
       "2003/2004       2\n",
       "2006/2007       1\n",
       "2012/2013       1\n",
       "2013/2014       1\n",
       "2011/2012       1\n",
       "Name: Inspection Due Date, dtype: int64"
      ]
     },
     "execution_count": 31,
     "metadata": {},
     "output_type": "execute_result"
    }
   ],
   "source": [
    "trees[\"Inspection Due Date\"].value_counts()"
   ]
  },
  {
   "cell_type": "markdown",
   "id": "2b1c8010",
   "metadata": {},
   "source": [
    "Inspection Due Date is **quantitative ordinal**"
   ]
  },
  {
   "cell_type": "code",
   "execution_count": 32,
   "id": "bb1ed3dc",
   "metadata": {},
   "outputs": [
    {
     "data": {
      "text/plain": [
       "E05000137    2799\n",
       "E05000143    1832\n",
       "E05000134    1541\n",
       "E05000140    1540\n",
       "E05000139    1463\n",
       "E05000136    1424\n",
       "E05000135    1340\n",
       "E05000138    1293\n",
       "E05000132    1284\n",
       "E05000131    1231\n",
       "E05000133    1229\n",
       "E05000129    1008\n",
       "E05000142     989\n",
       "E05000144     978\n",
       "E05000130     899\n",
       "E05000145     853\n",
       "E05000141     824\n",
       "E05000128     691\n",
       "Name: Ward Code, dtype: int64"
      ]
     },
     "execution_count": 32,
     "metadata": {},
     "output_type": "execute_result"
    }
   ],
   "source": [
    "trees[\"Ward Code\"].value_counts()"
   ]
  },
  {
   "cell_type": "markdown",
   "id": "53cc695a",
   "metadata": {},
   "source": [
    "Ward Code is **quantitative nominal**"
   ]
  },
  {
   "cell_type": "code",
   "execution_count": 33,
   "id": "3eee205a",
   "metadata": {},
   "outputs": [
    {
     "data": {
      "text/plain": [
       "Highgate                          2799\n",
       "St Pancras and Somers Town        1832\n",
       "Gospel Oak                        1541\n",
       "Kilburn                           1540\n",
       "Kentish Town                      1463\n",
       "Haverstock                        1424\n",
       "Hampstead Town                    1340\n",
       "Holborn and Covent Garden         1293\n",
       "Fortune Green                     1284\n",
       "Cantelowes                        1231\n",
       "Frognal and Fitzjohns             1229\n",
       "Bloomsbury                        1008\n",
       "Regent's Park                      989\n",
       "Swiss Cottage                      978\n",
       "Camden Town with Primrose Hill     899\n",
       "West Hampstead                     853\n",
       "King's Cross                       824\n",
       "Belsize                            691\n",
       "Name: Ward Name, dtype: int64"
      ]
     },
     "execution_count": 33,
     "metadata": {},
     "output_type": "execute_result"
    }
   ],
   "source": [
    "trees[\"Ward Name\"].value_counts()"
   ]
  },
  {
   "cell_type": "markdown",
   "id": "7a8a1402",
   "metadata": {},
   "source": [
    "Ward Name is **qualitative nominal**"
   ]
  },
  {
   "cell_type": "code",
   "execution_count": 34,
   "id": "ccdf0197",
   "metadata": {},
   "outputs": [
    {
     "data": {
      "text/plain": [
       "(51.556205, -0.173776)    3\n",
       "(51.553475, -0.152668)    3\n",
       "(51.548133, -0.144922)    2\n",
       "(51.544482, -0.144465)    2\n",
       "(51.55468, -0.164744)     2\n",
       "                         ..\n",
       "(51.525312, -0.128846)    1\n",
       "(51.540297, -0.181512)    1\n",
       "(51.556013, -0.211326)    1\n",
       "(51.55969, -0.182457)     1\n",
       "(51.552397, -0.173397)    1\n",
       "Name: Location, Length: 23262, dtype: int64"
      ]
     },
     "execution_count": 34,
     "metadata": {},
     "output_type": "execute_result"
    }
   ],
   "source": [
    "trees[\"Location\"].value_counts()"
   ]
  },
  {
   "cell_type": "markdown",
   "id": "3d38de81",
   "metadata": {},
   "source": [
    "Location is **quantitative nominal**"
   ]
  },
  {
   "cell_type": "code",
   "execution_count": 35,
   "id": "0ee84bba",
   "metadata": {},
   "outputs": [
    {
     "data": {
      "text/plain": [
       "Mature            10225\n",
       "Middle aged        7779\n",
       "Juvenile           4393\n",
       "Not Applicable      377\n",
       "Over Mature         191\n",
       "Veteran              41\n",
       "Name: Maturity, dtype: int64"
      ]
     },
     "execution_count": 35,
     "metadata": {},
     "output_type": "execute_result"
    }
   ],
   "source": [
    "environmental[\"Maturity\"].value_counts()"
   ]
  },
  {
   "cell_type": "markdown",
   "id": "27fd43f7",
   "metadata": {},
   "source": [
    "Maturity is **qualitative ordinal**"
   ]
  },
  {
   "cell_type": "code",
   "execution_count": 36,
   "id": "435c0c3e",
   "metadata": {},
   "outputs": [
    {
     "data": {
      "text/plain": [
       "Good              12910\n",
       "Fair               9183\n",
       "Poor                357\n",
       "Not applicable      249\n",
       "Dead                236\n",
       "Excellent             8\n",
       "Name: Physiological Condition, dtype: int64"
      ]
     },
     "execution_count": 36,
     "metadata": {},
     "output_type": "execute_result"
    }
   ],
   "source": [
    "environmental[\"Physiological Condition\"].value_counts()"
   ]
  },
  {
   "cell_type": "markdown",
   "id": "bd94bc80",
   "metadata": {},
   "source": [
    "Physiological Condition is **qualitative ordinal**"
   ]
  },
  {
   "cell_type": "code",
   "execution_count": 37,
   "id": "7a4bc8c7",
   "metadata": {},
   "outputs": [
    {
     "data": {
      "text/plain": [
       "No     23331\n",
       "Yes       84\n",
       "Name: Tree Set To Be Removed, dtype: int64"
      ]
     },
     "execution_count": 37,
     "metadata": {},
     "output_type": "execute_result"
    }
   ],
   "source": [
    "environmental[\"Tree Set To Be Removed\"].value_counts()"
   ]
  },
  {
   "cell_type": "markdown",
   "id": "706fd014",
   "metadata": {},
   "source": [
    "Tree Set To Be Removed is **qualitative binary**"
   ]
  },
  {
   "cell_type": "code",
   "execution_count": 38,
   "id": "f273bae6",
   "metadata": {},
   "outputs": [
    {
     "data": {
      "text/plain": [
       "Dead, dying                    30\n",
       "Basal decay                    17\n",
       "Trunk decay                    10\n",
       "Tree defect                     5\n",
       "Crown die-back                  5\n",
       "Dog damage                      3\n",
       "Unsuitable location             3\n",
       "Newly planted tree failure      2\n",
       "Coppiced stump                  1\n",
       "Touching building/structure     1\n",
       "Crown decay                     1\n",
       "Split trunk                     1\n",
       "Broken/split branch             1\n",
       "Climber                         1\n",
       "No defects - work required      1\n",
       "Suppressed                      1\n",
       "ATRD                            1\n",
       "Name: Removal Reason, dtype: int64"
      ]
     },
     "execution_count": 38,
     "metadata": {},
     "output_type": "execute_result"
    }
   ],
   "source": [
    "environmental[\"Removal Reason\"].value_counts()"
   ]
  },
  {
   "cell_type": "markdown",
   "id": "482fb3db",
   "metadata": {},
   "source": [
    "Removal Reason is **qualitative nominal**"
   ]
  },
  {
   "cell_type": "code",
   "execution_count": 39,
   "id": "49ff123d",
   "metadata": {},
   "outputs": [
    {
     "data": {
      "text/plain": [
       "Cupressocyparis leylandii                             2\n",
       "Larix decidua                                         2\n",
       "Salix fragilis                                        2\n",
       "Alnus cordata                                         2\n",
       "Populus nigra                                         2\n",
       "                                                     ..\n",
       "Pyrus salicifolia 'Pendula'                           1\n",
       "Chamaecyparis lawsoniana 'unid                        1\n",
       "Platanus x hispanica Tremonia                         1\n",
       "Vacant Tree Pit (planned: Gymnocladus dioicus)        1\n",
       "Vacant Tree Pit (planned: Liquidambar styraciflua)    1\n",
       "Name: Scientific Name, Length: 560, dtype: int64"
      ]
     },
     "execution_count": 39,
     "metadata": {},
     "output_type": "execute_result"
    }
   ],
   "source": [
    "names[\"Scientific Name\"].value_counts()"
   ]
  },
  {
   "cell_type": "markdown",
   "id": "3bf02e0f",
   "metadata": {},
   "source": [
    "Scientific Name is **qualitative nominal**"
   ]
  },
  {
   "cell_type": "code",
   "execution_count": 40,
   "id": "763db862",
   "metadata": {},
   "outputs": [
    {
     "data": {
      "text/plain": [
       "Cherry                         12\n",
       "Rowan                          10\n",
       "Magnolia                       10\n",
       "Vacant Tree Pit (planned: )    10\n",
       "Apple - Crab                    9\n",
       "                               ..\n",
       "Pittosporum                     1\n",
       "Birch - Purple                  1\n",
       "Maple - Column Norway           1\n",
       "Maple - Crimson King Norway     1\n",
       "Castlewellan gold               1\n",
       "Name: Common Name, Length: 431, dtype: int64"
      ]
     },
     "execution_count": 40,
     "metadata": {},
     "output_type": "execute_result"
    }
   ],
   "source": [
    "names[\"Common Name\"].value_counts()"
   ]
  },
  {
   "cell_type": "markdown",
   "id": "0d457fb7",
   "metadata": {},
   "source": [
    "Common Name is **qualitative nominal**"
   ]
  },
  {
   "cell_type": "markdown",
   "id": "098f1891-aa39-4304-9845-13cf7041d27f",
   "metadata": {},
   "source": [
    "<hr/>"
   ]
  },
  {
   "cell_type": "markdown",
   "id": "65820ccc-8566-4b63-b141-7dffa8e9d067",
   "metadata": {},
   "source": [
    "#### 3.1.b Descriptive Stats for Numeric Type Columns\n",
    "Use the `describe()` function to get the descriptive stats for the numeric columns.\n",
    "\n",
    "For each column, classify the column as discrete or continuous (use the data type to guide you, but check any floats to confirm whether they are really floats or just ints with null values.  Use `pandas.Series.unique()` to check this).\n"
   ]
  },
  {
   "cell_type": "markdown",
   "id": "bef50831-d839-4dd0-833e-cabfda83cba4",
   "metadata": {},
   "source": [
    "<div style=\"background-color:lemonchiffon; border:1px solid; padding:5px; margin:5px; font-weight:bold\"><font color=\"crimson\">\n",
    "TODO: Complete the following code cells\n",
    "    </font></div>"
   ]
  },
  {
   "cell_type": "code",
   "execution_count": 41,
   "id": "0f449063-a7c5-4526-a057-fd20bd17ba6f",
   "metadata": {
    "scrolled": true
   },
   "outputs": [
    {
     "name": "stdout",
     "output_type": "stream",
     "text": [
      "Discrete Columns:\n",
      "['Number Of Trees', 'Easting', 'Northing']\n",
      "\n",
      "Continuous Columns:\n",
      "['Height In Metres', 'Spread In Metres', 'Diameter In Centimetres At Breast Height', 'Longitude', 'Latitude']\n"
     ]
    }
   ],
   "source": [
    "# Get the descriptive stats for the numeric columns\n",
    "# TODO\n",
    "descriptive_stats = trees.describe()\n",
    "\n",
    "# Initialize lists to store column classifications\n",
    "discrete_columns = []\n",
    "continuous_columns = []\n",
    "\n",
    "# Iterate through columns and classify them\n",
    "for column in trees.columns:\n",
    "    if trees[column].dtype == 'int64':\n",
    "        # Integer columns are considered discrete\n",
    "        discrete_columns.append(column)\n",
    "    elif trees[column].dtype == 'float64':\n",
    "        # Check if the float column contains only integer values (null values are allowed)\n",
    "        if trees[column].apply(lambda x: x.is_integer() if not pd.isna(x) else True).all():\n",
    "            discrete_columns.append(column)\n",
    "        else:\n",
    "            continuous_columns.append(column)\n",
    "\n",
    "# Print the results\n",
    "print(\"Discrete Columns:\")\n",
    "print(discrete_columns)\n",
    "print(\"\\nContinuous Columns:\")\n",
    "print(continuous_columns)"
   ]
  },
  {
   "cell_type": "code",
   "execution_count": 42,
   "id": "9b793f70-5799-4eb0-aa11-4cb38f86baba",
   "metadata": {},
   "outputs": [
    {
     "name": "stdout",
     "output_type": "stream",
     "text": [
      "Data Type: object\n",
      "  - Column: Identifier\n",
      "  - Column: Site Name\n",
      "  - Column: Contract Area\n",
      "  - Column: Scientific Name\n",
      "  - Column: Inspection Due Date\n",
      "  - Column: Ward Code\n",
      "  - Column: Ward Name\n",
      "  - Column: Location\n",
      "Data Type: float64\n",
      "  - Column: Number Of Trees\n",
      "  - Column: Height In Metres\n",
      "  - Column: Spread In Metres\n",
      "  - Column: Diameter In Centimetres At Breast Height\n",
      "  - Column: Longitude\n",
      "  - Column: Latitude\n",
      "Data Type: datetime64[ns]\n",
      "  - Column: Inspection Date\n",
      "Data Type: int64\n",
      "  - Column: Easting\n",
      "  - Column: Northing\n"
     ]
    }
   ],
   "source": [
    "# Remind ourselves of the data types\n",
    "# TODO\n",
    "data_types = trees.dtypes.unique()\n",
    "\n",
    "# Print the unique data types\n",
    "for data_type in data_types:\n",
    "    print(f\"Data Type: {data_type}\")\n",
    "    columns_with_data_type = trees.select_dtypes(include=[data_type]).columns\n",
    "    for column in columns_with_data_type:\n",
    "        print(f\"  - Column: {column}\")\n"
   ]
  },
  {
   "cell_type": "markdown",
   "id": "f8139d4e-5890-4d4d-bf64-850c9f783710",
   "metadata": {},
   "source": [
    "<hr/>\n",
    "\n",
    "Find out if floats are really floats or ints with nulls.\n",
    "\n",
    "<div style=\"background-color:lemonchiffon; border:1px solid; padding:5px; margin:5px; font-weight:bold\"><font color=\"crimson\">\n",
    "TODO: Enter your code below.  Use one code cell per column.   Add as many cells as you need.\n",
    "    </font></div>"
   ]
  },
  {
   "cell_type": "code",
   "execution_count": 43,
   "id": "ece0e5ee-9b62-43b7-ae9b-1c71086736f4",
   "metadata": {},
   "outputs": [
    {
     "name": "stdout",
     "output_type": "stream",
     "text": [
      "The values in column 'Number Of Trees' are integers (or nulls).\n",
      "The values in column 'Height In Metres' are not all integers (or nulls).\n",
      "The values in column 'Spread In Metres' are not all integers (or nulls).\n",
      "The values in column 'Diameter In Centimetres At Breast Height' are not all integers (or nulls).\n",
      "The values in column 'Longitude' are not all integers (or nulls).\n",
      "The values in column 'Latitude' are not all integers (or nulls).\n"
     ]
    }
   ],
   "source": [
    "# Check if floats are actually integers with nulls\n",
    "for column in trees.columns:\n",
    "    if trees[column].dtype == 'float64':\n",
    "        is_integer = trees[column].apply(lambda x: x.is_integer() if not pd.isna(x) else True).all()\n",
    "        if is_integer:\n",
    "            print(f\"The values in column '{column}' are integers (or nulls).\")\n",
    "        else:\n",
    "            print(f\"The values in column '{column}' are not all integers (or nulls).\")"
   ]
  },
  {
   "cell_type": "markdown",
   "id": "27c930e8-f1f0-45d1-851a-ac41f43fbdcd",
   "metadata": {},
   "source": [
    "\n",
    "<hr/>"
   ]
  },
  {
   "cell_type": "markdown",
   "id": "de74dc7d-a346-42ba-9def-8d07b1ef1e0c",
   "metadata": {},
   "source": [
    "Classify the columns as discrete or continuous.\n",
    "\n",
    "<div style=\"background-color:lemonchiffon; border:1px solid; padding:5px; margin:5px; font-weight:bold\"><font color=\"crimson\">\n",
    "TODO: Enter markdown below.\n",
    "</div>"
   ]
  },
  {
   "cell_type": "markdown",
   "id": "5a7931f5-fac2-4181-84d6-b4999e983057",
   "metadata": {},
   "source": [
    "Discrete Columns:\n",
    "**'Number Of Trees', 'Easting', 'Northing'**\n",
    "\n",
    "Continuous Columns:\n",
    "**'Height In Metres', 'Spread In Metres', 'Diameter In Centimetres At Breast Height', 'Longitude', 'Latitude'**"
   ]
  },
  {
   "cell_type": "markdown",
   "id": "4ee2e405-e35f-49d7-bcd6-00c12d31fa8d",
   "metadata": {},
   "source": [
    "<hr/>"
   ]
  },
  {
   "cell_type": "markdown",
   "id": "90c6e10d-2f2e-4003-b983-f60870b6fc1a",
   "metadata": {},
   "source": [
    "### 3.2 Further Inspect the Environmental Dataset\n",
    "Now repeat the above for the environmental dataset.\n",
    "\n",
    "#### 3.2.a Counts of Values for String Type Columns \n",
    "For each string column in the environmental dataset show the counts of the unique values."
   ]
  },
  {
   "cell_type": "markdown",
   "id": "f077e892-01db-426e-9cae-e59a6b0940be",
   "metadata": {},
   "source": [
    "<div style=\"background-color:lemonchiffon; border:1px solid; padding:5px; margin:5px; font-weight:bold\"><font color=\"crimson\">\n",
    "    TODO: Enter your code below.  Use one code cell per column and then add a markdown cell after each one to classify the column.  Add as many cells as you need.\n",
    "</font></div>"
   ]
  },
  {
   "cell_type": "code",
   "execution_count": 44,
   "id": "42820e50",
   "metadata": {},
   "outputs": [
    {
     "name": "stdout",
     "output_type": "stream",
     "text": [
      "Identifier                 23415\n",
      "Maturity                       6\n",
      "Physiological Condition        6\n",
      "Tree Set To Be Removed         2\n",
      "Removal Reason                17\n",
      "dtype: int64\n"
     ]
    }
   ],
   "source": [
    "# Get the number of unique values for each string column\n",
    "string_columns = environmental.select_dtypes(include=['object'])\n",
    "unique_value_counts = string_columns.nunique()\n",
    "\n",
    "# Display the unique value counts for each string column\n",
    "print(unique_value_counts)"
   ]
  },
  {
   "cell_type": "markdown",
   "id": "4bdb155f",
   "metadata": {},
   "source": [
    "**Identifier**: 23415"
   ]
  },
  {
   "cell_type": "markdown",
   "id": "3404384e",
   "metadata": {},
   "source": [
    "**Maturity**: 6"
   ]
  },
  {
   "cell_type": "markdown",
   "id": "1f351525",
   "metadata": {},
   "source": [
    "**Physiological Condition**: 6"
   ]
  },
  {
   "cell_type": "markdown",
   "id": "2f24fd96",
   "metadata": {},
   "source": [
    "**Tree Set To Be Removed**: 2"
   ]
  },
  {
   "cell_type": "markdown",
   "id": "40641fde",
   "metadata": {},
   "source": [
    "**Removal Reason**: 17"
   ]
  },
  {
   "cell_type": "markdown",
   "id": "fa84e8d1-57aa-483b-bb38-e54a07e6aff8",
   "metadata": {},
   "source": [
    "<hr/>"
   ]
  },
  {
   "cell_type": "markdown",
   "id": "5c9ae370-ab1f-43f3-ba17-5dd062a2cbf1",
   "metadata": {},
   "source": [
    "#### 3.2.b Descriptive Stats for Numeric Type Columns\n",
    "For each numeric column in the environmental dataset show the descriptive stats"
   ]
  },
  {
   "cell_type": "markdown",
   "id": "eafafa68-7cf4-4f9d-bbe1-7513151aa727",
   "metadata": {},
   "source": [
    "<div style=\"background-color:lemonchiffon; border:1px solid; padding:5px; margin:5px; font-weight:bold\"><font color=\"crimson\">\n",
    "TODO: Complete the following code cells\n",
    "    </font></div>"
   ]
  },
  {
   "cell_type": "code",
   "execution_count": 45,
   "id": "4380cd76-3b4c-4488-8b5d-b8429c747228",
   "metadata": {},
   "outputs": [
    {
     "name": "stdout",
     "output_type": "stream",
     "text": [
      "Discrete Columns:\n",
      "[]\n",
      "\n",
      "Continuous Columns:\n",
      "['Capital Asset Value For Amenity Trees', 'Carbon Storage In Kilograms', 'Gross Carbon Sequestration Per Year In Kilograms', 'Pollution Removal Per Year In Grams']\n"
     ]
    }
   ],
   "source": [
    "# Get the descriptive stats for the numeric columns\n",
    "# TODO\n",
    "descriptive_stats = environmental.describe()\n",
    "\n",
    "# Initialize lists to store column classifications\n",
    "discrete_columns = []\n",
    "continuous_columns = []\n",
    "\n",
    "# Iterate through columns and classify them\n",
    "for column in environmental.columns:\n",
    "    if environmental[column].dtype == 'int64':\n",
    "        # Integer columns are considered discrete\n",
    "        discrete_columns.append(column)\n",
    "    elif environmental[column].dtype == 'float64':\n",
    "        # Check if the float column contains only integer values (null values are allowed)\n",
    "        if environmental[column].apply(lambda x: x.is_integer() if not pd.isna(x) else True).all():\n",
    "            discrete_columns.append(column)\n",
    "        else:\n",
    "            continuous_columns.append(column)\n",
    "\n",
    "# Print the results\n",
    "print(\"Discrete Columns:\")\n",
    "print(discrete_columns)\n",
    "print(\"\\nContinuous Columns:\")\n",
    "print(continuous_columns)"
   ]
  },
  {
   "cell_type": "markdown",
   "id": "eb227586-d79a-46b9-a665-854b330a4c72",
   "metadata": {},
   "source": [
    "<hr/>\n",
    "\n",
    "Find out if floats are really floats or ints with nulls.\n",
    "\n",
    "<div style=\"background-color:lemonchiffon; border:1px solid; padding:5px; margin:5px; font-weight:bold\"><font color=\"crimson\">\n",
    "TODO: Enter your code below.  Use one code cell per column.   Add as many cells as you need.\n",
    "    </font></div>"
   ]
  },
  {
   "cell_type": "code",
   "execution_count": 46,
   "id": "20d9ddc5-3be9-4836-bc1a-5974d9b6b6b8",
   "metadata": {},
   "outputs": [
    {
     "name": "stdout",
     "output_type": "stream",
     "text": [
      "The values in column 'Capital Asset Value For Amenity Trees' are not all integers (or nulls).\n",
      "The values in column 'Carbon Storage In Kilograms' are not all integers (or nulls).\n",
      "The values in column 'Gross Carbon Sequestration Per Year In Kilograms' are not all integers (or nulls).\n",
      "The values in column 'Pollution Removal Per Year In Grams' are not all integers (or nulls).\n"
     ]
    }
   ],
   "source": [
    "# Check if floats are actually integers with nulls\n",
    "for column in environmental.columns:\n",
    "    if environmental[column].dtype == 'float64':\n",
    "        is_integer = environmental[column].apply(lambda x: x.is_integer() if not pd.isna(x) else True).all()\n",
    "        if is_integer:\n",
    "            print(f\"The values in column '{column}' are integers (or nulls).\")\n",
    "        else:\n",
    "            print(f\"The values in column '{column}' are not all integers (or nulls).\")"
   ]
  },
  {
   "cell_type": "markdown",
   "id": "6d550cf1-defa-4c65-9fcf-7d334a0c8899",
   "metadata": {},
   "source": [
    "<hr/>"
   ]
  },
  {
   "cell_type": "markdown",
   "id": "8bda5350-317b-43c1-91b1-71aeedf06ed3",
   "metadata": {},
   "source": [
    "\n",
    "Classify the columns as discrete or continuous.\n",
    "\n",
    "<div style=\"background-color:lemonchiffon; border:1px solid; padding:5px; margin:5px; font-weight:bold\"><font color=\"crimson\">\n",
    "TODO: Enter markdown below.\n",
    "    </font></div>\n"
   ]
  },
  {
   "cell_type": "markdown",
   "id": "22d8ff65",
   "metadata": {},
   "source": [
    "**Discrete Columns**:\n",
    "\n",
    "\n",
    "**Continuous Columns**:\n",
    "'Capital Asset Value For Amenity Trees', 'Carbon Storage In Kilograms', 'Gross Carbon Sequestration Per Year In Kilograms', 'Pollution Removal Per Year In Grams'"
   ]
  },
  {
   "cell_type": "markdown",
   "id": "1467aacd-ee75-46c9-b1d9-753c78869723",
   "metadata": {},
   "source": [
    "<hr/>"
   ]
  },
  {
   "cell_type": "markdown",
   "id": "5edacbd1-2ef6-4719-acc7-2d8f630d4195",
   "metadata": {},
   "source": [
    "### 3.3 Further Inspect the Common Names Dataset\n",
    "Now repeat the above for the common names dataset.\n",
    "\n",
    "#### 3.3.a (Names) Counts of Values for String Type Columns \n",
    "For each string column in the common names dataset show the counts of the unique values.\n",
    "\n",
    "<div style=\"background-color:lemonchiffon; border:1px solid; padding:5px; margin:5px; font-weight:bold\"><font color=\"crimson\">\n",
    "<font color=\"crimson\">TODO: Enter your code below.  Use one code cell per column and then add a markdown cell after each one to classify the column.  Add as many cells as you need.</font>\n",
    "    </font></div>\n"
   ]
  },
  {
   "cell_type": "code",
   "execution_count": 47,
   "id": "0c83c5e3-e84a-4e29-a05c-2c10b7d5dfb0",
   "metadata": {},
   "outputs": [
    {
     "name": "stdout",
     "output_type": "stream",
     "text": [
      "Scientific Name    560\n",
      "Common Name        431\n",
      "dtype: int64\n"
     ]
    }
   ],
   "source": [
    "# Get the number of unique values for each string column\n",
    "string_columns = names.select_dtypes(include=['object'])\n",
    "unique_value_counts = string_columns.nunique()\n",
    "\n",
    "# Display the unique value counts for each string column\n",
    "print(unique_value_counts)"
   ]
  },
  {
   "cell_type": "markdown",
   "id": "842fcd4c",
   "metadata": {},
   "source": [
    "**Scientific Name**: 560"
   ]
  },
  {
   "cell_type": "markdown",
   "id": "b09ad48c",
   "metadata": {},
   "source": [
    "**Common Name**: 431"
   ]
  },
  {
   "cell_type": "markdown",
   "id": "2778e230-5042-42eb-b51a-022a1c9710cc",
   "metadata": {},
   "source": [
    "<hr/>\n"
   ]
  },
  {
   "cell_type": "code",
   "execution_count": 48,
   "id": "24d74965",
   "metadata": {},
   "outputs": [
    {
     "name": "stdout",
     "output_type": "stream",
     "text": [
      "Discrete Columns:\n",
      "[]\n",
      "\n",
      "Continuous Columns:\n",
      "[]\n"
     ]
    }
   ],
   "source": [
    "# Get the descriptive stats for the numeric columns\n",
    "# TODO\n",
    "descriptive_stats = names.describe()\n",
    "\n",
    "# Initialize lists to store column classifications\n",
    "discrete_columns = []\n",
    "continuous_columns = []\n",
    "\n",
    "# Iterate through columns and classify them\n",
    "for column in names.columns:\n",
    "    if names[column].dtype == 'int64':\n",
    "        # Integer columns are considered discrete\n",
    "        discrete_columns.append(column)\n",
    "    elif names[column].dtype == 'float64':\n",
    "        # Check if the float column contains only integer values (null values are allowed)\n",
    "        if names[column].apply(lambda x: x.is_integer() if not pd.isna(x) else True).all():\n",
    "            discrete_columns.append(column)\n",
    "        else:\n",
    "            continuous_columns.append(column)\n",
    "\n",
    "# Print the results\n",
    "print(\"Discrete Columns:\")\n",
    "print(discrete_columns)\n",
    "print(\"\\nContinuous Columns:\")\n",
    "print(continuous_columns)"
   ]
  },
  {
   "cell_type": "markdown",
   "id": "8b9a614c-0c3f-41f1-9b30-7259bcb3a2d3",
   "metadata": {},
   "source": [
    "#### 3.3.b (Names) Descriptive Stats for Numeric Type Columns\n",
    "There are no numeric columns."
   ]
  },
  {
   "cell_type": "markdown",
   "id": "8641574f-7ee8-4cac-98d9-4c33a54891af",
   "metadata": {
    "tags": []
   },
   "source": [
    "## Task 4: Identify Missing Values\n",
    "Find the number of missing values in each column.  Missing values can indicate data quality issues.  Missing are nulls in our data.  But sometimes zero values indicate missing values.  For example, a zero value for a tree height is clearly not a valid valid, so should be considered missing.\n",
    "\n",
    "Use these functions to find rows that have missing and zero values:\n",
    "\n",
    "- [pandas.DataFrame.isnull](https://pandas.pydata.org/docs/reference/api/pandas.DataFrame.isnull.html)\n",
    "- [pandas.DataFrame.isin](https://pandas.pydata.org/docs/reference/api/pandas.DataFrame.isin.html)\n",
    "- [pandas.DataFrame.mean](https://pandas.pydata.org/pandas-docs/stable/reference/api/pandas.DataFrame.mean.html)\n",
    "- [pandas.DataFrame.sum](https://pandas.pydata.org/docs/reference/api/pandas.DataFrame.sum.html)\n",
    "\n",
    "As you go through this task, think about the possible impact of the missing values on the ability of the data to deliver on the council's initiatives.  There is no absolute answer to \"how many missing values is too many\".  It depends on the context of what you intend to do with the data.  Try to make an interpretation based on your understanding of the requirements."
   ]
  },
  {
   "cell_type": "markdown",
   "id": "5ee7f2e0-20bf-4249-9f5d-57ab6cc0fa30",
   "metadata": {},
   "source": [
    "### 4.1 Missing Values for the Trees Dataset\n",
    "I've shown you how to do this for the trees dataset."
   ]
  },
  {
   "cell_type": "code",
   "execution_count": 49,
   "id": "0bd1e712-9211-44f8-a22c-fb1df46c1961",
   "metadata": {},
   "outputs": [
    {
     "data": {
      "text/plain": [
       "Identifier                                  0.000000\n",
       "Number Of Trees                             0.093841\n",
       "Site Name                                   0.000000\n",
       "Contract Area                               0.000000\n",
       "Scientific Name                             0.000000\n",
       "Inspection Date                             1.710459\n",
       "Inspection Due Date                         1.710459\n",
       "Height In Metres                            1.868282\n",
       "Spread In Metres                            1.868282\n",
       "Diameter In Centimetres At Breast Height    1.872547\n",
       "Ward Code                                   0.963999\n",
       "Ward Name                                   0.963999\n",
       "Easting                                     0.000000\n",
       "Northing                                    0.000000\n",
       "Longitude                                   0.238867\n",
       "Latitude                                    0.238867\n",
       "Location                                    0.238867\n",
       "dtype: float64"
      ]
     },
     "execution_count": 49,
     "metadata": {},
     "output_type": "execute_result"
    }
   ],
   "source": [
    "# Percentage of null values\n",
    "trees.isnull().mean()*100"
   ]
  },
  {
   "cell_type": "code",
   "execution_count": 50,
   "id": "afbf5093-5716-440a-8f89-eeb6a5d66662",
   "metadata": {},
   "outputs": [
    {
     "data": {
      "text/plain": [
       "Identifier                                    0\n",
       "Number Of Trees                              22\n",
       "Site Name                                     0\n",
       "Contract Area                                 0\n",
       "Scientific Name                               0\n",
       "Inspection Date                             401\n",
       "Inspection Due Date                         401\n",
       "Height In Metres                            438\n",
       "Spread In Metres                            438\n",
       "Diameter In Centimetres At Breast Height    439\n",
       "Ward Code                                   226\n",
       "Ward Name                                   226\n",
       "Easting                                       0\n",
       "Northing                                      0\n",
       "Longitude                                    56\n",
       "Latitude                                     56\n",
       "Location                                     56\n",
       "dtype: int64"
      ]
     },
     "execution_count": 50,
     "metadata": {},
     "output_type": "execute_result"
    }
   ],
   "source": [
    "# Number of null values\n",
    "trees.isnull().sum()"
   ]
  },
  {
   "cell_type": "code",
   "execution_count": 51,
   "id": "cde99d54-297d-41d8-954d-94ba2e08a2c5",
   "metadata": {},
   "outputs": [
    {
     "data": {
      "text/plain": [
       "Identifier                                  0.000000\n",
       "Number Of Trees                             0.396690\n",
       "Site Name                                   0.000000\n",
       "Contract Area                               0.000000\n",
       "Scientific Name                             0.000000\n",
       "Inspection Date                             0.000000\n",
       "Inspection Due Date                         0.000000\n",
       "Height In Metres                            0.733663\n",
       "Spread In Metres                            1.181539\n",
       "Diameter In Centimetres At Breast Height    1.164477\n",
       "Ward Code                                   0.000000\n",
       "Ward Name                                   0.000000\n",
       "Easting                                     0.238867\n",
       "Northing                                    0.238867\n",
       "Longitude                                   0.000000\n",
       "Latitude                                    0.000000\n",
       "Location                                    0.000000\n",
       "dtype: float64"
      ]
     },
     "execution_count": 51,
     "metadata": {},
     "output_type": "execute_result"
    }
   ],
   "source": [
    "# Percentage of zero values\n",
    "trees.isin([0]).mean()*100"
   ]
  },
  {
   "cell_type": "code",
   "execution_count": 52,
   "id": "d0947b5d-8978-46d8-8d57-252d29c25ca8",
   "metadata": {},
   "outputs": [
    {
     "data": {
      "text/plain": [
       "Identifier                                    0\n",
       "Number Of Trees                              93\n",
       "Site Name                                     0\n",
       "Contract Area                                 0\n",
       "Scientific Name                               0\n",
       "Inspection Date                               0\n",
       "Inspection Due Date                           0\n",
       "Height In Metres                            172\n",
       "Spread In Metres                            277\n",
       "Diameter In Centimetres At Breast Height    273\n",
       "Ward Code                                     0\n",
       "Ward Name                                     0\n",
       "Easting                                      56\n",
       "Northing                                     56\n",
       "Longitude                                     0\n",
       "Latitude                                      0\n",
       "Location                                      0\n",
       "dtype: int64"
      ]
     },
     "execution_count": 52,
     "metadata": {},
     "output_type": "execute_result"
    }
   ],
   "source": [
    "# Number of zero values\n",
    "trees.isin([0]).sum()"
   ]
  },
  {
   "cell_type": "code",
   "execution_count": 53,
   "id": "de03ea2b-8ea2-48ff-b620-d9fd16290c7b",
   "metadata": {},
   "outputs": [
    {
     "data": {
      "text/plain": [
       "Identifier                                  0.000000\n",
       "Number Of Trees                             0.490531\n",
       "Site Name                                   0.000000\n",
       "Contract Area                               0.000000\n",
       "Scientific Name                             0.000000\n",
       "Inspection Date                             1.710459\n",
       "Inspection Due Date                         1.710459\n",
       "Height In Metres                            2.601945\n",
       "Spread In Metres                            3.049821\n",
       "Diameter In Centimetres At Breast Height    3.037024\n",
       "Ward Code                                   0.963999\n",
       "Ward Name                                   0.963999\n",
       "Easting                                     0.238867\n",
       "Northing                                    0.238867\n",
       "Longitude                                   0.238867\n",
       "Latitude                                    0.238867\n",
       "Location                                    0.238867\n",
       "dtype: float64"
      ]
     },
     "execution_count": 53,
     "metadata": {},
     "output_type": "execute_result"
    }
   ],
   "source": [
    "# Percentage of null and zero values\n",
    "(trees.isnull().sum() + trees.isin([0]).sum())/trees.shape[0]*100"
   ]
  },
  {
   "cell_type": "code",
   "execution_count": 54,
   "id": "f43e38e0-00c6-4ebd-9899-8f91557becb7",
   "metadata": {},
   "outputs": [
    {
     "data": {
      "text/plain": [
       "Identifier                                    0\n",
       "Number Of Trees                             115\n",
       "Site Name                                     0\n",
       "Contract Area                                 0\n",
       "Scientific Name                               0\n",
       "Inspection Date                             401\n",
       "Inspection Due Date                         401\n",
       "Height In Metres                            610\n",
       "Spread In Metres                            715\n",
       "Diameter In Centimetres At Breast Height    712\n",
       "Ward Code                                   226\n",
       "Ward Name                                   226\n",
       "Easting                                      56\n",
       "Northing                                     56\n",
       "Longitude                                    56\n",
       "Latitude                                     56\n",
       "Location                                     56\n",
       "dtype: int64"
      ]
     },
     "execution_count": 54,
     "metadata": {},
     "output_type": "execute_result"
    }
   ],
   "source": [
    "# Number of null and zero values\n",
    "(trees.isnull().sum() + trees.isin([0]).sum())"
   ]
  },
  {
   "cell_type": "markdown",
   "id": "a7416001-4d63-4bd5-9bea-2412d322ed88",
   "metadata": {},
   "source": [
    "### 4.2 Missing Values for the Environmental Dataset\n",
    "Now repeat the missing values check for the environmental dataset.\n",
    "\n",
    "<div style=\"background-color:lemonchiffon; border:1px solid; padding:5px; margin:5px; font-weight:bold\"><font color=\"crimson\">\n",
    "TODO: Complete the following code cells\n",
    "    </font></div>"
   ]
  },
  {
   "cell_type": "code",
   "execution_count": 55,
   "id": "45971fda-0b80-4652-bc63-ed8baeaad087",
   "metadata": {},
   "outputs": [
    {
     "data": {
      "text/plain": [
       "Identifier                                           0.000000\n",
       "Maturity                                             1.746744\n",
       "Physiological Condition                              2.015802\n",
       "Tree Set To Be Removed                               0.000000\n",
       "Removal Reason                                      99.641256\n",
       "Capital Asset Value For Amenity Trees                1.849242\n",
       "Carbon Storage In Kilograms                         12.214392\n",
       "Gross Carbon Sequestration Per Year In Kilograms    12.214392\n",
       "Pollution Removal Per Year In Grams                 12.214392\n",
       "dtype: float64"
      ]
     },
     "execution_count": 55,
     "metadata": {},
     "output_type": "execute_result"
    }
   ],
   "source": [
    "# Percentage of null values\n",
    "# TODO\n",
    "environmental.isnull().mean()*100"
   ]
  },
  {
   "cell_type": "code",
   "execution_count": 56,
   "id": "35471141-aca6-453d-afc8-babde8975f14",
   "metadata": {},
   "outputs": [
    {
     "data": {
      "text/plain": [
       "Identifier                                              0\n",
       "Maturity                                              409\n",
       "Physiological Condition                               472\n",
       "Tree Set To Be Removed                                  0\n",
       "Removal Reason                                      23331\n",
       "Capital Asset Value For Amenity Trees                 433\n",
       "Carbon Storage In Kilograms                          2860\n",
       "Gross Carbon Sequestration Per Year In Kilograms     2860\n",
       "Pollution Removal Per Year In Grams                  2860\n",
       "dtype: int64"
      ]
     },
     "execution_count": 56,
     "metadata": {},
     "output_type": "execute_result"
    }
   ],
   "source": [
    "# Number of null values\n",
    "# TODO\n",
    "environmental.isnull().sum()"
   ]
  },
  {
   "cell_type": "code",
   "execution_count": 57,
   "id": "333f86d0-8443-48b5-ba17-6bb91cfd1190",
   "metadata": {},
   "outputs": [
    {
     "data": {
      "text/plain": [
       "Identifier                                          0.000000\n",
       "Maturity                                            0.000000\n",
       "Physiological Condition                             0.000000\n",
       "Tree Set To Be Removed                              0.000000\n",
       "Removal Reason                                      0.000000\n",
       "Capital Asset Value For Amenity Trees               1.183002\n",
       "Carbon Storage In Kilograms                         0.000000\n",
       "Gross Carbon Sequestration Per Year In Kilograms    0.025625\n",
       "Pollution Removal Per Year In Grams                 0.000000\n",
       "dtype: float64"
      ]
     },
     "execution_count": 57,
     "metadata": {},
     "output_type": "execute_result"
    }
   ],
   "source": [
    "# Percentage of zero values\n",
    "# TODO\n",
    "environmental.isin([0]).mean()*100"
   ]
  },
  {
   "cell_type": "code",
   "execution_count": 58,
   "id": "809d3c20-113f-4665-b18d-cbdaa07b613c",
   "metadata": {},
   "outputs": [
    {
     "data": {
      "text/plain": [
       "Identifier                                            0\n",
       "Maturity                                              0\n",
       "Physiological Condition                               0\n",
       "Tree Set To Be Removed                                0\n",
       "Removal Reason                                        0\n",
       "Capital Asset Value For Amenity Trees               277\n",
       "Carbon Storage In Kilograms                           0\n",
       "Gross Carbon Sequestration Per Year In Kilograms      6\n",
       "Pollution Removal Per Year In Grams                   0\n",
       "dtype: int64"
      ]
     },
     "execution_count": 58,
     "metadata": {},
     "output_type": "execute_result"
    }
   ],
   "source": [
    "# Number of zero values\n",
    "# TODO\n",
    "environmental.isin([0]).sum()"
   ]
  },
  {
   "cell_type": "code",
   "execution_count": 59,
   "id": "bbada47a-e7aa-43be-bfca-624feda60cb7",
   "metadata": {},
   "outputs": [
    {
     "data": {
      "text/plain": [
       "Identifier                                           0.000000\n",
       "Maturity                                             1.746744\n",
       "Physiological Condition                              2.015802\n",
       "Tree Set To Be Removed                               0.000000\n",
       "Removal Reason                                      99.641256\n",
       "Capital Asset Value For Amenity Trees                3.032244\n",
       "Carbon Storage In Kilograms                         12.214392\n",
       "Gross Carbon Sequestration Per Year In Kilograms    12.240017\n",
       "Pollution Removal Per Year In Grams                 12.214392\n",
       "dtype: float64"
      ]
     },
     "execution_count": 59,
     "metadata": {},
     "output_type": "execute_result"
    }
   ],
   "source": [
    "# Percentage of null and zero values\n",
    "# TODO\n",
    "(environmental.isnull().sum() + environmental.isin([0]).sum())/environmental.shape[0]*100"
   ]
  },
  {
   "cell_type": "code",
   "execution_count": 60,
   "id": "27dcd851-d4a3-4014-9167-9330c033738d",
   "metadata": {},
   "outputs": [
    {
     "data": {
      "text/plain": [
       "Identifier                                              0\n",
       "Maturity                                              409\n",
       "Physiological Condition                               472\n",
       "Tree Set To Be Removed                                  0\n",
       "Removal Reason                                      23331\n",
       "Capital Asset Value For Amenity Trees                 710\n",
       "Carbon Storage In Kilograms                          2860\n",
       "Gross Carbon Sequestration Per Year In Kilograms     2866\n",
       "Pollution Removal Per Year In Grams                  2860\n",
       "dtype: int64"
      ]
     },
     "execution_count": 60,
     "metadata": {},
     "output_type": "execute_result"
    }
   ],
   "source": [
    "# Number of null and zero values\n",
    "# TODO\n",
    "(environmental.isnull().sum() + environmental.isin([0]).sum())"
   ]
  },
  {
   "cell_type": "markdown",
   "id": "cc5e09d4-fc27-454c-8462-f918e46a241e",
   "metadata": {},
   "source": [
    "<hr/>"
   ]
  },
  {
   "cell_type": "markdown",
   "id": "86bc5c0f-498e-47f1-b993-5ae66b325fc1",
   "metadata": {},
   "source": [
    "### 4.3 Missing Values for the Common Names Dataset\n",
    "Now repeat the missing values check for the common names dataset.\n",
    "\n",
    "<div style=\"background-color:lemonchiffon; border:1px solid; padding:5px; margin:5px; font-weight:bold\"><font color=\"crimson\">\n",
    "TODO: Enter your code below.  Add as many cells as you need.\n",
    "    </font></div>"
   ]
  },
  {
   "cell_type": "code",
   "execution_count": 61,
   "id": "84581b31-98a4-4b20-a7b3-af1685cf0131",
   "metadata": {},
   "outputs": [
    {
     "data": {
      "text/plain": [
       "Scientific Name    0.000000\n",
       "Common Name        4.074703\n",
       "dtype: float64"
      ]
     },
     "execution_count": 61,
     "metadata": {},
     "output_type": "execute_result"
    }
   ],
   "source": [
    "# 0 has been considered as missing\n",
    "(names.isnull().sum() + names.isin([0]).sum())/names.shape[0]*100"
   ]
  },
  {
   "cell_type": "code",
   "execution_count": 62,
   "id": "b881b1d4-661d-46f6-943a-a5037f98facb",
   "metadata": {},
   "outputs": [
    {
     "data": {
      "text/plain": [
       "Scientific Name     0\n",
       "Common Name        24\n",
       "dtype: int64"
      ]
     },
     "execution_count": 62,
     "metadata": {},
     "output_type": "execute_result"
    }
   ],
   "source": [
    "# 0 has been considered as missing\n",
    "(names.isnull().sum() + names.isin([0]).sum())"
   ]
  },
  {
   "cell_type": "markdown",
   "id": "fe30f689-88b0-4526-abae-1e19a320acf9",
   "metadata": {},
   "source": [
    "<hr/>\n",
    "\n",
    "### 4.4 Observations\n",
    "\n",
    "<div style=\"background-color:lemonchiffon; border:1px solid; padding:5px; margin:5px; font-weight:bold\"><font color=\"crimson\">\n",
    "TODO: Write down your observation about the state of missing values below and comment on the extent to which this might impact the ability to deliver on the council's initiatives.\n",
    "    </font></div>\n"
   ]
  },
  {
   "cell_type": "markdown",
   "id": "ec7ce6ee-8fd6-446a-a63a-08babd1e0390",
   "metadata": {},
   "source": [
    "For the trees dataset, the data looks very reliable to use. The highest combined percentage of missing values adds up to just over 3%, which for a dataset of around 23,000 values will not make a difference large enough to massively change the outcome of the data.\n",
    "\n",
    "For the environmental dataset, there is a high percentage of null values, especially compared to the trees dataset. This could be due to faulty equipment recording the data or human error when recording the data. These high percentages of null/zero values could easily have an effect on the real outcome that this data is trying to display. I am not too concerned about the removal reason column being 99%+ as there are only a small amount of trees that have actually been removed.\n",
    "\n",
    "Lastly, I am not concerned about the missing data in the names dataset as the highest combined percentage of missing data is just over 4%.\n",
    "\n"
   ]
  },
  {
   "cell_type": "markdown",
   "id": "a4094437-06e3-4376-9c94-14e30a910c36",
   "metadata": {},
   "source": [
    "\n",
    "<hr/>"
   ]
  },
  {
   "cell_type": "markdown",
   "id": "33d42c68-e660-4892-b2de-0552a062c7ff",
   "metadata": {
    "tags": []
   },
   "source": [
    "## Task 5: Identify Outliers in the Trees Dimensions\n",
    "Outliers are values that are so unusual they are possibly incorrect!  We can use a boxplot to show the spread of data and any outliers.  Read the following section if you are unfamiliar with them:\n",
    "\n",
    "- [Box plots](https://openclassrooms.com/en/courses/6037301-perform-an-initial-data-analysis/6052306-calculate-the-value-spread-in-your-data#/id/r-6133902)\n",
    "\n",
    "Any circles represent what the boxplot considers outliers, but some of these might just be correct but extreme values.  We want to only highlight really *crazy* values which are clearly incorrect.\n",
    "\n",
    "We can use this function to draw boxplots:\n",
    "\n",
    "- [pandas.DataFrame.boxplot](https://pandas.pydata.org/pandas-docs/stable/reference/api/pandas.DataFrame.plot.html)\n",
    "\n",
    "Once we have found if there are outliers, it would be nice to show the rows containing the outliers.  The technique for filtering Pandas DataFrames is described here:\n",
    "\n",
    "- [Filtering Pandas DataFrames](https://pandas.pydata.org/pandas-docs/stable/getting_started/intro_tutorials/03_subset_data.html)\n",
    "\n",
    "The filtering technique creates a mask of rows that we want to select, e.g:\n",
    "\n",
    "`mask = df['mycolumn'] > 500`\n",
    "\n",
    "and then uses the mask to select rows:\n",
    "\n",
    "`df[mask]`\n",
    "\n",
    "Note that there is no absolute definition of what \"crazy\" means here.  You will need to make some judgements based on your understanding of the world (or specifically the world of trees in Camden!)."
   ]
  },
  {
   "cell_type": "code",
   "execution_count": 63,
   "id": "4bf621bd",
   "metadata": {},
   "outputs": [
    {
     "data": {
      "image/png": "[encoded data removed]",
      "text/plain": [
       "<Figure size 600x1000 with 1 Axes>"
      ]
     },
     "metadata": {},
     "output_type": "display_data"
    },
    {
     "name": "stdout",
     "output_type": "stream",
     "text": [
      "All rows containing outliers:\n",
      "      Identifier  Number Of Trees                                Site Name  \\\n",
      "547     00017629              1.0             RUSSELL SQUARE, GARDENS (LS)   \n",
      "830     00015272              1.0              OAKLEY SQUARE, GARDENS (LS)   \n",
      "920     00017649              1.0             RUSSELL SQUARE, GARDENS (LS)   \n",
      "1193    00017654              1.0             RUSSELL SQUARE, GARDENS (LS)   \n",
      "1213    00002734              1.0           BRUNSWICK SQUARE, GARDENS (LS)   \n",
      "1309    00015260              1.0              OAKLEY SQUARE, GARDENS (LS)   \n",
      "1356    00001547              1.0                     Beaumont Walk Estate   \n",
      "1863    00013862              1.0                   Maitland Park Estate 1   \n",
      "2488    00017620              1.0             RUSSELL SQUARE, GARDENS (LS)   \n",
      "2627    00036146              1.0           BRUNSWICK SQUARE, GARDENS (LS)   \n",
      "3556    00001126              1.0              ARGYLE SQUARE, GARDENS (LS)   \n",
      "3898    00002706              1.0           BRUNSWICK SQUARE, GARDENS (LS)   \n",
      "3906    00018051              1.0                              SKARDU ROAD   \n",
      "4034    00007827              1.0                     Goldington St Estate   \n",
      "4036    00016745              1.0              REGENT SQUARE, GARDENS (LS)   \n",
      "5116    00012919              1.0       LINCOLN'S INN FIELDS, GARDENS (LS)   \n",
      "5152    00059490              1.0                ADELAIDE ROAD NATURE AREA   \n",
      "5172    00041030              1.0             RUSSELL SQUARE, GARDENS (LS)   \n",
      "5765    00056296              1.0                   Regent High School (E)   \n",
      "5856    00017665              1.0             RUSSELL SQUARE, GARDENS (LS)   \n",
      "5859    00017570              1.0             RUSSELL SQUARE, GARDENS (LS)   \n",
      "6080    00016727              1.0                   St Peters Court Estate   \n",
      "6372    00007833              1.0                     Goldington St Estate   \n",
      "6901    00017660              1.0             RUSSELL SQUARE, GARDENS (LS)   \n",
      "7384    00016729              1.0                   St Peters Court Estate   \n",
      "7398    00017628              1.0             RUSSELL SQUARE, GARDENS (LS)   \n",
      "7593    00001123              1.0              ARGYLE SQUARE, GARDENS (LS)   \n",
      "7663    00001708              1.0                           BELSIZE AVENUE   \n",
      "7698    00006148              1.0              EUSTON SQUARE, GARDENS (LS)   \n",
      "7735    00015286              1.0              OAKLEY SQUARE, GARDENS (LS)   \n",
      "7961    00002728              1.0           BRUNSWICK SQUARE, GARDENS (LS)   \n",
      "8012    00017655              1.0             RUSSELL SQUARE, GARDENS (LS)   \n",
      "8127    00001124              1.0              ARGYLE SQUARE, GARDENS (LS)   \n",
      "8198    00016739              1.0              REGENT SQUARE, GARDENS (LS)   \n",
      "8291    00015287              1.0              OAKLEY SQUARE, GARDENS (LS)   \n",
      "8474    00017602              1.0             RUSSELL SQUARE, GARDENS (LS)   \n",
      "8587    00016742              1.0              REGENT SQUARE, GARDENS (LS)   \n",
      "8724    00002730              1.0           BRUNSWICK SQUARE, GARDENS (LS)   \n",
      "8870    00017656              1.0             RUSSELL SQUARE, GARDENS (LS)   \n",
      "9376    00020219              1.0           TAVISTOCK SQUARE, GARDENS (LS)   \n",
      "9529    00016741              1.0              REGENT SQUARE, GARDENS (LS)   \n",
      "9599    00017661              1.0             RUSSELL SQUARE, GARDENS (LS)   \n",
      "9638    00001125              1.0              ARGYLE SQUARE, GARDENS (LS)   \n",
      "9943    00017622              1.0             RUSSELL SQUARE, GARDENS (LS)   \n",
      "10145   00007835              1.0                     Goldington St Estate   \n",
      "10295   00017667              1.0             RUSSELL SQUARE, GARDENS (LS)   \n",
      "11226   00015265              1.0              OAKLEY SQUARE, GARDENS (LS)   \n",
      "11327   00015273              1.0              OAKLEY SQUARE, GARDENS (LS)   \n",
      "11789   00016743              1.0              REGENT SQUARE, GARDENS (LS)   \n",
      "11830   00017553              1.0             RUSSELL SQUARE, GARDENS (LS)   \n",
      "12025   00007836              1.0                     Goldington St Estate   \n",
      "12100   00020224              1.0           TAVISTOCK SQUARE, GARDENS (LS)   \n",
      "12197   00017687              1.0             RUSSELL SQUARE, GARDENS (LS)   \n",
      "12708   00016738              1.0              REGENT SQUARE, GARDENS (LS)   \n",
      "12736   00007831              1.0                     Goldington St Estate   \n",
      "14389   00015266              1.0              OAKLEY SQUARE, GARDENS (LS)   \n",
      "14689   00017653              1.0             RUSSELL SQUARE, GARDENS (LS)   \n",
      "14759   00015291              1.0              OAKLEY SQUARE, GARDENS (LS)   \n",
      "14947   00016740              1.0              REGENT SQUARE, GARDENS (LS)   \n",
      "15361   00016735              1.0              REGENT SQUARE, GARDENS (LS)   \n",
      "15456   00010277              1.0                             HIGH HOLBORN   \n",
      "16231   00012874              1.0       LINCOLN'S INN FIELDS, GARDENS (LS)   \n",
      "16526   00017669              1.0             RUSSELL SQUARE, GARDENS (LS)   \n",
      "16612   00017643              1.0             RUSSELL SQUARE, GARDENS (LS)   \n",
      "16893   00017565              1.0             RUSSELL SQUARE, GARDENS (LS)   \n",
      "17021   00001748              1.0                           BELSIZE AVENUE   \n",
      "17437   00017681              1.0             RUSSELL SQUARE, GARDENS (LS)   \n",
      "17688   00003477              1.0                        CARDINGTON STREET   \n",
      "17719   00017664              1.0             RUSSELL SQUARE, GARDENS (LS)   \n",
      "17766   00015290              1.0              OAKLEY SQUARE, GARDENS (LS)   \n",
      "17835   00017605              1.0             RUSSELL SQUARE, GARDENS (LS)   \n",
      "18075   00017624              1.0             RUSSELL SQUARE, GARDENS (LS)   \n",
      "18810   00017567              1.0             RUSSELL SQUARE, GARDENS (LS)   \n",
      "18930   00018775              1.0  ST. GEORGE'S GARDENS, HEATHCOTE ST (LS)   \n",
      "19039   00017650              1.0             RUSSELL SQUARE, GARDENS (LS)   \n",
      "19746   00017648              1.0             RUSSELL SQUARE, GARDENS (LS)   \n",
      "20222   00015259              1.0              OAKLEY SQUARE, GARDENS (LS)   \n",
      "20957   00016736              1.0              REGENT SQUARE, GARDENS (LS)   \n",
      "21340   00017593              1.0             RUSSELL SQUARE, GARDENS (LS)   \n",
      "21379   00016746              1.0              REGENT SQUARE, GARDENS (LS)   \n",
      "21840   00020221              1.0           TAVISTOCK SQUARE, GARDENS (LS)   \n",
      "22109   00017599              1.0             RUSSELL SQUARE, GARDENS (LS)   \n",
      "22238   00004055              1.0                        CHRISTCHURCH HILL   \n",
      "22284   00017527              1.0             RUSSELL SQUARE, GARDENS (LS)   \n",
      "22477   00012886              1.0       LINCOLN'S INN FIELDS, GARDENS (LS)   \n",
      "22500   00016737              1.0              REGENT SQUARE, GARDENS (LS)   \n",
      "22686   00017668              1.0             RUSSELL SQUARE, GARDENS (LS)   \n",
      "22701   00017513              1.0             RUSSELL SQUARE, GARDENS (LS)   \n",
      "22901   00017692              1.0             RUSSELL SQUARE, GARDENS (LS)   \n",
      "23007   00002705              1.0           BRUNSWICK SQUARE, GARDENS (LS)   \n",
      "23147   00012922              1.0       LINCOLN'S INN FIELDS, GARDENS (LS)   \n",
      "\n",
      "      Contract Area          Scientific Name Inspection Date  \\\n",
      "547           Parks     Platanus x hispanica      2018-03-16   \n",
      "830           Parks     Platanus x hispanica      2018-03-26   \n",
      "920           Parks     Platanus x hispanica      2018-03-16   \n",
      "1193          Parks     Platanus x hispanica      2018-03-20   \n",
      "1213          Parks     Platanus x hispanica      2018-03-21   \n",
      "1309          Parks     Platanus x hispanica      2018-03-27   \n",
      "1356        Housing     Robinia pseudoacacia      2017-05-23   \n",
      "1863        Housing             Prunus avium      2017-05-16   \n",
      "2488          Parks     Platanus x hispanica      2018-03-14   \n",
      "2627          Parks     Platanus x hispanica      2018-03-21   \n",
      "3556          Parks     Platanus x hispanica      2018-03-14   \n",
      "3898          Parks     Platanus x hispanica      2018-03-21   \n",
      "3906       Highways     Platanus x hispanica      2018-08-29   \n",
      "4034        Housing  Populus nigra 'Italica'      2019-08-13   \n",
      "4036          Parks     Platanus x hispanica      2018-03-19   \n",
      "5116          Parks     Platanus x hispanica      2018-04-24   \n",
      "5152          Parks            Tilia cordata      2019-03-27   \n",
      "5172          Parks     Platanus x hispanica      2018-03-20   \n",
      "5765      Education     Platanus x hispanica      2018-12-10   \n",
      "5856          Parks     Platanus x hispanica      2018-03-20   \n",
      "5859          Parks     Platanus x hispanica      2018-03-14   \n",
      "6080        Housing     Platanus x hispanica      2019-07-22   \n",
      "6372        Housing  Populus nigra 'Italica'      2019-08-15   \n",
      "6901          Parks     Platanus x hispanica      2018-03-20   \n",
      "7384        Housing     Platanus x hispanica      2019-07-22   \n",
      "7398          Parks     Platanus x hispanica      2018-03-16   \n",
      "7593          Parks     Platanus x hispanica      2018-03-14   \n",
      "7663       Highways     Platanus x hispanica      2018-07-17   \n",
      "7698          Parks     Platanus x hispanica      2018-07-03   \n",
      "7735          Parks     Platanus x hispanica      2018-03-26   \n",
      "7961          Parks     Platanus x hispanica      2018-03-23   \n",
      "8012          Parks     Platanus x hispanica      2018-03-20   \n",
      "8127          Parks     Platanus x hispanica      2018-03-14   \n",
      "8198          Parks     Platanus x hispanica      2018-03-19   \n",
      "8291          Parks     Platanus x hispanica      2018-03-26   \n",
      "8474          Parks     Platanus x hispanica      2018-03-14   \n",
      "8587          Parks     Platanus x hispanica      2018-03-14   \n",
      "8724          Parks     Platanus x hispanica      2018-03-23   \n",
      "8870          Parks     Platanus x hispanica      2018-03-20   \n",
      "9376          Parks     Platanus x hispanica      2018-06-04   \n",
      "9529          Parks     Platanus x hispanica      2018-03-19   \n",
      "9599          Parks     Platanus x hispanica      2018-03-20   \n",
      "9638          Parks     Platanus x hispanica      2018-03-14   \n",
      "9943          Parks     Platanus x hispanica      2018-03-16   \n",
      "10145       Housing  Populus nigra 'Italica'      2019-08-15   \n",
      "10295         Parks     Platanus x hispanica      2018-03-20   \n",
      "11226         Parks     Platanus x hispanica      2018-03-26   \n",
      "11327         Parks     Platanus x hispanica      2018-03-27   \n",
      "11789         Parks     Platanus x hispanica      2018-03-14   \n",
      "11830         Parks     Platanus x hispanica      2018-03-14   \n",
      "12025       Housing  Populus nigra 'Italica'      2019-08-15   \n",
      "12100         Parks     Platanus x hispanica      2018-06-04   \n",
      "12197         Parks     Platanus x hispanica      2018-03-16   \n",
      "12708         Parks     Platanus x hispanica      2018-03-14   \n",
      "12736       Housing  Populus nigra 'Italica'      2019-08-15   \n",
      "14389         Parks     Platanus x hispanica      2018-03-26   \n",
      "14689         Parks     Platanus x hispanica      2018-03-20   \n",
      "14759         Parks     Platanus x hispanica      2018-03-26   \n",
      "14947         Parks     Platanus x hispanica      2018-03-19   \n",
      "15361         Parks     Platanus x hispanica      2018-03-23   \n",
      "15456      Highways     Platanus x hispanica      2019-08-08   \n",
      "16231         Parks     Platanus x hispanica      2018-04-20   \n",
      "16526         Parks     Platanus x hispanica      2018-03-20   \n",
      "16612         Parks     Platanus x hispanica      2018-03-16   \n",
      "16893         Parks     Platanus x hispanica      2018-03-14   \n",
      "17021      Highways     Platanus x hispanica      2018-07-17   \n",
      "17437         Parks     Platanus x hispanica      2018-03-20   \n",
      "17688      Highways     Platanus x hispanica      2019-01-11   \n",
      "17719         Parks     Platanus x hispanica      2018-03-20   \n",
      "17766         Parks     Platanus x hispanica      2018-03-26   \n",
      "17835         Parks     Platanus x hispanica      2018-03-14   \n",
      "18075         Parks     Platanus x hispanica      2018-03-16   \n",
      "18810         Parks     Platanus x hispanica      2018-03-14   \n",
      "18930         Parks     Platanus x hispanica      2018-03-20   \n",
      "19039         Parks     Platanus x hispanica      2018-03-16   \n",
      "19746         Parks     Platanus x hispanica      2018-03-16   \n",
      "20222         Parks     Platanus x hispanica      2018-03-27   \n",
      "20957         Parks     Platanus x hispanica      2018-03-23   \n",
      "21340         Parks     Platanus x hispanica      2018-03-14   \n",
      "21379         Parks     Platanus x hispanica      2018-03-19   \n",
      "21840         Parks     Platanus x hispanica      2018-06-04   \n",
      "22109         Parks     Platanus x hispanica      2018-03-14   \n",
      "22238      Highways     Platanus x hispanica      2017-07-27   \n",
      "22284         Parks     Platanus x hispanica      2018-03-14   \n",
      "22477         Parks     Platanus x hispanica      2018-04-20   \n",
      "22500         Parks     Platanus x hispanica      2018-03-19   \n",
      "22686         Parks     Platanus x hispanica      2018-03-20   \n",
      "22701         Parks     Platanus x hispanica      2018-03-14   \n",
      "22901         Parks     Platanus x hispanica      2018-03-20   \n",
      "23007         Parks     Platanus x hispanica      2018-03-21   \n",
      "23147         Parks     Platanus x hispanica      2018-04-19   \n",
      "\n",
      "      Inspection Due Date  Height In Metres  Spread In Metres  \\\n",
      "547             2020/2021              38.0              26.0   \n",
      "830             2020/2021              34.0              16.0   \n",
      "920             2020/2021              38.0              23.0   \n",
      "1193            2020/2021              36.0              19.0   \n",
      "1213            2020/2021              31.0              28.0   \n",
      "1309            2020/2021              31.0              15.0   \n",
      "1356            2020/2021              96.0              10.0   \n",
      "1863            2020/2021             127.0               9.0   \n",
      "2488            2020/2021              35.0              23.0   \n",
      "2627            2020/2021              32.0              19.0   \n",
      "3556            2020/2021              31.0              24.0   \n",
      "3898            2020/2021              33.0              24.0   \n",
      "3906            2021/2022              40.0               4.0   \n",
      "4034            2022/2023              33.0               6.0   \n",
      "4036            2020/2021              36.0              22.0   \n",
      "5116            2021/2022              31.0              20.0   \n",
      "5152            2021/2022              41.0              10.0   \n",
      "5172            2020/2021              35.0              18.0   \n",
      "5765            2021/2022              37.0               3.5   \n",
      "5856            2020/2021              39.0              17.0   \n",
      "5859            2020/2021              38.0              16.0   \n",
      "6080            2022/2023              31.0              17.0   \n",
      "6372            2022/2023              31.0               5.0   \n",
      "6901            2020/2021              38.0              22.0   \n",
      "7384            2022/2023              31.0              16.0   \n",
      "7398            2020/2021              34.0              21.0   \n",
      "7593            2020/2021              36.0              23.0   \n",
      "7663            2021/2022              32.0              16.0   \n",
      "7698            2020/2021              31.6              21.0   \n",
      "7735            2020/2021              34.0              21.0   \n",
      "7961            2020/2021              35.0              31.0   \n",
      "8012            2020/2021              35.0              20.0   \n",
      "8127            2020/2021              36.0              21.0   \n",
      "8198            2020/2021              33.0              19.0   \n",
      "8291            2020/2021              34.0              18.0   \n",
      "8474            2020/2021              38.0              21.0   \n",
      "8587            2020/2021              32.0              26.0   \n",
      "8724            2020/2021              33.0              26.0   \n",
      "8870            2020/2021              36.0              21.0   \n",
      "9376            2021/2022              33.0              22.0   \n",
      "9529            2020/2021              33.0              20.0   \n",
      "9599            2020/2021              36.0              20.0   \n",
      "9638            2020/2021              36.0              24.0   \n",
      "9943            2020/2021              35.0              17.0   \n",
      "10145           2022/2023              32.0               5.0   \n",
      "10295           2020/2021              32.0              19.0   \n",
      "11226           2020/2021              32.0              14.0   \n",
      "11327           2020/2021              32.0               8.0   \n",
      "11789           2020/2021              33.0              30.0   \n",
      "11830           2020/2021              31.0              18.0   \n",
      "12025           2022/2023              32.0               6.0   \n",
      "12100           2021/2022              31.0              21.0   \n",
      "12197           2020/2021              36.0              22.0   \n",
      "12708           2020/2021              34.0              24.0   \n",
      "12736           2022/2023              30.4               7.0   \n",
      "14389           2020/2021              32.0              20.0   \n",
      "14689           2020/2021              37.0              19.0   \n",
      "14759           2020/2021              34.0              20.0   \n",
      "14947           2020/2021              33.0              21.0   \n",
      "15361           2020/2021              33.0              23.0   \n",
      "15456           2022/2023              32.0              20.0   \n",
      "16231           2021/2022              37.0              26.0   \n",
      "16526           2020/2021              31.0              21.0   \n",
      "16612           2020/2021              31.0              18.0   \n",
      "16893           2020/2021              37.0              17.0   \n",
      "17021           2021/2022              31.0              15.0   \n",
      "17437           2020/2021              35.0              20.0   \n",
      "17688           2022/2023              32.0              12.0   \n",
      "17719           2020/2021              39.0              20.0   \n",
      "17766           2020/2021              34.0              18.0   \n",
      "17835           2020/2021              41.0              21.0   \n",
      "18075           2020/2021              34.0              18.0   \n",
      "18810           2020/2021              38.0              17.0   \n",
      "18930           2020/2021              35.0              24.0   \n",
      "19039           2020/2021              39.0              18.0   \n",
      "19746           2020/2021              37.0              28.0   \n",
      "20222           2020/2021              32.0              14.0   \n",
      "20957           2020/2021              33.0              19.0   \n",
      "21340           2020/2021              39.0              19.0   \n",
      "21379           2020/2021              35.0              21.0   \n",
      "21840           2021/2022              31.0              20.0   \n",
      "22109           2020/2021              39.0              20.0   \n",
      "22238           2020/2021              35.0              19.0   \n",
      "22284           2020/2021              31.0              20.0   \n",
      "22477           2021/2022              31.0              25.0   \n",
      "22500           2020/2021              36.0              28.0   \n",
      "22686           2020/2021              32.0              16.0   \n",
      "22701           2020/2021              33.0              24.0   \n",
      "22901           2020/2021              33.0              21.0   \n",
      "23007           2020/2021              35.0              26.0   \n",
      "23147           2021/2022              31.0              20.0   \n",
      "\n",
      "       Diameter In Centimetres At Breast Height  Ward Code  \\\n",
      "547                                       161.0  E05000129   \n",
      "830                                        89.0  E05000142   \n",
      "920                                       132.0  E05000129   \n",
      "1193                                       83.0  E05000129   \n",
      "1213                                      170.0  E05000141   \n",
      "1309                                      108.0  E05000142   \n",
      "1356                                       63.0  E05000136   \n",
      "1863                                       34.0  E05000136   \n",
      "2488                                      151.0  E05000129   \n",
      "2627                                      114.0  E05000141   \n",
      "3556                                      156.0  E05000141   \n",
      "3898                                      105.0  E05000141   \n",
      "3906                                       48.0  E05000132   \n",
      "4034                                       79.0  E05000143   \n",
      "4036                                      144.0  E05000141   \n",
      "5116                                      159.0  E05000138   \n",
      "5152                                       55.0  E05000128   \n",
      "5172                                      142.0  E05000129   \n",
      "5765                                       12.0  E05000143   \n",
      "5856                                      155.0  E05000129   \n",
      "5859                                      191.0  E05000129   \n",
      "6080                                      121.0  E05000141   \n",
      "6372                                       53.0  E05000143   \n",
      "6901                                      147.0  E05000129   \n",
      "7384                                      120.0  E05000141   \n",
      "7398                                      131.0  E05000129   \n",
      "7593                                      132.0  E05000141   \n",
      "7663                                      127.0  E05000128   \n",
      "7698                                      153.0  E05000142   \n",
      "7735                                      107.0  E05000142   \n",
      "7961                                      165.0  E05000141   \n",
      "8012                                      108.0  E05000129   \n",
      "8127                                      123.0  E05000141   \n",
      "8198                                      115.0  E05000141   \n",
      "8291                                      103.0  E05000142   \n",
      "8474                                      122.0  E05000129   \n",
      "8587                                      115.0  E05000141   \n",
      "8724                                      170.0  E05000141   \n",
      "8870                                      177.0  E05000129   \n",
      "9376                                      112.0  E05000129   \n",
      "9529                                      104.0  E05000141   \n",
      "9599                                       88.0  E05000129   \n",
      "9638                                      134.0  E05000141   \n",
      "9943                                      117.0  E05000129   \n",
      "10145                                      56.0  E05000143   \n",
      "10295                                     102.0  E05000129   \n",
      "11226                                     111.0  E05000142   \n",
      "11327                                      65.0  E05000142   \n",
      "11789                                     127.0  E05000141   \n",
      "11830                                     124.0  E05000129   \n",
      "12025                                      76.0  E05000143   \n",
      "12100                                     138.0  E05000129   \n",
      "12197                                     149.0  E05000129   \n",
      "12708                                     137.0  E05000141   \n",
      "12736                                      82.0  E05000143   \n",
      "14389                                     101.0  E05000142   \n",
      "14689                                     114.0  E05000129   \n",
      "14759                                     121.0  E05000142   \n",
      "14947                                     107.0  E05000141   \n",
      "15361                                     138.0  E05000141   \n",
      "15456                                      92.0  E05000138   \n",
      "16231                                     134.0  E05000138   \n",
      "16526                                     110.0  E05000129   \n",
      "16612                                     112.0  E05000129   \n",
      "16893                                      97.0  E05000129   \n",
      "17021                                     121.0  E05000128   \n",
      "17437                                     116.0  E05000129   \n",
      "17688                                      60.0  E05000142   \n",
      "17719                                     115.0  E05000129   \n",
      "17766                                     109.0  E05000142   \n",
      "17835                                     142.0  E05000129   \n",
      "18075                                     103.0  E05000129   \n",
      "18810                                     125.0  E05000129   \n",
      "18930                                     194.0  E05000141   \n",
      "19039                                     117.0  E05000129   \n",
      "19746                                     157.0  E05000129   \n",
      "20222                                     104.0  E05000142   \n",
      "20957                                     105.0  E05000141   \n",
      "21340                                     134.0  E05000129   \n",
      "21379                                     148.0  E05000141   \n",
      "21840                                     125.0  E05000129   \n",
      "22109                                     138.0  E05000129   \n",
      "22238                                     170.0  E05000135   \n",
      "22284                                     101.0  E05000129   \n",
      "22477                                     165.0  E05000138   \n",
      "22500                                     140.0  E05000141   \n",
      "22686                                      93.0  E05000129   \n",
      "22701                                      98.0  E05000129   \n",
      "22901                                     144.0  E05000129   \n",
      "23007                                      87.0  E05000141   \n",
      "23147                                     170.0  E05000138   \n",
      "\n",
      "                        Ward Name  Easting  Northing  Longitude   Latitude  \\\n",
      "547                    Bloomsbury   530077    182009  -0.126474  51.522027   \n",
      "830                 Regent's Park   529366    183337  -0.136233  51.534130   \n",
      "920                    Bloomsbury   530126    182017  -0.125765  51.522094   \n",
      "1193                   Bloomsbury   530147    181969  -0.125480  51.521657   \n",
      "1213                 King's Cross   530384    182302  -0.121941  51.524590   \n",
      "1309                Regent's Park   529385    183330  -0.135967  51.534056   \n",
      "1356                   Haverstock   527847    184391  -0.157739  51.543941   \n",
      "1863                   Haverstock   527987    184901  -0.155534  51.548497   \n",
      "2488                   Bloomsbury   530112    182068  -0.125957  51.522553   \n",
      "2627                 King's Cross   530435    182302  -0.121215  51.524582   \n",
      "3556                 King's Cross   530364    182802  -0.122045  51.529090   \n",
      "3898                 King's Cross   530428    182320  -0.121311  51.524746   \n",
      "3906                Fortune Green   524099    185433  -0.211393  51.554143   \n",
      "4034   St Pancras and Somers Town   529760    183381  -0.130540  51.534433   \n",
      "4036                 King's Cross   530415    182577  -0.121395  51.527060   \n",
      "5116    Holborn and Covent Garden   530804    181376  -0.116235  51.516172   \n",
      "5152                      Belsize   527652    184360  -0.160565  51.543707   \n",
      "5172                   Bloomsbury   530146    181937  -0.125506  51.521363   \n",
      "5765   St Pancras and Somers Town   529644    183242  -0.132258  51.533211   \n",
      "5856                   Bloomsbury   530065    181958  -0.126671  51.521571   \n",
      "5859                   Bloomsbury   530025    181952  -0.127255  51.521529   \n",
      "6080                 King's Cross   530478    182566  -0.120494  51.526940   \n",
      "6372   St Pancras and Somers Town   529712    183408  -0.131217  51.534689   \n",
      "6901                   Bloomsbury   530077    181977  -0.126489  51.521742   \n",
      "7384                 King's Cross   530494    182572  -0.120258  51.526997   \n",
      "7398                   Bloomsbury   530065    181986  -0.126665  51.521824   \n",
      "7593                 King's Cross   530323    182828  -0.122632  51.529329   \n",
      "7663                      Belsize   527078    185063  -0.168584  51.550154   \n",
      "7698                Regent's Park   529562    182509  -0.133711  51.526643   \n",
      "7735                Regent's Park   529380    183364  -0.136026  51.534367   \n",
      "7961                 King's Cross   530424    182282  -0.121378  51.524403   \n",
      "8012                   Bloomsbury   530147    181961  -0.125484  51.521580   \n",
      "8127                 King's Cross   530328    182831  -0.122552  51.529360   \n",
      "8198                 King's Cross   530386    182531  -0.121837  51.526647   \n",
      "8291                Regent's Park   529373    183382  -0.136123  51.534530   \n",
      "8474                   Bloomsbury   530066    182043  -0.126622  51.522334   \n",
      "8587                 King's Cross   530371    182560  -0.122034  51.526909   \n",
      "8724                 King's Cross   530415    182312  -0.121495  51.524675   \n",
      "8870                   Bloomsbury   530122    181955  -0.125851  51.521536   \n",
      "9376                   Bloomsbury   529924    182355  -0.128555  51.525179   \n",
      "9529                 King's Cross   530368    182550  -0.122083  51.526821   \n",
      "9599                   Bloomsbury   530072    181985  -0.126556  51.521814   \n",
      "9638                 King's Cross   530346    182828  -0.122304  51.529328   \n",
      "9943                   Bloomsbury   530105    182047  -0.126066  51.522364   \n",
      "10145  St Pancras and Somers Town   529708    183415  -0.131281  51.534749   \n",
      "10295                  Bloomsbury   530085    181932  -0.126389  51.521340   \n",
      "11226               Regent's Park   529355    183313  -0.136395  51.533916   \n",
      "11327               Regent's Park   529376    183332  -0.136095  51.534083   \n",
      "11789                King's Cross   530380    182555  -0.121909  51.526866   \n",
      "11830                  Bloomsbury   530068    181898  -0.126651  51.521036   \n",
      "12025  St Pancras and Somers Town   529705    183419  -0.131318  51.534784   \n",
      "12100                  Bloomsbury   529946    182296  -0.128255  51.524640   \n",
      "12197                  Bloomsbury   530170    181939  -0.125169  51.521377   \n",
      "12708                King's Cross   530403    182555  -0.121581  51.526858   \n",
      "12736  St Pancras and Somers Town   529724    183402  -0.131046  51.534628   \n",
      "14389               Regent's Park   529360    183322  -0.136328  51.533993   \n",
      "14689                  Bloomsbury   530145    181980  -0.125509  51.521757   \n",
      "14759               Regent's Park   529404    183392  -0.135672  51.534612   \n",
      "14947                King's Cross   530373    182534  -0.122018  51.526678   \n",
      "15361                King's Cross   530429    182550  -0.121214  51.526808   \n",
      "15456   Holborn and Covent Garden   530111    181326  -0.126239  51.515887   \n",
      "16231   Holborn and Covent Garden   530832    181387  -0.115828  51.516261   \n",
      "16526                  Bloomsbury   530095    181927  -0.126252  51.521289   \n",
      "16612                  Bloomsbury   530183    181989  -0.124964  51.521829   \n",
      "16893                  Bloomsbury   530045    181926  -0.126965  51.521288   \n",
      "17021                     Belsize   526984    184941  -0.169974  51.549086   \n",
      "17437                  Bloomsbury   530115    181922  -0.125960  51.521239   \n",
      "17688               Regent's Park   529350    182792  -0.136671  51.529234   \n",
      "17719                  Bloomsbury   530063    181969  -0.126699  51.521677   \n",
      "17766               Regent's Park   529392    183395  -0.135842  51.534647   \n",
      "17835                  Bloomsbury   530078    182050  -0.126445  51.522397   \n",
      "18075                  Bloomsbury   530065    182028  -0.126648  51.522202   \n",
      "18810                  Bloomsbury   530039    181934  -0.127055  51.521367   \n",
      "18930                King's Cross   530485    182497  -0.120423  51.526317   \n",
      "19039                  Bloomsbury   530120    182009  -0.125864  51.522020   \n",
      "19746                  Bloomsbury   530154    181987  -0.125377  51.521817   \n",
      "20222               Regent's Park   529374    183324  -0.136123  51.534012   \n",
      "20957                King's Cross   530417    182541  -0.121379  51.526728   \n",
      "21340                  Bloomsbury   530029    182016  -0.127165  51.522102   \n",
      "21379                King's Cross   530423    182574  -0.121291  51.527026   \n",
      "21840                  Bloomsbury   529946    182327  -0.128252  51.524915   \n",
      "22109                  Bloomsbury   530049    182031  -0.126869  51.522230   \n",
      "22238              Hampstead Town   526665    186005  -0.174188  51.558719   \n",
      "22284                  Bloomsbury   530131    181894  -0.125744  51.520980   \n",
      "22477   Holborn and Covent Garden   530806    181344  -0.116221  51.515886   \n",
      "22500                King's Cross   530408    182541  -0.121515  51.526730   \n",
      "22686                  Bloomsbury   530089    181926  -0.126330  51.521283   \n",
      "22701                  Bloomsbury   530175    181924  -0.125100  51.521247   \n",
      "22901                  Bloomsbury   530098    181981  -0.126181  51.521772   \n",
      "23007                King's Cross   530424    182330  -0.121355  51.524830   \n",
      "23147   Holborn and Covent Garden   530778    181404  -0.116612  51.516427   \n",
      "\n",
      "                     Location  \n",
      "547    (51.522027, -0.126474)  \n",
      "830     (51.53413, -0.136233)  \n",
      "920    (51.522094, -0.125765)  \n",
      "1193    (51.521657, -0.12548)  \n",
      "1213    (51.52459, -0.121941)  \n",
      "1309   (51.534056, -0.135967)  \n",
      "1356   (51.543941, -0.157739)  \n",
      "1863   (51.548497, -0.155534)  \n",
      "2488   (51.522553, -0.125957)  \n",
      "2627   (51.524582, -0.121215)  \n",
      "3556    (51.52909, -0.122045)  \n",
      "3898   (51.524746, -0.121311)  \n",
      "3906   (51.554143, -0.211393)  \n",
      "4034    (51.534433, -0.13054)  \n",
      "4036    (51.52706, -0.121395)  \n",
      "5116   (51.516172, -0.116235)  \n",
      "5152   (51.543707, -0.160565)  \n",
      "5172   (51.521363, -0.125506)  \n",
      "5765   (51.533211, -0.132258)  \n",
      "5856   (51.521571, -0.126671)  \n",
      "5859   (51.521529, -0.127255)  \n",
      "6080    (51.52694, -0.120494)  \n",
      "6372   (51.534689, -0.131217)  \n",
      "6901   (51.521742, -0.126489)  \n",
      "7384   (51.526997, -0.120258)  \n",
      "7398   (51.521824, -0.126665)  \n",
      "7593   (51.529329, -0.122632)  \n",
      "7663   (51.550154, -0.168584)  \n",
      "7698   (51.526643, -0.133711)  \n",
      "7735   (51.534367, -0.136026)  \n",
      "7961   (51.524403, -0.121378)  \n",
      "8012    (51.52158, -0.125484)  \n",
      "8127    (51.52936, -0.122552)  \n",
      "8198   (51.526647, -0.121837)  \n",
      "8291    (51.53453, -0.136123)  \n",
      "8474   (51.522334, -0.126622)  \n",
      "8587   (51.526909, -0.122034)  \n",
      "8724   (51.524675, -0.121495)  \n",
      "8870   (51.521536, -0.125851)  \n",
      "9376   (51.525179, -0.128555)  \n",
      "9529   (51.526821, -0.122083)  \n",
      "9599   (51.521814, -0.126556)  \n",
      "9638   (51.529328, -0.122304)  \n",
      "9943   (51.522364, -0.126066)  \n",
      "10145  (51.534749, -0.131281)  \n",
      "10295   (51.52134, -0.126389)  \n",
      "11226  (51.533916, -0.136395)  \n",
      "11327  (51.534083, -0.136095)  \n",
      "11789  (51.526866, -0.121909)  \n",
      "11830  (51.521036, -0.126651)  \n",
      "12025  (51.534784, -0.131318)  \n",
      "12100   (51.52464, -0.128255)  \n",
      "12197  (51.521377, -0.125169)  \n",
      "12708  (51.526858, -0.121581)  \n",
      "12736  (51.534628, -0.131046)  \n",
      "14389  (51.533993, -0.136328)  \n",
      "14689  (51.521757, -0.125509)  \n",
      "14759  (51.534612, -0.135672)  \n",
      "14947  (51.526678, -0.122018)  \n",
      "15361  (51.526808, -0.121214)  \n",
      "15456  (51.515887, -0.126239)  \n",
      "16231  (51.516261, -0.115828)  \n",
      "16526  (51.521289, -0.126252)  \n",
      "16612  (51.521829, -0.124964)  \n",
      "16893  (51.521288, -0.126965)  \n",
      "17021  (51.549086, -0.169974)  \n",
      "17437   (51.521239, -0.12596)  \n",
      "17688  (51.529234, -0.136671)  \n",
      "17719  (51.521677, -0.126699)  \n",
      "17766  (51.534647, -0.135842)  \n",
      "17835  (51.522397, -0.126445)  \n",
      "18075  (51.522202, -0.126648)  \n",
      "18810  (51.521367, -0.127055)  \n",
      "18930  (51.526317, -0.120423)  \n",
      "19039   (51.52202, -0.125864)  \n",
      "19746  (51.521817, -0.125377)  \n",
      "20222  (51.534012, -0.136123)  \n",
      "20957  (51.526728, -0.121379)  \n",
      "21340  (51.522102, -0.127165)  \n",
      "21379  (51.527026, -0.121291)  \n",
      "21840  (51.524915, -0.128252)  \n",
      "22109   (51.52223, -0.126869)  \n",
      "22238  (51.558719, -0.174188)  \n",
      "22284   (51.52098, -0.125744)  \n",
      "22477  (51.515886, -0.116221)  \n",
      "22500   (51.52673, -0.121515)  \n",
      "22686   (51.521283, -0.12633)  \n",
      "22701    (51.521247, -0.1251)  \n",
      "22901  (51.521772, -0.126181)  \n",
      "23007   (51.52483, -0.121355)  \n",
      "23147  (51.516427, -0.116612)  \n"
     ]
    }
   ],
   "source": [
    "import matplotlib.pyplot as plt\n",
    "\n",
    "# Load the dataset as the \"trees\" DataFrame\n",
    "trees = pd.read_excel('downloads/camden_trees.xlsx')\n",
    "\n",
    "# Create a vertically oriented boxplot\n",
    "plt.figure(figsize=(6, 10))  # Adjust the figure size as needed\n",
    "trees.boxplot(column='Height In Metres', vert=True)  # Replace 'your_numeric_column' with the actual column name\n",
    "plt.title('Vertical Boxplot of Height in Metres')\n",
    "plt.ylabel('Height in Metres')  # Change the label orientation to vertical\n",
    "plt.xticks([])  # Remove x-axis labels since it's vertical\n",
    "plt.show()\n",
    "\n",
    "# Identify and filter the outliers\n",
    "outliers_mask = trees['Height In Metres'] > 30  # Replace 'your_numeric_column' with the actual column name\n",
    "outliers = trees[outliers_mask]\n",
    "\n",
    "# Configure pandas to display all rows\n",
    "pd.set_option('display.max_rows', None)\n",
    "\n",
    "# Display all rows containing outliers\n",
    "print(\"All rows containing outliers:\")\n",
    "print(outliers)"
   ]
  },
  {
   "cell_type": "code",
   "execution_count": 64,
   "id": "7a614957-0a50-41f2-bebd-ca48e3660674",
   "metadata": {},
   "outputs": [
    {
     "name": "stdout",
     "output_type": "stream",
     "text": [
      "All outlier rows for 'Height In Metres' column:\n",
      "       Height In Metres\n",
      "547                38.0\n",
      "830                34.0\n",
      "920                38.0\n",
      "1193               36.0\n",
      "1213               31.0\n",
      "1309               31.0\n",
      "1356               96.0\n",
      "1863              127.0\n",
      "2488               35.0\n",
      "2627               32.0\n",
      "3556               31.0\n",
      "3898               33.0\n",
      "3906               40.0\n",
      "4034               33.0\n",
      "4036               36.0\n",
      "5116               31.0\n",
      "5152               41.0\n",
      "5172               35.0\n",
      "5765               37.0\n",
      "5856               39.0\n",
      "5859               38.0\n",
      "6080               31.0\n",
      "6372               31.0\n",
      "6901               38.0\n",
      "7384               31.0\n",
      "7398               34.0\n",
      "7593               36.0\n",
      "7663               32.0\n",
      "7698               31.6\n",
      "7735               34.0\n",
      "7961               35.0\n",
      "8012               35.0\n",
      "8127               36.0\n",
      "8198               33.0\n",
      "8291               34.0\n",
      "8474               38.0\n",
      "8587               32.0\n",
      "8724               33.0\n",
      "8870               36.0\n",
      "9376               33.0\n",
      "9529               33.0\n",
      "9599               36.0\n",
      "9638               36.0\n",
      "9943               35.0\n",
      "10145              32.0\n",
      "10295              32.0\n",
      "11226              32.0\n",
      "11327              32.0\n",
      "11789              33.0\n",
      "11830              31.0\n",
      "12025              32.0\n",
      "12100              31.0\n",
      "12197              36.0\n",
      "12708              34.0\n",
      "12736              30.4\n",
      "14389              32.0\n",
      "14689              37.0\n",
      "14759              34.0\n",
      "14947              33.0\n",
      "15361              33.0\n",
      "15456              32.0\n",
      "16231              37.0\n",
      "16526              31.0\n",
      "16612              31.0\n",
      "16893              37.0\n",
      "17021              31.0\n",
      "17437              35.0\n",
      "17688              32.0\n",
      "17719              39.0\n",
      "17766              34.0\n",
      "17835              41.0\n",
      "18075              34.0\n",
      "18810              38.0\n",
      "18930              35.0\n",
      "19039              39.0\n",
      "19746              37.0\n",
      "20222              32.0\n",
      "20957              33.0\n",
      "21340              39.0\n",
      "21379              35.0\n",
      "21840              31.0\n",
      "22109              39.0\n",
      "22238              35.0\n",
      "22284              31.0\n",
      "22477              31.0\n",
      "22500              36.0\n",
      "22686              32.0\n",
      "22701              33.0\n",
      "22901              33.0\n",
      "23007              35.0\n",
      "23147              31.0\n"
     ]
    }
   ],
   "source": [
    "# Identify and filter all outlier rows in the 'Height in Metres' column\n",
    "height_outliers = trees[trees['Height In Metres'] > 30]\n",
    "\n",
    "# Print only the 'Height in Metres' column for all outlier rows\n",
    "print(\"All outlier rows for 'Height In Metres' column:\")\n",
    "print(height_outliers[['Height In Metres']])"
   ]
  },
  {
   "cell_type": "markdown",
   "id": "c3e7ff2b-b69c-4095-a20d-bd6d2df1e68a",
   "metadata": {},
   "source": [
    "<hr/>"
   ]
  },
  {
   "cell_type": "markdown",
   "id": "f4d3025c-4a29-42e3-8821-8df2d8daa5e0",
   "metadata": {},
   "source": [
    "### 5.2 Outliers for Spread\n",
    "Now repeat the analysis for spread.\n",
    "<div style=\"background-color:lemonchiffon; border:1px solid; padding:5px; margin:5px; font-weight:bold\"><font color=\"crimson\">\n",
    "TODO: Complete the following code cells\n",
    "    </font></div>"
   ]
  },
  {
   "cell_type": "code",
   "execution_count": 65,
   "id": "ce6760cf-78d0-465d-b4a3-f199596983fa",
   "metadata": {},
   "outputs": [
    {
     "data": {
      "image/png": "[encoded data removed]",
      "text/plain": [
       "<Figure size 600x1000 with 1 Axes>"
      ]
     },
     "metadata": {},
     "output_type": "display_data"
    },
    {
     "name": "stdout",
     "output_type": "stream",
     "text": [
      "All rows containing outliers:\n",
      "      Identifier  Number Of Trees                                Site Name  \\\n",
      "245     00019404              1.0      PANCRAS ROAD, ST. PANCRAS GDNS (LS)   \n",
      "547     00017629              1.0             RUSSELL SQUARE, GARDENS (LS)   \n",
      "920     00017649              1.0             RUSSELL SQUARE, GARDENS (LS)   \n",
      "1173    00019435              1.0      PANCRAS ROAD, ST. PANCRAS GDNS (LS)   \n",
      "1213    00002734              1.0           BRUNSWICK SQUARE, GARDENS (LS)   \n",
      "1995    00001967              1.0          BLOOMSBURY SQUARE, GARDENS (LS)   \n",
      "2488    00017620              1.0             RUSSELL SQUARE, GARDENS (LS)   \n",
      "3400    00017468              1.0             RUSSELL SQUARE, GARDENS (LS)   \n",
      "3556    00001126              1.0              ARGYLE SQUARE, GARDENS (LS)   \n",
      "3898    00002706              1.0           BRUNSWICK SQUARE, GARDENS (LS)   \n",
      "4036    00016745              1.0              REGENT SQUARE, GARDENS (LS)   \n",
      "4210    00020264              1.0           TAVISTOCK SQUARE, GARDENS (LS)   \n",
      "4752    00018556              1.0      GRAYS INN RD, ST. ANDREWS GDNS (LS)   \n",
      "4766    00021403              1.0                       WATERLOW PARK (LS)   \n",
      "5229    00002735              1.0           BRUNSWICK SQUARE, GARDENS (LS)   \n",
      "5545    00021289              1.0                       WATERLOW PARK (LS)   \n",
      "5647    00012918              1.0       LINCOLN'S INN FIELDS, GARDENS (LS)   \n",
      "6885    00020262              1.0           TAVISTOCK SQUARE, GARDENS (LS)   \n",
      "6901    00017660              1.0             RUSSELL SQUARE, GARDENS (LS)   \n",
      "6903    00021040              1.0                       WATERLOW PARK (LS)   \n",
      "7137    00021409              1.0                       WATERLOW PARK (LS)   \n",
      "7229    00012812              1.0       LINCOLN'S INN FIELDS, GARDENS (LS)   \n",
      "7398    00017628              1.0             RUSSELL SQUARE, GARDENS (LS)   \n",
      "7593    00001123              1.0              ARGYLE SQUARE, GARDENS (LS)   \n",
      "7622    00021552              1.0                       WATERLOW PARK (LS)   \n",
      "7698    00006148              1.0              EUSTON SQUARE, GARDENS (LS)   \n",
      "7735    00015286              1.0              OAKLEY SQUARE, GARDENS (LS)   \n",
      "7961    00002728              1.0           BRUNSWICK SQUARE, GARDENS (LS)   \n",
      "8005    00019426              1.0      PANCRAS ROAD, ST. PANCRAS GDNS (LS)   \n",
      "8127    00001124              1.0              ARGYLE SQUARE, GARDENS (LS)   \n",
      "8179    00012846              1.0       LINCOLN'S INN FIELDS, GARDENS (LS)   \n",
      "8474    00017602              1.0             RUSSELL SQUARE, GARDENS (LS)   \n",
      "8587    00016742              1.0              REGENT SQUARE, GARDENS (LS)   \n",
      "8724    00002730              1.0           BRUNSWICK SQUARE, GARDENS (LS)   \n",
      "8737    00019491              1.0      PANCRAS ROAD, ST. PANCRAS GDNS (LS)   \n",
      "8870    00017656              1.0             RUSSELL SQUARE, GARDENS (LS)   \n",
      "9026    00002709              1.0           BRUNSWICK SQUARE, GARDENS (LS)   \n",
      "9036    00006269              1.0              EUSTON SQUARE, GARDENS (LS)   \n",
      "9376    00020219              1.0           TAVISTOCK SQUARE, GARDENS (LS)   \n",
      "9638    00001125              1.0              ARGYLE SQUARE, GARDENS (LS)   \n",
      "10106   00019405              1.0      PANCRAS ROAD, ST. PANCRAS GDNS (LS)   \n",
      "10350   00021436              1.0                       WATERLOW PARK (LS)   \n",
      "10925   00020238              1.0           TAVISTOCK SQUARE, GARDENS (LS)   \n",
      "11325   00012810              1.0       LINCOLN'S INN FIELDS, GARDENS (LS)   \n",
      "11665   00020242              1.0           TAVISTOCK SQUARE, GARDENS (LS)   \n",
      "11789   00016743              1.0              REGENT SQUARE, GARDENS (LS)   \n",
      "11795   00016702              1.0            RED LION SQUARE, GARDENS (LS)   \n",
      "11860   00012885              1.0       LINCOLN'S INN FIELDS, GARDENS (LS)   \n",
      "11866   00020232              1.0           TAVISTOCK SQUARE, GARDENS (LS)   \n",
      "12099   00034454              1.0                     GREAT RUSSELL STREET   \n",
      "12100   00020224              1.0           TAVISTOCK SQUARE, GARDENS (LS)   \n",
      "12197   00017687              1.0             RUSSELL SQUARE, GARDENS (LS)   \n",
      "12538   00016704              1.0            RED LION SQUARE, GARDENS (LS)   \n",
      "12708   00016738              1.0              REGENT SQUARE, GARDENS (LS)   \n",
      "12998   00054158              1.0                   BRANCH HILL ALLOTMENTS   \n",
      "13037   00018524              1.0      GRAYS INN RD, ST. ANDREWS GDNS (LS)   \n",
      "14394   00013872              1.0                   Maitland Park Estate 1   \n",
      "14947   00016740              1.0              REGENT SQUARE, GARDENS (LS)   \n",
      "15361   00016735              1.0              REGENT SQUARE, GARDENS (LS)   \n",
      "15436   00006403              1.0                            EUSTON SQUARE   \n",
      "15845   00020241              1.0           TAVISTOCK SQUARE, GARDENS (LS)   \n",
      "16000   00017477              1.0             RUSSELL SQUARE, GARDENS (LS)   \n",
      "16200   00012833              1.0       LINCOLN'S INN FIELDS, GARDENS (LS)   \n",
      "16231   00012874              1.0       LINCOLN'S INN FIELDS, GARDENS (LS)   \n",
      "16239   00043609              1.0                         Churchway Estate   \n",
      "16507   00019429              1.0      PANCRAS ROAD, ST. PANCRAS GDNS (LS)   \n",
      "16526   00017669              1.0             RUSSELL SQUARE, GARDENS (LS)   \n",
      "16863   00018769              1.0  ST. GEORGE'S GARDENS, HEATHCOTE ST (LS)   \n",
      "16954   00020237              1.0           TAVISTOCK SQUARE, GARDENS (LS)   \n",
      "17256   00016692              1.0            RED LION SQUARE, GARDENS (LS)   \n",
      "17402   00006160              1.0              EUSTON SQUARE, GARDENS (LS)   \n",
      "17816   00021404              1.0                       WATERLOW PARK (LS)   \n",
      "17835   00017605              1.0             RUSSELL SQUARE, GARDENS (LS)   \n",
      "18045   00019410              1.0      PANCRAS ROAD, ST. PANCRAS GDNS (LS)   \n",
      "18567   00045515              1.0                      Broadfield Estate 1   \n",
      "18829   00021437              1.0                       WATERLOW PARK (LS)   \n",
      "18884   00001122              1.0              ARGYLE SQUARE, GARDENS (LS)   \n",
      "18930   00018775              1.0  ST. GEORGE'S GARDENS, HEATHCOTE ST (LS)   \n",
      "19052   00019455              1.0      PANCRAS ROAD, ST. PANCRAS GDNS (LS)   \n",
      "19643   00012920              1.0       LINCOLN'S INN FIELDS, GARDENS (LS)   \n",
      "19746   00017648              1.0             RUSSELL SQUARE, GARDENS (LS)   \n",
      "19776   00010138              1.0      HIGHGATE RD, H'GATE ENCLOSURES (LS)   \n",
      "20426   00012873              1.0       LINCOLN'S INN FIELDS, GARDENS (LS)   \n",
      "20533   00020261              1.0           TAVISTOCK SQUARE, GARDENS (LS)   \n",
      "20535   00020254              1.0           TAVISTOCK SQUARE, GARDENS (LS)   \n",
      "20755   00021919              1.0        Estate 1-64 (cons)The Wells House   \n",
      "20885   00021920              1.0        Estate 1-64 (cons)The Wells House   \n",
      "21379   00016746              1.0              REGENT SQUARE, GARDENS (LS)   \n",
      "21631   00020231              1.0           TAVISTOCK SQUARE, GARDENS (LS)   \n",
      "22248   00002727              1.0           BRUNSWICK SQUARE, GARDENS (LS)   \n",
      "22477   00012886              1.0       LINCOLN'S INN FIELDS, GARDENS (LS)   \n",
      "22500   00016737              1.0              REGENT SQUARE, GARDENS (LS)   \n",
      "22531   00004097              1.0      LONGFORD STREET, CLARENCE GDNS (LS)   \n",
      "22684   00021402              1.0                       WATERLOW PARK (LS)   \n",
      "22701   00017513              1.0             RUSSELL SQUARE, GARDENS (LS)   \n",
      "22718   00002707              1.0           BRUNSWICK SQUARE, GARDENS (LS)   \n",
      "22781   00012923              1.0       LINCOLN'S INN FIELDS, GARDENS (LS)   \n",
      "22901   00017692              1.0             RUSSELL SQUARE, GARDENS (LS)   \n",
      "22924   00013781              1.0                   Maitland Park Estate 2   \n",
      "23007   00002705              1.0           BRUNSWICK SQUARE, GARDENS (LS)   \n",
      "\n",
      "      Contract Area         Scientific Name Inspection Date  \\\n",
      "245           Parks    Platanus x hispanica      2017-03-14   \n",
      "547           Parks    Platanus x hispanica      2018-03-16   \n",
      "920           Parks    Platanus x hispanica      2018-03-16   \n",
      "1173          Parks    Platanus x hispanica      2017-03-15   \n",
      "1213          Parks    Platanus x hispanica      2018-03-21   \n",
      "1995          Parks    Platanus x hispanica      2018-12-04   \n",
      "2488          Parks    Platanus x hispanica      2018-03-14   \n",
      "3400          Parks    Platanus x hispanica      2018-03-14   \n",
      "3556          Parks    Platanus x hispanica      2018-03-14   \n",
      "3898          Parks    Platanus x hispanica      2018-03-21   \n",
      "4036          Parks    Platanus x hispanica      2018-03-19   \n",
      "4210          Parks    Platanus x hispanica      2018-06-04   \n",
      "4752          Parks    Platanus x hispanica      2018-04-17   \n",
      "4766          Parks    Platanus x hispanica      2019-06-19   \n",
      "5229          Parks    Platanus x hispanica      2018-03-23   \n",
      "5545          Parks  Aesculus hippocastanum      2019-06-25   \n",
      "5647          Parks    Platanus x hispanica      2018-04-24   \n",
      "6885          Parks    Platanus x hispanica      2018-06-04   \n",
      "6901          Parks    Platanus x hispanica      2018-03-20   \n",
      "6903          Parks  Aesculus hippocastanum      2019-05-24   \n",
      "7137          Parks    Platanus x hispanica      2019-06-19   \n",
      "7229          Parks    Platanus x hispanica      2018-04-18   \n",
      "7398          Parks    Platanus x hispanica      2018-03-16   \n",
      "7593          Parks    Platanus x hispanica      2018-03-14   \n",
      "7622          Parks          Quercus cerris      2019-06-20   \n",
      "7698          Parks    Platanus x hispanica      2018-07-03   \n",
      "7735          Parks    Platanus x hispanica      2018-03-26   \n",
      "7961          Parks    Platanus x hispanica      2018-03-23   \n",
      "8005          Parks    Platanus x hispanica      2017-03-15   \n",
      "8127          Parks    Platanus x hispanica      2018-03-14   \n",
      "8179          Parks    Platanus x hispanica      2018-04-24   \n",
      "8474          Parks    Platanus x hispanica      2018-03-14   \n",
      "8587          Parks    Platanus x hispanica      2018-03-14   \n",
      "8724          Parks    Platanus x hispanica      2018-03-23   \n",
      "8737          Parks    Platanus x hispanica      2017-03-14   \n",
      "8870          Parks    Platanus x hispanica      2018-03-20   \n",
      "9026          Parks    Platanus x hispanica      2018-03-21   \n",
      "9036          Parks    Platanus x hispanica      2018-07-03   \n",
      "9376          Parks    Platanus x hispanica      2018-06-04   \n",
      "9638          Parks    Platanus x hispanica      2018-03-14   \n",
      "10106         Parks    Platanus x hispanica      2017-03-14   \n",
      "10350         Parks    Platanus x hispanica      2019-06-20   \n",
      "10925         Parks    Platanus x hispanica      2018-06-04   \n",
      "11325         Parks    Platanus x hispanica      2018-04-18   \n",
      "11665         Parks    Platanus x hispanica      2018-06-04   \n",
      "11789         Parks    Platanus x hispanica      2018-03-14   \n",
      "11795         Parks    Platanus x hispanica      2018-06-04   \n",
      "11860         Parks    Platanus x hispanica      2018-04-20   \n",
      "11866         Parks    Platanus x hispanica      2018-06-04   \n",
      "12099      Highways    Platanus x hispanica      2019-02-09   \n",
      "12100         Parks    Platanus x hispanica      2018-06-04   \n",
      "12197         Parks    Platanus x hispanica      2018-03-16   \n",
      "12538         Parks    Platanus x hispanica      2018-06-04   \n",
      "12708         Parks    Platanus x hispanica      2018-03-14   \n",
      "12998         Parks  Aesculus hippocastanum      2017-03-29   \n",
      "13037         Parks    Platanus x hispanica      2018-04-17   \n",
      "14394       Housing      Fraxinus excelsior      2017-05-16   \n",
      "14947         Parks    Platanus x hispanica      2018-03-19   \n",
      "15361         Parks    Platanus x hispanica      2018-03-23   \n",
      "15436      Highways    Platanus x hispanica      2019-10-30   \n",
      "15845         Parks    Platanus x hispanica      2018-06-04   \n",
      "16000         Parks    Platanus x hispanica      2018-03-14   \n",
      "16200         Parks    Platanus x hispanica      2018-04-25   \n",
      "16231         Parks    Platanus x hispanica      2018-04-20   \n",
      "16239       Housing        Sorbus aucuparia      2019-11-09   \n",
      "16507         Parks    Platanus x hispanica      2017-03-15   \n",
      "16526         Parks    Platanus x hispanica      2018-03-20   \n",
      "16863         Parks    Platanus x hispanica      2018-03-20   \n",
      "16954         Parks    Platanus x hispanica      2018-06-04   \n",
      "17256         Parks    Platanus x hispanica      2018-06-04   \n",
      "17402         Parks    Platanus x hispanica      2018-07-03   \n",
      "17816         Parks    Platanus x hispanica      2019-06-19   \n",
      "17835         Parks    Platanus x hispanica      2018-03-14   \n",
      "18045         Parks    Platanus x hispanica      2017-03-14   \n",
      "18567       Housing           Quercus robur      2018-04-26   \n",
      "18829         Parks    Platanus x hispanica      2019-06-20   \n",
      "18884         Parks    Platanus x hispanica      2018-03-14   \n",
      "18930         Parks    Platanus x hispanica      2018-03-20   \n",
      "19052         Parks    Platanus x hispanica      2017-03-14   \n",
      "19643         Parks    Platanus x hispanica      2018-04-24   \n",
      "19746         Parks    Platanus x hispanica      2018-03-16   \n",
      "19776         Parks    Platanus x hispanica      2019-01-07   \n",
      "20426         Parks    Platanus x hispanica      2018-04-20   \n",
      "20533         Parks    Platanus x hispanica      2018-06-04   \n",
      "20535         Parks    Platanus x hispanica      2018-05-04   \n",
      "20755       Housing    Platanus x hispanica      2018-04-05   \n",
      "20885       Housing    Platanus x hispanica      2018-04-05   \n",
      "21379         Parks    Platanus x hispanica      2018-03-19   \n",
      "21631         Parks    Platanus x hispanica      2018-06-04   \n",
      "22248         Parks    Platanus x hispanica      2018-03-23   \n",
      "22477         Parks    Platanus x hispanica      2018-04-20   \n",
      "22500         Parks    Platanus x hispanica      2018-03-19   \n",
      "22531         Parks    Platanus x hispanica      2018-03-28   \n",
      "22684         Parks    Platanus x hispanica      2019-06-19   \n",
      "22701         Parks    Platanus x hispanica      2018-03-14   \n",
      "22718         Parks    Platanus x hispanica      2018-03-21   \n",
      "22781         Parks    Platanus x hispanica      2018-04-19   \n",
      "22901         Parks    Platanus x hispanica      2018-03-20   \n",
      "22924       Housing      Fraxinus excelsior      2017-05-18   \n",
      "23007         Parks    Platanus x hispanica      2018-03-21   \n",
      "\n",
      "      Inspection Due Date  Height In Metres  Spread In Metres  \\\n",
      "245             2019/2020              25.0              22.0   \n",
      "547             2020/2021              38.0              26.0   \n",
      "920             2020/2021              38.0              23.0   \n",
      "1173            2019/2020              25.0              21.0   \n",
      "1213            2020/2021              31.0              28.0   \n",
      "1995            2021/2022              24.0              21.0   \n",
      "2488            2020/2021              35.0              23.0   \n",
      "3400            2020/2021              22.0              21.0   \n",
      "3556            2020/2021              31.0              24.0   \n",
      "3898            2020/2021              33.0              24.0   \n",
      "4036            2020/2021              36.0              22.0   \n",
      "4210            2021/2022              30.0              21.0   \n",
      "4752            2021/2022              29.0              21.0   \n",
      "4766            2022/2023              30.0              23.0   \n",
      "5229            2020/2021              28.0              30.0   \n",
      "5545            2022/2023              25.0              22.0   \n",
      "5647            2021/2022              29.0              24.0   \n",
      "6885            2021/2022              30.0              27.0   \n",
      "6901            2020/2021              38.0              22.0   \n",
      "6903            2022/2023              22.0              22.0   \n",
      "7137            2022/2023              30.0              21.0   \n",
      "7229            2021/2022              23.0              22.0   \n",
      "7398            2020/2021              34.0              21.0   \n",
      "7593            2020/2021              36.0              23.0   \n",
      "7622            2022/2023              22.0              22.0   \n",
      "7698            2020/2021              31.6              21.0   \n",
      "7735            2020/2021              34.0              21.0   \n",
      "7961            2020/2021              35.0              31.0   \n",
      "8005            2019/2020              23.0              25.0   \n",
      "8127            2020/2021              36.0              21.0   \n",
      "8179            2021/2022              28.0              25.0   \n",
      "8474            2020/2021              38.0              21.0   \n",
      "8587            2020/2021              32.0              26.0   \n",
      "8724            2020/2021              33.0              26.0   \n",
      "8737            2019/2020              24.0              25.0   \n",
      "8870            2020/2021              36.0              21.0   \n",
      "9026            2020/2021              28.0              22.0   \n",
      "9036            2020/2021              22.0              21.0   \n",
      "9376            2021/2022              33.0              22.0   \n",
      "9638            2020/2021              36.0              24.0   \n",
      "10106           2019/2020              26.0              21.0   \n",
      "10350           2022/2023              29.0              22.0   \n",
      "10925           2021/2022              28.0              21.0   \n",
      "11325           2021/2022              24.0              22.0   \n",
      "11665           2021/2022              28.0              24.0   \n",
      "11789           2020/2021              33.0              30.0   \n",
      "11795           2021/2022              30.0              23.0   \n",
      "11860           2021/2022              24.0              24.0   \n",
      "11866           2021/2022              29.0              22.0   \n",
      "12099           2022/2023              23.0              22.0   \n",
      "12100           2021/2022              31.0              21.0   \n",
      "12197           2020/2021              36.0              22.0   \n",
      "12538           2021/2022              29.0              22.0   \n",
      "12708           2020/2021              34.0              24.0   \n",
      "12998           2019/2020              23.0              24.0   \n",
      "13037           2021/2022              28.0              22.0   \n",
      "14394           2020/2021              19.0              23.0   \n",
      "14947           2020/2021              33.0              21.0   \n",
      "15361           2020/2021              33.0              23.0   \n",
      "15436           2022/2023              26.0              22.0   \n",
      "15845           2021/2022              29.0              21.0   \n",
      "16000           2020/2021              30.0              22.0   \n",
      "16200           2021/2022              29.0              22.0   \n",
      "16231           2021/2022              37.0              26.0   \n",
      "16239           2022/2023               8.0              29.0   \n",
      "16507           2019/2020              27.0              21.0   \n",
      "16526           2020/2021              31.0              21.0   \n",
      "16863           2020/2021              28.0              26.0   \n",
      "16954           2021/2022              30.0              21.0   \n",
      "17256           2021/2022              28.0              24.0   \n",
      "17402           2020/2021              28.0              21.0   \n",
      "17816           2022/2023              30.0              25.0   \n",
      "17835           2020/2021              41.0              21.0   \n",
      "18045           2019/2020              25.0              23.0   \n",
      "18567           2021/2022               8.0              88.0   \n",
      "18829           2022/2023              26.0              25.0   \n",
      "18884           2020/2021              29.0              21.0   \n",
      "18930           2020/2021              35.0              24.0   \n",
      "19052           2019/2020              20.0              21.0   \n",
      "19643           2021/2022              29.0              21.0   \n",
      "19746           2020/2021              37.0              28.0   \n",
      "19776           2022/2023              28.0              22.0   \n",
      "20426           2021/2022              29.0              26.0   \n",
      "20533           2021/2022              30.0              21.0   \n",
      "20535           2021/2022              28.0              27.0   \n",
      "20755           2021/2022              24.0              21.0   \n",
      "20885           2021/2022              25.0              21.0   \n",
      "21379           2020/2021              35.0              21.0   \n",
      "21631           2021/2022              30.0              24.0   \n",
      "22248           2020/2021              28.0              21.0   \n",
      "22477           2021/2022              31.0              25.0   \n",
      "22500           2020/2021              36.0              28.0   \n",
      "22531           2020/2021              25.0              25.0   \n",
      "22684           2022/2023              30.0              23.0   \n",
      "22701           2020/2021              33.0              24.0   \n",
      "22718           2020/2021              30.0              24.0   \n",
      "22781           2021/2022              27.0              22.0   \n",
      "22901           2020/2021              33.0              21.0   \n",
      "22924           2020/2021              18.0              22.0   \n",
      "23007           2020/2021              35.0              26.0   \n",
      "\n",
      "       Diameter In Centimetres At Breast Height  Ward Code  \\\n",
      "245                                       114.0  E05000143   \n",
      "547                                       161.0  E05000129   \n",
      "920                                       132.0  E05000129   \n",
      "1173                                      110.0  E05000143   \n",
      "1213                                      170.0  E05000141   \n",
      "1995                                      158.0  E05000138   \n",
      "2488                                      151.0  E05000129   \n",
      "3400                                      124.0  E05000129   \n",
      "3556                                      156.0  E05000141   \n",
      "3898                                      105.0  E05000141   \n",
      "4036                                      144.0  E05000141   \n",
      "4210                                      127.0  E05000129   \n",
      "4752                                       95.0  E05000141   \n",
      "4766                                      154.0  E05000137   \n",
      "5229                                      197.0  E05000141   \n",
      "5545                                      123.0  E05000137   \n",
      "5647                                      126.0  E05000138   \n",
      "6885                                      154.0  E05000129   \n",
      "6901                                      147.0  E05000129   \n",
      "6903                                      113.0  E05000137   \n",
      "7137                                      162.0  E05000137   \n",
      "7229                                       90.0  E05000138   \n",
      "7398                                      131.0  E05000129   \n",
      "7593                                      132.0  E05000141   \n",
      "7622                                      103.0  E05000137   \n",
      "7698                                      153.0  E05000142   \n",
      "7735                                      107.0  E05000142   \n",
      "7961                                      165.0  E05000141   \n",
      "8005                                      137.0  E05000143   \n",
      "8127                                      123.0  E05000141   \n",
      "8179                                      200.0  E05000138   \n",
      "8474                                      122.0  E05000129   \n",
      "8587                                      115.0  E05000141   \n",
      "8724                                      170.0  E05000141   \n",
      "8737                                      200.0  E05000143   \n",
      "8870                                      177.0  E05000129   \n",
      "9026                                      105.0  E05000141   \n",
      "9036                                      152.0  E05000142   \n",
      "9376                                      112.0  E05000129   \n",
      "9638                                      134.0  E05000141   \n",
      "10106                                     113.0  E05000143   \n",
      "10350                                     123.0  E05000137   \n",
      "10925                                     120.0  E05000129   \n",
      "11325                                     150.0  E05000138   \n",
      "11665                                     187.0  E05000129   \n",
      "11789                                     127.0  E05000141   \n",
      "11795                                     165.0  E05000138   \n",
      "11860                                     210.0  E05000138   \n",
      "11866                                     129.0  E05000129   \n",
      "12099                                     100.0  E05000129   \n",
      "12100                                     138.0  E05000129   \n",
      "12197                                     149.0  E05000129   \n",
      "12538                                     170.0  E05000138   \n",
      "12708                                     137.0  E05000141   \n",
      "12998                                     108.0  E05000133   \n",
      "13037                                     148.0  E05000141   \n",
      "14394                                      94.0  E05000136   \n",
      "14947                                     107.0  E05000141   \n",
      "15361                                     138.0  E05000141   \n",
      "15436                                     159.0  E05000142   \n",
      "15845                                     119.0  E05000129   \n",
      "16000                                     127.0  E05000129   \n",
      "16200                                     184.0  E05000138   \n",
      "16231                                     134.0  E05000138   \n",
      "16239                                       9.0  E05000143   \n",
      "16507                                      94.0  E05000143   \n",
      "16526                                     110.0  E05000129   \n",
      "16863                                     153.0  E05000141   \n",
      "16954                                     123.0  E05000129   \n",
      "17256                                     170.0  E05000138   \n",
      "17402                                     113.0  E05000142   \n",
      "17816                                     173.0  E05000137   \n",
      "17835                                     142.0  E05000129   \n",
      "18045                                     111.0  E05000143   \n",
      "18567                                      17.0  E05000144   \n",
      "18829                                      97.0  E05000137   \n",
      "18884                                     125.0  E05000141   \n",
      "18930                                     194.0  E05000141   \n",
      "19052                                     121.0  E05000143   \n",
      "19643                                     147.0  E05000138   \n",
      "19746                                     157.0  E05000129   \n",
      "19776                                     112.0  E05000137   \n",
      "20426                                     197.0  E05000138   \n",
      "20533                                     150.0  E05000129   \n",
      "20535                                     127.0  E05000129   \n",
      "20755                                     137.0  E05000135   \n",
      "20885                                     107.0  E05000135   \n",
      "21379                                     148.0  E05000141   \n",
      "21631                                      97.0  E05000129   \n",
      "22248                                     157.0  E05000141   \n",
      "22477                                     165.0  E05000138   \n",
      "22500                                     140.0  E05000141   \n",
      "22531                                     125.0  E05000142   \n",
      "22684                                     153.0  E05000137   \n",
      "22701                                      98.0  E05000129   \n",
      "22718                                      79.0  E05000141   \n",
      "22781                                     185.0  E05000138   \n",
      "22901                                     144.0  E05000129   \n",
      "22924                                      83.0  E05000136   \n",
      "23007                                      87.0  E05000141   \n",
      "\n",
      "                        Ward Name  Easting  Northing  Longitude   Latitude  \\\n",
      "245    St Pancras and Somers Town   529756    183538  -0.130537  51.535845   \n",
      "547                    Bloomsbury   530077    182009  -0.126474  51.522027   \n",
      "920                    Bloomsbury   530126    182017  -0.125765  51.522094   \n",
      "1173   St Pancras and Somers Town   529668    183519  -0.131809  51.535695   \n",
      "1213                 King's Cross   530384    182302  -0.121941  51.524590   \n",
      "1995    Holborn and Covent Garden   530322    181725  -0.123054  51.519422   \n",
      "2488                   Bloomsbury   530112    182068  -0.125957  51.522553   \n",
      "3400                   Bloomsbury   530143    182053  -0.125511  51.522408   \n",
      "3556                 King's Cross   530364    182802  -0.122045  51.529090   \n",
      "3898                 King's Cross   530428    182320  -0.121311  51.524746   \n",
      "4036                 King's Cross   530415    182577  -0.121395  51.527060   \n",
      "4210                   Bloomsbury   529846    182385  -0.129671  51.525466   \n",
      "4752                 King's Cross   530774    182412  -0.116295  51.525491   \n",
      "4766                     Highgate   528829    187153  -0.142576  51.568541   \n",
      "5229                 King's Cross   530387    182261  -0.121914  51.524218   \n",
      "5545                     Highgate   528556    187039  -0.146549  51.567585   \n",
      "5647    Holborn and Covent Garden   530796    181373  -0.116357  51.516144   \n",
      "6885                   Bloomsbury   529836    182356  -0.129823  51.525205   \n",
      "6901                   Bloomsbury   530077    181977  -0.126489  51.521742   \n",
      "6903                     Highgate   528761    187270  -0.143512  51.569608   \n",
      "7137                     Highgate   528784    187141  -0.143222  51.568448   \n",
      "7229    Holborn and Covent Garden   530807    181469  -0.116157  51.517005   \n",
      "7398                   Bloomsbury   530065    181986  -0.126665  51.521824   \n",
      "7593                 King's Cross   530323    182828  -0.122632  51.529329   \n",
      "7622                     Highgate   528774    186995  -0.143422  51.567137   \n",
      "7698                Regent's Park   529562    182509  -0.133711  51.526643   \n",
      "7735                Regent's Park   529380    183364  -0.136026  51.534367   \n",
      "7961                 King's Cross   530424    182282  -0.121378  51.524403   \n",
      "8005   St Pancras and Somers Town   529713    183531  -0.131167  51.535793   \n",
      "8127                 King's Cross   530328    182831  -0.122552  51.529360   \n",
      "8179    Holborn and Covent Garden   530834    181409  -0.115802  51.516467   \n",
      "8474                   Bloomsbury   530066    182043  -0.126622  51.522334   \n",
      "8587                 King's Cross   530371    182560  -0.122034  51.526909   \n",
      "8724                 King's Cross   530415    182312  -0.121495  51.524675   \n",
      "8737   St Pancras and Somers Town   529789    183478  -0.130079  51.535299   \n",
      "8870                   Bloomsbury   530122    181955  -0.125851  51.521536   \n",
      "9026                 King's Cross   530438    182292  -0.121169  51.524492   \n",
      "9036                Regent's Park   529725    182616  -0.131320  51.527565   \n",
      "9376                   Bloomsbury   529924    182355  -0.128555  51.525179   \n",
      "9638                 King's Cross   530346    182828  -0.122304  51.529328   \n",
      "10106  St Pancras and Somers Town   529749    183526  -0.130646  51.535738   \n",
      "10350                    Highgate   528873    187122  -0.141946  51.568257   \n",
      "10925                  Bloomsbury   529894    182277  -0.129023  51.524477   \n",
      "11325   Holborn and Covent Garden   530786    181460  -0.116463  51.516935   \n",
      "11665                  Bloomsbury   529873    182306  -0.129313  51.524743   \n",
      "11789                King's Cross   530380    182555  -0.121909  51.526866   \n",
      "11795   Holborn and Covent Garden   530572    181701  -0.119460  51.519146   \n",
      "11860   Holborn and Covent Garden   530820    181358  -0.116011  51.516010   \n",
      "11866                  Bloomsbury   529901    182361  -0.128878  51.525232   \n",
      "12099                  Bloomsbury   530170    181635  -0.125274  51.518643   \n",
      "12100                  Bloomsbury   529946    182296  -0.128255  51.524640   \n",
      "12197                  Bloomsbury   530170    181939  -0.125169  51.521377   \n",
      "12538   Holborn and Covent Garden   530598    181716  -0.119075  51.519274   \n",
      "12708                King's Cross   530403    182555  -0.121581  51.526858   \n",
      "12998       Frognal and Fitzjohns   526074    186050  -0.182701  51.559256   \n",
      "13037                King's Cross   530810    182391  -0.115779  51.525294   \n",
      "14394                  Haverstock   527931    184900  -0.156348  51.548503   \n",
      "14947                King's Cross   530373    182534  -0.122018  51.526678   \n",
      "15361                King's Cross   530429    182550  -0.121214  51.526808   \n",
      "15436               Regent's Park   529691    182618  -0.131819  51.527589   \n",
      "15845                  Bloomsbury   529881    182295  -0.129200  51.524642   \n",
      "16000                  Bloomsbury   530160    182031  -0.125271  51.522210   \n",
      "16200   Holborn and Covent Garden   530816    181440  -0.116050  51.516750   \n",
      "16231   Holborn and Covent Garden   530832    181387  -0.115828  51.516261   \n",
      "16239  St Pancras and Somers Town   529764    182699  -0.130727  51.528305   \n",
      "16507  St Pancras and Somers Town   529678    183525  -0.131668  51.535748   \n",
      "16526                  Bloomsbury   530095    181927  -0.126252  51.521289   \n",
      "16863                King's Cross   530442    182464  -0.121055  51.526034   \n",
      "16954                  Bloomsbury   529915    182274  -0.128716  51.524448   \n",
      "17256   Holborn and Covent Garden   530625    181699  -0.118695  51.519113   \n",
      "17402               Regent's Park   529578    182504  -0.133486  51.526596   \n",
      "17816                    Highgate   528815    187160  -0.142769  51.568608   \n",
      "17835                  Bloomsbury   530078    182050  -0.126445  51.522397   \n",
      "18045  St Pancras and Somers Town   529780    183511  -0.130210  51.535596   \n",
      "18567               Swiss Cottage   525993    184693  -0.184348  51.547074   \n",
      "18829                    Highgate   528878    187110  -0.141889  51.568149   \n",
      "18884                King's Cross   530317    182811  -0.122730  51.529183   \n",
      "18930                King's Cross   530485    182497  -0.120423  51.526317   \n",
      "19052  St Pancras and Somers Town   529743    183433  -0.130766  51.534901   \n",
      "19643   Holborn and Covent Garden   530816    181394  -0.116059  51.516329   \n",
      "19746                  Bloomsbury   530154    181987  -0.125377  51.521817   \n",
      "19776                    Highgate   528618    185822  -0.146105  51.556627   \n",
      "20426   Holborn and Covent Garden   530853    181378  -0.115534  51.516179   \n",
      "20533                  Bloomsbury   529847    182342  -0.129675  51.525072   \n",
      "20535                  Bloomsbury   529893    182314  -0.129016  51.524812   \n",
      "20755              Hampstead Town   526633    185922  -0.174692  51.557974   \n",
      "20885              Hampstead Town   526638    185928  -0.174618  51.558033   \n",
      "21379                King's Cross   530423    182574  -0.121291  51.527026   \n",
      "21631                  Bloomsbury   529915    182342  -0.128691  51.525055   \n",
      "22248                King's Cross   530433    182260  -0.121253  51.524205   \n",
      "22477   Holborn and Covent Garden   530806    181344  -0.116221  51.515886   \n",
      "22500                King's Cross   530408    182541  -0.121515  51.526730   \n",
      "22531               Regent's Park   528993    182622  -0.141865  51.527784   \n",
      "22684                    Highgate   528844    187150  -0.142362  51.568513   \n",
      "22701                  Bloomsbury   530175    181924  -0.125100  51.521247   \n",
      "22718                King's Cross   530432    182309  -0.121258  51.524647   \n",
      "22781   Holborn and Covent Garden   530769    181399  -0.116734  51.516390   \n",
      "22901                  Bloomsbury   530098    181981  -0.126181  51.521772   \n",
      "22924                  Haverstock   527924    184870  -0.156460  51.548236   \n",
      "23007                King's Cross   530424    182330  -0.121355  51.524830   \n",
      "\n",
      "                     Location  \n",
      "245    (51.535845, -0.130537)  \n",
      "547    (51.522027, -0.126474)  \n",
      "920    (51.522094, -0.125765)  \n",
      "1173   (51.535695, -0.131809)  \n",
      "1213    (51.52459, -0.121941)  \n",
      "1995   (51.519422, -0.123054)  \n",
      "2488   (51.522553, -0.125957)  \n",
      "3400   (51.522408, -0.125511)  \n",
      "3556    (51.52909, -0.122045)  \n",
      "3898   (51.524746, -0.121311)  \n",
      "4036    (51.52706, -0.121395)  \n",
      "4210   (51.525466, -0.129671)  \n",
      "4752   (51.525491, -0.116295)  \n",
      "4766   (51.568541, -0.142576)  \n",
      "5229   (51.524218, -0.121914)  \n",
      "5545   (51.567585, -0.146549)  \n",
      "5647   (51.516144, -0.116357)  \n",
      "6885   (51.525205, -0.129823)  \n",
      "6901   (51.521742, -0.126489)  \n",
      "6903   (51.569608, -0.143512)  \n",
      "7137   (51.568448, -0.143222)  \n",
      "7229   (51.517005, -0.116157)  \n",
      "7398   (51.521824, -0.126665)  \n",
      "7593   (51.529329, -0.122632)  \n",
      "7622   (51.567137, -0.143422)  \n",
      "7698   (51.526643, -0.133711)  \n",
      "7735   (51.534367, -0.136026)  \n",
      "7961   (51.524403, -0.121378)  \n",
      "8005   (51.535793, -0.131167)  \n",
      "8127    (51.52936, -0.122552)  \n",
      "8179   (51.516467, -0.115802)  \n",
      "8474   (51.522334, -0.126622)  \n",
      "8587   (51.526909, -0.122034)  \n",
      "8724   (51.524675, -0.121495)  \n",
      "8737   (51.535299, -0.130079)  \n",
      "8870   (51.521536, -0.125851)  \n",
      "9026   (51.524492, -0.121169)  \n",
      "9036    (51.527565, -0.13132)  \n",
      "9376   (51.525179, -0.128555)  \n",
      "9638   (51.529328, -0.122304)  \n",
      "10106  (51.535738, -0.130646)  \n",
      "10350  (51.568257, -0.141946)  \n",
      "10925  (51.524477, -0.129023)  \n",
      "11325  (51.516935, -0.116463)  \n",
      "11665  (51.524743, -0.129313)  \n",
      "11789  (51.526866, -0.121909)  \n",
      "11795   (51.519146, -0.11946)  \n",
      "11860   (51.51601, -0.116011)  \n",
      "11866  (51.525232, -0.128878)  \n",
      "12099  (51.518643, -0.125274)  \n",
      "12100   (51.52464, -0.128255)  \n",
      "12197  (51.521377, -0.125169)  \n",
      "12538  (51.519274, -0.119075)  \n",
      "12708  (51.526858, -0.121581)  \n",
      "12998  (51.559256, -0.182701)  \n",
      "13037  (51.525294, -0.115779)  \n",
      "14394  (51.548503, -0.156348)  \n",
      "14947  (51.526678, -0.122018)  \n",
      "15361  (51.526808, -0.121214)  \n",
      "15436  (51.527589, -0.131819)  \n",
      "15845    (51.524642, -0.1292)  \n",
      "16000   (51.52221, -0.125271)  \n",
      "16200    (51.51675, -0.11605)  \n",
      "16231  (51.516261, -0.115828)  \n",
      "16239  (51.528305, -0.130727)  \n",
      "16507  (51.535748, -0.131668)  \n",
      "16526  (51.521289, -0.126252)  \n",
      "16863  (51.526034, -0.121055)  \n",
      "16954  (51.524448, -0.128716)  \n",
      "17256  (51.519113, -0.118695)  \n",
      "17402  (51.526596, -0.133486)  \n",
      "17816  (51.568608, -0.142769)  \n",
      "17835  (51.522397, -0.126445)  \n",
      "18045   (51.535596, -0.13021)  \n",
      "18567  (51.547074, -0.184348)  \n",
      "18829  (51.568149, -0.141889)  \n",
      "18884   (51.529183, -0.12273)  \n",
      "18930  (51.526317, -0.120423)  \n",
      "19052  (51.534901, -0.130766)  \n",
      "19643  (51.516329, -0.116059)  \n",
      "19746  (51.521817, -0.125377)  \n",
      "19776  (51.556627, -0.146105)  \n",
      "20426  (51.516179, -0.115534)  \n",
      "20533  (51.525072, -0.129675)  \n",
      "20535  (51.524812, -0.129016)  \n",
      "20755  (51.557974, -0.174692)  \n",
      "20885  (51.558033, -0.174618)  \n",
      "21379  (51.527026, -0.121291)  \n",
      "21631  (51.525055, -0.128691)  \n",
      "22248  (51.524205, -0.121253)  \n",
      "22477  (51.515886, -0.116221)  \n",
      "22500   (51.52673, -0.121515)  \n",
      "22531  (51.527784, -0.141865)  \n",
      "22684  (51.568513, -0.142362)  \n",
      "22701    (51.521247, -0.1251)  \n",
      "22718  (51.524647, -0.121258)  \n",
      "22781   (51.51639, -0.116734)  \n",
      "22901  (51.521772, -0.126181)  \n",
      "22924   (51.548236, -0.15646)  \n",
      "23007   (51.52483, -0.121355)  \n"
     ]
    }
   ],
   "source": [
    "import matplotlib.pyplot as plt\n",
    "\n",
    "# Load the dataset as the \"trees\" DataFrame\n",
    "trees = pd.read_excel('downloads/camden_trees.xlsx')\n",
    "\n",
    "# Create a vertically oriented boxplot\n",
    "plt.figure(figsize=(6, 10))  # Adjust the figure size as needed\n",
    "trees.boxplot(column='Spread In Metres', vert=True)  # Replace 'your_numeric_column' with the actual column name\n",
    "plt.title('Vertical Boxplot of Spread in Metres')\n",
    "plt.ylabel('Spread in Metres')  # Change the label orientation to vertical\n",
    "plt.xticks([])  # Remove x-axis labels since it's vertical\n",
    "plt.show()\n",
    "\n",
    "# Identify and filter the outliers\n",
    "outliers_mask = trees['Spread In Metres'] > 20  # Replace 'your_numeric_column' with the actual column name\n",
    "outliers = trees[outliers_mask]\n",
    "\n",
    "# Configure pandas to display all rows\n",
    "pd.set_option('display.max_rows', None)\n",
    "\n",
    "# Display all rows containing outliers\n",
    "print(\"All rows containing outliers:\")\n",
    "print(outliers)"
   ]
  },
  {
   "cell_type": "code",
   "execution_count": 66,
   "id": "6ab3697f-02f9-4e35-acd7-520ac7a1aa83",
   "metadata": {},
   "outputs": [
    {
     "name": "stdout",
     "output_type": "stream",
     "text": [
      "All outlier rows for 'Spread In Metres' column:\n",
      "       Spread In Metres\n",
      "245                22.0\n",
      "547                26.0\n",
      "920                23.0\n",
      "1173               21.0\n",
      "1213               28.0\n",
      "1995               21.0\n",
      "2488               23.0\n",
      "3400               21.0\n",
      "3556               24.0\n",
      "3898               24.0\n",
      "4036               22.0\n",
      "4210               21.0\n",
      "4752               21.0\n",
      "4766               23.0\n",
      "5229               30.0\n",
      "5545               22.0\n",
      "5647               24.0\n",
      "6885               27.0\n",
      "6901               22.0\n",
      "6903               22.0\n",
      "7137               21.0\n",
      "7229               22.0\n",
      "7398               21.0\n",
      "7593               23.0\n",
      "7622               22.0\n",
      "7698               21.0\n",
      "7735               21.0\n",
      "7961               31.0\n",
      "8005               25.0\n",
      "8127               21.0\n",
      "8179               25.0\n",
      "8474               21.0\n",
      "8587               26.0\n",
      "8724               26.0\n",
      "8737               25.0\n",
      "8870               21.0\n",
      "9026               22.0\n",
      "9036               21.0\n",
      "9376               22.0\n",
      "9638               24.0\n",
      "10106              21.0\n",
      "10350              22.0\n",
      "10925              21.0\n",
      "11325              22.0\n",
      "11665              24.0\n",
      "11789              30.0\n",
      "11795              23.0\n",
      "11860              24.0\n",
      "11866              22.0\n",
      "12099              22.0\n",
      "12100              21.0\n",
      "12197              22.0\n",
      "12538              22.0\n",
      "12708              24.0\n",
      "12998              24.0\n",
      "13037              22.0\n",
      "14394              23.0\n",
      "14947              21.0\n",
      "15361              23.0\n",
      "15436              22.0\n",
      "15845              21.0\n",
      "16000              22.0\n",
      "16200              22.0\n",
      "16231              26.0\n",
      "16239              29.0\n",
      "16507              21.0\n",
      "16526              21.0\n",
      "16863              26.0\n",
      "16954              21.0\n",
      "17256              24.0\n",
      "17402              21.0\n",
      "17816              25.0\n",
      "17835              21.0\n",
      "18045              23.0\n",
      "18567              88.0\n",
      "18829              25.0\n",
      "18884              21.0\n",
      "18930              24.0\n",
      "19052              21.0\n",
      "19643              21.0\n",
      "19746              28.0\n",
      "19776              22.0\n",
      "20426              26.0\n",
      "20533              21.0\n",
      "20535              27.0\n",
      "20755              21.0\n",
      "20885              21.0\n",
      "21379              21.0\n",
      "21631              24.0\n",
      "22248              21.0\n",
      "22477              25.0\n",
      "22500              28.0\n",
      "22531              25.0\n",
      "22684              23.0\n",
      "22701              24.0\n",
      "22718              24.0\n",
      "22781              22.0\n",
      "22901              21.0\n",
      "22924              22.0\n",
      "23007              26.0\n"
     ]
    }
   ],
   "source": [
    "# Identify and filter all outlier rows in the 'Spread in Metres' column\n",
    "Spread_outliers = trees[trees['Spread In Metres'] > 20]\n",
    "\n",
    "# Print only the 'Spread in Metres' column for all outlier rows\n",
    "print(\"All outlier rows for 'Spread In Metres' column:\")\n",
    "print(Spread_outliers[['Spread In Metres']])"
   ]
  },
  {
   "cell_type": "markdown",
   "id": "70810045-0b5e-4dfe-bba1-fe6b0c2ea8d0",
   "metadata": {},
   "source": [
    "<hr/>"
   ]
  },
  {
   "cell_type": "markdown",
   "id": "cc0982a2-f528-49ee-ae07-6d611cb4c564",
   "metadata": {},
   "source": [
    "### 5.3 Outliers for Diameter\n",
    "Now repeat the analysis for diameter.\n",
    "<div style=\"background-color:lemonchiffon; border:1px solid; padding:5px; margin:5px; font-weight:bold\"><font color=\"crimson\">\n",
    "TODO: Complete the following code cells\n",
    "    </font></div>"
   ]
  },
  {
   "cell_type": "code",
   "execution_count": 67,
   "id": "f09b82f0-44c7-4b2c-b7d6-7b1059f8e424",
   "metadata": {},
   "outputs": [
    {
     "data": {
      "image/png": "[encoded data removed]",
      "text/plain": [
       "<Figure size 600x1000 with 1 Axes>"
      ]
     },
     "metadata": {},
     "output_type": "display_data"
    },
    {
     "name": "stdout",
     "output_type": "stream",
     "text": [
      "All rows containing outliers:\n",
      "      Identifier  Number Of Trees                                Site Name  \\\n",
      "1157    00004100              1.0      LONGFORD STREET, CLARENCE GDNS (LS)   \n",
      "5229    00002735              1.0           BRUNSWICK SQUARE, GARDENS (LS)   \n",
      "5859    00017570              1.0             RUSSELL SQUARE, GARDENS (LS)   \n",
      "8179    00012846              1.0       LINCOLN'S INN FIELDS, GARDENS (LS)   \n",
      "8737    00019491              1.0      PANCRAS ROAD, ST. PANCRAS GDNS (LS)   \n",
      "8870    00017656              1.0             RUSSELL SQUARE, GARDENS (LS)   \n",
      "11665   00020242              1.0           TAVISTOCK SQUARE, GARDENS (LS)   \n",
      "11860   00012885              1.0       LINCOLN'S INN FIELDS, GARDENS (LS)   \n",
      "14178   00012891              1.0       LINCOLN'S INN FIELDS, GARDENS (LS)   \n",
      "15853   00012939              1.0       LINCOLN'S INN FIELDS, GARDENS (LS)   \n",
      "16200   00012833              1.0       LINCOLN'S INN FIELDS, GARDENS (LS)   \n",
      "17816   00021404              1.0                       WATERLOW PARK (LS)   \n",
      "18081   00012870              1.0       LINCOLN'S INN FIELDS, GARDENS (LS)   \n",
      "18930   00018775              1.0  ST. GEORGE'S GARDENS, HEATHCOTE ST (LS)   \n",
      "20426   00012873              1.0       LINCOLN'S INN FIELDS, GARDENS (LS)   \n",
      "22781   00012923              1.0       LINCOLN'S INN FIELDS, GARDENS (LS)   \n",
      "\n",
      "      Contract Area       Scientific Name Inspection Date Inspection Due Date  \\\n",
      "1157          Parks  Platanus x hispanica      2018-03-29           2020/2021   \n",
      "5229          Parks  Platanus x hispanica      2018-03-23           2020/2021   \n",
      "5859          Parks  Platanus x hispanica      2018-03-14           2020/2021   \n",
      "8179          Parks  Platanus x hispanica      2018-04-24           2021/2022   \n",
      "8737          Parks  Platanus x hispanica      2017-03-14           2019/2020   \n",
      "8870          Parks  Platanus x hispanica      2018-03-20           2020/2021   \n",
      "11665         Parks  Platanus x hispanica      2018-06-04           2021/2022   \n",
      "11860         Parks  Platanus x hispanica      2018-04-20           2021/2022   \n",
      "14178         Parks  Platanus x hispanica      2018-04-20           2021/2022   \n",
      "15853         Parks  Platanus x hispanica      2018-04-19           2021/2022   \n",
      "16200         Parks  Platanus x hispanica      2018-04-25           2021/2022   \n",
      "17816         Parks  Platanus x hispanica      2019-06-19           2022/2023   \n",
      "18081         Parks  Platanus x hispanica      2018-04-20           2021/2022   \n",
      "18930         Parks  Platanus x hispanica      2018-03-20           2020/2021   \n",
      "20426         Parks  Platanus x hispanica      2018-04-20           2021/2022   \n",
      "22781         Parks  Platanus x hispanica      2018-04-19           2021/2022   \n",
      "\n",
      "       Height In Metres  Spread In Metres  \\\n",
      "1157               21.0              20.0   \n",
      "5229               28.0              30.0   \n",
      "5859               38.0              16.0   \n",
      "8179               28.0              25.0   \n",
      "8737               24.0              25.0   \n",
      "8870               36.0              21.0   \n",
      "11665              28.0              24.0   \n",
      "11860              24.0              24.0   \n",
      "14178              30.0              20.0   \n",
      "15853              23.0              20.0   \n",
      "16200              29.0              22.0   \n",
      "17816              30.0              25.0   \n",
      "18081              28.0              18.0   \n",
      "18930              35.0              24.0   \n",
      "20426              29.0              26.0   \n",
      "22781              27.0              22.0   \n",
      "\n",
      "       Diameter In Centimetres At Breast Height  Ward Code  \\\n",
      "1157                                      228.0  E05000142   \n",
      "5229                                      197.0  E05000141   \n",
      "5859                                      191.0  E05000129   \n",
      "8179                                      200.0  E05000138   \n",
      "8737                                      200.0  E05000143   \n",
      "8870                                      177.0  E05000129   \n",
      "11665                                     187.0  E05000129   \n",
      "11860                                     210.0  E05000138   \n",
      "14178                                     206.0  E05000138   \n",
      "15853                                     209.0  E05000138   \n",
      "16200                                     184.0  E05000138   \n",
      "17816                                     173.0  E05000137   \n",
      "18081                                     192.0  E05000138   \n",
      "18930                                     194.0  E05000141   \n",
      "20426                                     197.0  E05000138   \n",
      "22781                                     185.0  E05000138   \n",
      "\n",
      "                        Ward Name  Easting  Northing  Longitude   Latitude  \\\n",
      "1157                Regent's Park   528931    182624  -0.142766  51.527816   \n",
      "5229                 King's Cross   530387    182261  -0.121914  51.524218   \n",
      "5859                   Bloomsbury   530025    181952  -0.127255  51.521529   \n",
      "8179    Holborn and Covent Garden   530834    181409  -0.115802  51.516467   \n",
      "8737   St Pancras and Somers Town   529789    183478  -0.130079  51.535299   \n",
      "8870                   Bloomsbury   530122    181955  -0.125851  51.521536   \n",
      "11665                  Bloomsbury   529873    182306  -0.129313  51.524743   \n",
      "11860   Holborn and Covent Garden   530820    181358  -0.116011  51.516010   \n",
      "14178   Holborn and Covent Garden   530783    181341  -0.116553  51.515861   \n",
      "15853   Holborn and Covent Garden   530705    181373  -0.117672  51.516165   \n",
      "16200   Holborn and Covent Garden   530816    181440  -0.116050  51.516750   \n",
      "17816                    Highgate   528815    187160  -0.142769  51.568608   \n",
      "18081   Holborn and Covent Garden   530873    181365  -0.115257  51.516056   \n",
      "18930                King's Cross   530485    182497  -0.120423  51.526317   \n",
      "20426   Holborn and Covent Garden   530853    181378  -0.115534  51.516179   \n",
      "22781   Holborn and Covent Garden   530769    181399  -0.116734  51.516390   \n",
      "\n",
      "                     Location  \n",
      "1157   (51.527816, -0.142766)  \n",
      "5229   (51.524218, -0.121914)  \n",
      "5859   (51.521529, -0.127255)  \n",
      "8179   (51.516467, -0.115802)  \n",
      "8737   (51.535299, -0.130079)  \n",
      "8870   (51.521536, -0.125851)  \n",
      "11665  (51.524743, -0.129313)  \n",
      "11860   (51.51601, -0.116011)  \n",
      "14178  (51.515861, -0.116553)  \n",
      "15853  (51.516165, -0.117672)  \n",
      "16200    (51.51675, -0.11605)  \n",
      "17816  (51.568608, -0.142769)  \n",
      "18081  (51.516056, -0.115257)  \n",
      "18930  (51.526317, -0.120423)  \n",
      "20426  (51.516179, -0.115534)  \n",
      "22781   (51.51639, -0.116734)  \n"
     ]
    }
   ],
   "source": [
    "# Use a boxplot to find the outliers\n",
    "# TODO\n",
    "import matplotlib.pyplot as plt\n",
    "\n",
    "# Load the dataset as the \"trees\" DataFrame\n",
    "trees = pd.read_excel('downloads/camden_trees.xlsx')\n",
    "\n",
    "# Create a vertically oriented boxplot\n",
    "plt.figure(figsize=(6, 10))  # Adjust the figure size as needed\n",
    "trees.boxplot(column='Diameter In Centimetres At Breast Height', vert=True)  # Replace 'your_numeric_column' with the actual column name\n",
    "plt.title('Vertical Boxplot Diameter in Centimeters')\n",
    "plt.ylabel('Diameter in Centimetres At Breast Height')  # Change the label orientation to vertical\n",
    "plt.xticks([])  # Remove x-axis labels since it's vertical\n",
    "plt.show()\n",
    "\n",
    "# Identify and filter the outliers\n",
    "outliers_mask = trees['Diameter In Centimetres At Breast Height'] > 170  # Replace 'your_numeric_column' with the actual column name\n",
    "outliers = trees[outliers_mask]\n",
    "\n",
    "# Configure pandas to display all rows\n",
    "pd.set_option('display.max_rows', None)\n",
    "\n",
    "# Display all rows containing outliers\n",
    "print(\"All rows containing outliers:\")\n",
    "print(outliers)"
   ]
  },
  {
   "cell_type": "code",
   "execution_count": 68,
   "id": "6299642f-bf98-43da-a7bc-2880c88c002e",
   "metadata": {},
   "outputs": [
    {
     "name": "stdout",
     "output_type": "stream",
     "text": [
      "All outlier rows for 'Diameter In Centimetres At Breast Height' column:\n",
      "       Diameter In Centimetres At Breast Height\n",
      "1157                                      228.0\n",
      "5229                                      197.0\n",
      "5859                                      191.0\n",
      "8179                                      200.0\n",
      "8737                                      200.0\n",
      "8870                                      177.0\n",
      "11665                                     187.0\n",
      "11860                                     210.0\n",
      "14178                                     206.0\n",
      "15853                                     209.0\n",
      "16200                                     184.0\n",
      "17816                                     173.0\n",
      "18081                                     192.0\n",
      "18930                                     194.0\n",
      "20426                                     197.0\n",
      "22781                                     185.0\n"
     ]
    }
   ],
   "source": [
    "# Select the outlier rows (if any)\n",
    "# TODO\n",
    "# Identify and filter all outlier rows in the 'Diameter In Centimetres At Breast Height' column\n",
    "Diameter_outliers = trees[trees['Diameter In Centimetres At Breast Height'] > 170]\n",
    "\n",
    "# Print only the 'Diameter In Centimetres At Breast Height' column for all outlier rows\n",
    "print(\"All outlier rows for 'Diameter In Centimetres At Breast Height' column:\")\n",
    "print(Diameter_outliers[['Diameter In Centimetres At Breast Height']])"
   ]
  },
  {
   "cell_type": "markdown",
   "id": "19fb2357-f25f-4840-b4a7-5a016256ff28",
   "metadata": {},
   "source": [
    "<hr/>\n",
    "\n",
    "### 5.4 Observations\n",
    "\n",
    "<div style=\"background-color:lemonchiffon; border:1px solid; padding:5px; margin:5px; font-weight:bold\"><font color=\"crimson\">\n",
    "TODO: Write down your observation about outliers in the data.  What assumptions did you make?  Were you comfortable making these assumptions?\n",
    "    </font></div>\n"
   ]
  },
  {
   "cell_type": "markdown",
   "id": "12f67262-3fe4-4238-8e6f-e04382b8594d",
   "metadata": {},
   "source": [
    "I aimed for my outliers to be around the top 0.5% - 1% of data. In the Diameter case, this is less because after experimenting with the thresholds, a lot of trees still had a diameter over 100cm, which is outside of the standard boxplot threshold, so I used 170< as my outlying filter in this case as there were a lot of results over 100. Overall, the majority of so called 'outliers' weren't so obviously eyecatching, so I would be happy to include most of those in the data from what I'm seeing so far. There are other possible ways to filter this, for example, filtering by tree type would be a more effective way of finding outliers."
   ]
  },
  {
   "cell_type": "markdown",
   "id": "bd36393a-8904-4be8-affe-1a99e5d4e69f",
   "metadata": {},
   "source": [
    "<hr/>"
   ]
  },
  {
   "cell_type": "markdown",
   "id": "a433b035-abc4-4ce2-b86e-484e698bd941",
   "metadata": {},
   "source": [
    "## Task 6: Identify Duplicates in the Trees Dataset\n",
    "Sometimes data has duplicate entries.  This is another sign of data quality issues!\n",
    "\n",
    "### 6.1 Find Duplicate Rows\n",
    "\n",
    "In our dataset the `Identifier` column should be unique.  Find out if it is!  We've already used a function that can count how many times each value in a column exists.  Use is to see if we have duplicates in the trees Dataframe.\n",
    "\n",
    "<div style=\"background-color:lemonchiffon; border:1px solid; padding:5px; margin:5px; font-weight:bold\"><font color=\"crimson\">\n",
    "TODO: Complete the following code cells\n",
    "    </font></div>"
   ]
  },
  {
   "cell_type": "code",
   "execution_count": 69,
   "id": "a40454f4-03e9-43b3-a0d8-6fcb756ba90b",
   "metadata": {},
   "outputs": [
    {
     "name": "stdout",
     "output_type": "stream",
     "text": [
      "Duplicate 'Identifier' values:\n",
      "['00060088' '00032549' '00000999' '00032549' '00022744' '00022744'\n",
      " '00022674' '00060088' '00000999' '00022674' '00060087' '00060087']\n"
     ]
    }
   ],
   "source": [
    "# Find and display all duplicates in the 'Identifier' column\n",
    "duplicates = trees[trees.duplicated(subset=['Identifier'], keep=False)]\n",
    "\n",
    "# Print only the 'Identifier' column values without row numbers\n",
    "print(\"Duplicate 'Identifier' values:\")\n",
    "print(duplicates['Identifier'].values)"
   ]
  },
  {
   "cell_type": "markdown",
   "id": "787be537-4f13-466e-9a65-108d93563fc8",
   "metadata": {},
   "source": [
    "Now see if you can select the rows from trees DataFrame that are duplicates.  You will need to use the output from the cell above and use it to filter the trees dataframe."
   ]
  },
  {
   "cell_type": "code",
   "execution_count": 70,
   "id": "3d2fbdbf-c839-4e84-ad7c-add0f4fa31ef",
   "metadata": {},
   "outputs": [
    {
     "name": "stdout",
     "output_type": "stream",
     "text": [
      "Row 1219: Identifier - 00060088\n",
      "Row 4388: Identifier - 00032549\n",
      "Row 5491: Identifier - 00000999\n",
      "Row 6111: Identifier - 00032549\n",
      "Row 7027: Identifier - 00022744\n",
      "Row 9186: Identifier - 00022744\n",
      "Row 9482: Identifier - 00022674\n",
      "Row 10972: Identifier - 00060088\n",
      "Row 13098: Identifier - 00000999\n",
      "Row 13628: Identifier - 00022674\n",
      "Row 15393: Identifier - 00060087\n",
      "Row 15653: Identifier - 00060087\n"
     ]
    }
   ],
   "source": [
    "# Select the rows that are duplicated\n",
    "# TODO\n",
    "# Find and display all duplicates in the 'Identifier' column\n",
    "duplicates = trees[trees.duplicated(subset=['Identifier'], keep=False)]\n",
    "\n",
    "# Iterate through the duplicate rows and print the row number and 'Identifier' value\n",
    "for idx, row in duplicates.iterrows():\n",
    "    print(f\"Row {idx}: Identifier - {row['Identifier']}\")"
   ]
  },
  {
   "cell_type": "markdown",
   "id": "a74e447b-7ae5-43f3-a189-94c066fe6fc0",
   "metadata": {},
   "source": [
    "<hr/>\n",
    "\n",
    "### 6.2 Observations\n",
    "\n",
    "<div style=\"background-color:lemonchiffon; border:1px solid; padding:5px; margin:5px; font-weight:bold\"><font color=\"crimson\">\n",
    "TODO: Write down your observations about duplicates in trees.\n",
    "    </font></div>\n"
   ]
  },
  {
   "cell_type": "markdown",
   "id": "7aaa910b-ccc4-4f78-80cd-467b683fe2e1",
   "metadata": {},
   "source": [
    "ENTER MARKDOWN HERE"
   ]
  },
  {
   "cell_type": "markdown",
   "id": "d0f41ea4-112c-4ea9-96a5-ca76e4b972b3",
   "metadata": {},
   "source": [
    "Considering there are only 6 duplicates (12 values divided by 2), I would happily remove all of the data from those cells, due to the overall data containing 23,000+ rows of values."
   ]
  },
  {
   "cell_type": "markdown",
   "id": "59990f3e-6f73-46ee-8644-2dc503baa93a",
   "metadata": {},
   "source": [
    "## Task 7: Identify Geolocation Issues\n",
    "The geographic coordinates (Easting and Northing) can be used to plot the trees on a map.  We can use this approach to see if there are any unusual tree locations!\n",
    "\n",
    "We will make a copy of the original trees dataset and remove any rows that have a missing easting or northing as these can't be plotted on the map.\n",
    "\n",
    "We can copy the DataFrame using:\n",
    "\n",
    "- [pandas.DataFrame.copy](https://pandas.pydata.org/pandas-docs/stable/reference/api/pandas.DataFrame.copy.html)\n",
    "\n",
    "We can use the DataFrame filtering technique we saw before to remove the missing values.  E.g. the following code filters out rows where the value for 'mycolumn' is 100:\n",
    "\n",
    "    mask = df['mycolumn'] != 100\n",
    "    df = df[mask]\n",
    "\n",
    "You can also create masks using a function, e.g. this creates a mask which excludes nulls:\n",
    "\n",
    "    mask = df['mycolumn'].isnull()\n",
    "\n",
    "We can use this function to plot the trees on a map. Set x to \"Easting\" and y to \"Northing\" and set a figsize parameter to (6, 6) to get a square aspect ratio:\n",
    "\n",
    "- [pandas.DataFrame.plot.scatter](https://pandas.pydata.org/pandas-docs/version/0.25.0/reference/api/pandas.DataFrame.plot.scatter.html)\n",
    "\n",
    "\n"
   ]
  },
  {
   "cell_type": "markdown",
   "id": "0bdaf281-68a3-43d4-abb6-f3c42a088f7f",
   "metadata": {},
   "source": [
    "### 7.1 Remove Trees with Missing Geo-coordinates\n",
    "Check if there are any rows with null or 0 geo-coordinates.  If there are, remove them as we can't plot these.\n",
    "\n",
    "<div style=\"background-color:lemonchiffon; border:1px solid; padding:5px; margin:5px; font-weight:bold\"><font color=\"crimson\">\n",
    "TODO: Complete the following code cells\n",
    "    </font></div>"
   ]
  },
  {
   "cell_type": "code",
   "execution_count": 71,
   "id": "913c1d69-b105-44aa-be2f-73b537313c6e",
   "metadata": {},
   "outputs": [],
   "source": [
    "# Make a copy of the trees\n",
    "geotrees = trees.copy()"
   ]
  },
  {
   "cell_type": "code",
   "execution_count": 77,
   "id": "3a9b5bf6-bda3-472f-9796-060023cff4e8",
   "metadata": {},
   "outputs": [],
   "source": [
    "# Remove null Eastings\n",
    "# TODO\n",
    "# Remove rows with null values in the 'Easting' column in place\n",
    "geotrees.dropna(subset=['Easting'], inplace=True)"
   ]
  },
  {
   "cell_type": "code",
   "execution_count": 79,
   "id": "7f77324a-f2e4-4d69-a0fe-1d71757c6f6e",
   "metadata": {},
   "outputs": [],
   "source": [
    "# Remove 0 Eastings.  \n",
    "# TODO\n",
    "# Remove rows with 0 values in the 'Easting' column in place\n",
    "geotrees.drop(geotrees[geotrees['Easting'] == 0].index, inplace=True)"
   ]
  },
  {
   "cell_type": "code",
   "execution_count": 80,
   "id": "40ccb789-0cab-4218-9caa-e7e08b2b71ae",
   "metadata": {},
   "outputs": [],
   "source": [
    "# Remove null Northings\n",
    "# TODO\n",
    "# Remove rows with null values in the 'Northing' column in place\n",
    "geotrees.dropna(subset=['Northing'], inplace=True)"
   ]
  },
  {
   "cell_type": "code",
   "execution_count": 81,
   "id": "c77858c5-99e7-4f1f-affa-bd2370b9aed8",
   "metadata": {},
   "outputs": [],
   "source": [
    "# Remove 0 Northings.  \n",
    "# TODO\n",
    "# Remove rows with 0 values in the 'Northing' column in place\n",
    "geotrees.drop(geotrees[geotrees['Northing'] == 0].index, inplace=True)"
   ]
  },
  {
   "cell_type": "code",
   "execution_count": 82,
   "id": "616a5473-5d71-486a-9ea0-c401fc7f4428",
   "metadata": {},
   "outputs": [
    {
     "name": "stdout",
     "output_type": "stream",
     "text": [
      "Number of rows left after removing null and 0 values: 23388\n"
     ]
    }
   ],
   "source": [
    "# Confirm how many rows we have\n",
    "# TODO\n",
    "# Get the number of rows left in the DataFrame\n",
    "rows_left = len(geotrees)\n",
    "\n",
    "print(f\"Number of rows left after removing null and 0 values: {rows_left}\")"
   ]
  },
  {
   "cell_type": "markdown",
   "id": "a63dbcfc-e781-4812-9a10-1cf5be028dae",
   "metadata": {},
   "source": [
    "<hr/>"
   ]
  },
  {
   "cell_type": "markdown",
   "id": "d1e84a3c-7eed-408a-a724-3944d89e0755",
   "metadata": {},
   "source": [
    "### 7.2 Plot Map of Trees\n",
    "Now make the plot.  Do a scatter plot of Northing vs Easting. You should obtain an outline of the map of Camden. Compare that outline with a real map of Camden (use good old google maps!). You’ll be able to spot the trees that should not be in that dataset from there!\n",
    "\n",
    "<div style=\"background-color:lemonchiffon; border:1px solid; padding:5px; margin:5px; font-weight:bold\"><font color=\"crimson\">\n",
    "TODO: Complete the following code cell\n",
    "    </font></div>"
   ]
  },
  {
   "cell_type": "code",
   "execution_count": 83,
   "id": "b51e227f-bd09-4064-9f60-be766962646d",
   "metadata": {},
   "outputs": [
    {
     "data": {
      "image/png": "[encoded data removed]",
      "text/plain": [
       "<Figure size 1000x1000 with 1 Axes>"
      ]
     },
     "metadata": {},
     "output_type": "display_data"
    }
   ],
   "source": [
    "# Plot the trees on a map\n",
    "# TODO\n",
    "import matplotlib.pyplot as plt\n",
    "\n",
    "plt.figure(figsize=(10, 10))\n",
    "plt.scatter(geotrees['Easting'], geotrees['Northing'], marker='.', color='blue')\n",
    "plt.xlabel('Easting')\n",
    "plt.ylabel('Northing')\n",
    "plt.title('Tree Locations in Camden')\n",
    "plt.grid(True)\n",
    "plt.show()"
   ]
  },
  {
   "cell_type": "markdown",
   "id": "6914e59e-aaeb-4b9b-8a84-b4007e2ad747",
   "metadata": {},
   "source": [
    "### 7.3 Find Trees Outside Camden\n",
    "From the scatter plot, you should be able to determine how to select the rows from the trees data set containing the offending trees (using the Easting and Northing values)\n",
    "\n",
    "Select the rows containing trees outside of Camden.  Use the filter technique again.\n",
    "\n",
    "<div style=\"background-color:lemonchiffon; border:1px solid; padding:5px; margin:5px; font-weight:bold\"><font color=\"crimson\">\n",
    "TODO: Complete the following code cells\n",
    "    </font></div>"
   ]
  },
  {
   "cell_type": "code",
   "execution_count": 84,
   "id": "4b992a8f-d5be-4adb-a383-4f8e5505b2ed",
   "metadata": {},
   "outputs": [
    {
     "name": "stdout",
     "output_type": "stream",
     "text": [
      "Outlier Rows:\n",
      "      Identifier  Number Of Trees                  Site Name Contract Area  \\\n",
      "78      00044991              1.0          Bells Hill Estate       Housing   \n",
      "298     00045000              1.0  Estate 167 Furzehill Road       Housing   \n",
      "660     00044992              1.0          Bells Hill Estate       Housing   \n",
      "1526    00044995              1.0          Bells Hill Estate       Housing   \n",
      "5392    00044990              1.0          Bells Hill Estate       Housing   \n",
      "18069   00044993              1.0          Bells Hill Estate       Housing   \n",
      "18078   00044601              1.0          Bells Hill Estate       Housing   \n",
      "19532   00044988              1.0          Bells Hill Estate       Housing   \n",
      "\n",
      "              Scientific Name Inspection Date Inspection Due Date  \\\n",
      "78         Fraxinus excelsior      2017-04-28           2020/2021   \n",
      "298          Pinus sylvestris      2017-04-28           2020/2021   \n",
      "660        Crataegus monogyna      2017-04-28           2020/2021   \n",
      "1526       Fraxinus excelsior      2017-04-28           2020/2021   \n",
      "5392   Aesculus hippocastanum      2017-04-28           2020/2021   \n",
      "18069           Tilia cordata      2017-04-28           2020/2021   \n",
      "18078           Tilia cordata      2017-04-28           2020/2021   \n",
      "19532           Tilia cordata      2017-04-28           2020/2021   \n",
      "\n",
      "       Height In Metres  Spread In Metres  \\\n",
      "78                 20.0              10.0   \n",
      "298                10.0               3.0   \n",
      "660                 4.0               4.0   \n",
      "1526               18.0              12.0   \n",
      "5392               22.0              12.0   \n",
      "18069              23.0              14.0   \n",
      "18078              21.0              12.0   \n",
      "19532              21.0              12.0   \n",
      "\n",
      "       Diameter In Centimetres At Breast Height Ward Code Ward Name  Easting  \\\n",
      "78                                         49.0       NaN       NaN   523883   \n",
      "298                                        41.0       NaN       NaN   520367   \n",
      "660                                         7.0       NaN       NaN   523875   \n",
      "1526                                       54.0       NaN       NaN   523936   \n",
      "5392                                       67.0       NaN       NaN   523889   \n",
      "18069                                      89.0       NaN       NaN   523867   \n",
      "18078                                      56.0       NaN       NaN   523905   \n",
      "19532                                      65.0       NaN       NaN   523909   \n",
      "\n",
      "       Northing  Longitude   Latitude                Location  \n",
      "78       196179  -0.210713  51.650765  (51.650765, -0.210713)  \n",
      "298      195595  -0.261719  51.646283  (51.646283, -0.261719)  \n",
      "660      196170  -0.210830  51.650690    (51.65069, -0.21083)  \n",
      "1526     196127  -0.209969  51.650287  (51.650287, -0.209969)  \n",
      "5392     196188  -0.210618  51.650843  (51.650843, -0.210618)  \n",
      "18069    196159  -0.210957  51.650590   (51.65059, -0.210957)  \n",
      "18078    196174  -0.210394  51.650719  (51.650719, -0.210394)  \n",
      "19532    196169  -0.210340  51.650676   (51.650676, -0.21034)  \n"
     ]
    }
   ],
   "source": [
    "# Select the outlier rows\n",
    "# TODO\n",
    "# Define thresholds for outlier detection (you can adjust these values)\n",
    "eastings_threshold = (geotrees['Easting'].mean() + 3 * geotrees['Easting'].std())\n",
    "northing_threshold = (geotrees['Northing'].mean() + 3 * geotrees['Northing'].std())\n",
    "\n",
    "# Select outlier rows based on the defined thresholds\n",
    "outliers = geotrees[(geotrees['Easting'] > eastings_threshold) | (geotrees['Northing'] > northing_threshold)]\n",
    "\n",
    "# Display the selected outlier rows\n",
    "print(\"Outlier Rows:\")\n",
    "print(outliers)"
   ]
  },
  {
   "cell_type": "code",
   "execution_count": 85,
   "id": "0270dae9-9bcf-4b63-95cf-13b7c5184424",
   "metadata": {},
   "outputs": [
    {
     "name": "stdout",
     "output_type": "stream",
     "text": [
      "Number of Outlier Rows: 8\n"
     ]
    }
   ],
   "source": [
    "# Confirm how many rows we have\n",
    "# TODO\n",
    "# Count the number of outlier rows\n",
    "outlier_count = len(outliers)\n",
    "\n",
    "# Display the count of outlier rows\n",
    "print(f\"Number of Outlier Rows: {outlier_count}\")"
   ]
  },
  {
   "cell_type": "markdown",
   "id": "ee3f0cff-17bb-4f75-a92c-876c56e230c5",
   "metadata": {},
   "source": [
    "<hr/>\n",
    "\n",
    "### 7.4 Observations\n",
    "\n",
    "\n",
    "<div style=\"background-color:lemonchiffon; border:1px solid; padding:5px; margin:5px; font-weight:bold\"><font color=\"crimson\">\n",
    "TODO: Write down your observation about geolocation issues.\n",
    "    </font></div>\n"
   ]
  },
  {
   "cell_type": "markdown",
   "id": "3f5a1605-de7e-4cb7-8190-c643122c104e",
   "metadata": {},
   "source": [
    "From seeing the scatter plot, it is easy to visually see which trees are definitely outside of Camden. There is probably a way of filtering out trees that are only just outside of Camden by using longitude, latitude etc, but for project purposes, I believe using standard deviations is an effective way of filtering out outliers. Considering there are only 8 outliers from a dataset of over 23,000 rows, this for me, is an easy decision to remove all data from these outlying rows."
   ]
  },
  {
   "cell_type": "markdown",
   "id": "0680cf79-2a3a-4e9c-8332-609680b69040",
   "metadata": {},
   "source": [
    "<hr/>"
   ]
  },
  {
   "cell_type": "markdown",
   "id": "2c6f941f-e14a-4a51-aa29-66010910009a",
   "metadata": {
    "tags": []
   },
   "source": [
    "## Task 8: Identify Unmatched Data\n",
    "We have multiple datasets that will need to be joined together to produce the analyses required by the Camden Parks and Open Spaces team.  The data will need to be joined in the following way:\n",
    "\n",
    "- Use the `Identifier` column in the trees dataset to match to the `Identifier` column in the environmental data set (so we can bring in the environmental data for each tree)\n",
    "- Use the `Scientific Name` column in the trees dataset to match to the `Scientific Name` column in the common names data set (so we can look up the `Common Name`)\n",
    "\n",
    "There may be mismatches in the data.  Of particular concern we want to check\n",
    "\n",
    "- That every tree in the trees dataset has matching environmental data in the environmental data set\n",
    "- That every environmental row in the environmental dataset has matching tree data in the tree data set\n",
    "- That every scientific name in the trees dataset has a matching common name in the common names data set\n",
    "\n",
    "We aren't too concerned about the reverse of the last scenario (if we have extra names in the common names dataset that aren't in the trees data set).  We don't expect Camden to have a specimen of every tree that exists!  \n",
    "\n",
    "There are a few ways this can be done, but one technique is to use the `isin` function to check if some column in one dataframe contains values that are in another column in another dataframe.  This creates a mask containing rows that match between the two dataframes:\n",
    "\n",
    "    mask = df1['column_name1'].isin(df2['column_name2'])\n",
    "    \n",
    "To select the non-matching rows, we can use Python's bitwise not operator ~:\n",
    "\n",
    "    mask = ~df1['column_name1'].isin(df2['column_name2'])\n",
    "    \n",
    "As we have seen before, the mask can be used to select that subset of rows back from the original dataframe."
   ]
  },
  {
   "cell_type": "markdown",
   "id": "1f5064f7-e956-4420-b80c-f14c2d2d3427",
   "metadata": {},
   "source": [
    "### 8.1 Find Trees that Don't have Matching Environmental Data\n",
    "<div style=\"background-color:lemonchiffon; border:1px solid; padding:5px; margin:5px; font-weight:bold\"><font color=\"crimson\">\n",
    "TODO: Complete the following code cells\n",
    "    </font></div>"
   ]
  },
  {
   "cell_type": "code",
   "execution_count": 7,
   "id": "ec5e5506-1c6f-4f33-92d1-420ea57b6da5",
   "metadata": {},
   "outputs": [
    {
     "name": "stdout",
     "output_type": "stream",
     "text": [
      "      Identifier  Number Of Trees                                Site Name  \\\n",
      "66      00059712              1.0                       Maiden Lane Estate   \n",
      "125     00048578              1.0                              BUCK STREET   \n",
      "1148    00006577              1.0                              FAWLEY ROAD   \n",
      "1998    00007366              1.0        FORTUNE GREEN RD, OPEN SPACE (LS)   \n",
      "2246    00014633              1.0                          Mortimer Estate   \n",
      "5478    00060382              1.0                       SHAFTESBURY AVENUE   \n",
      "10637   00002874              1.0                            BURGHLEY ROAD   \n",
      "10977   00055227              1.0                            BURGHLEY ROAD   \n",
      "11795   00016702              1.0            RED LION SQUARE, GARDENS (LS)   \n",
      "11856   00054744              1.0          Carrol & Sanderson Close Estate   \n",
      "12056   00003694              1.0              Estate 1-161 Burnham (cons)   \n",
      "12936   00054558              1.0        ST. MARY'S KILBURN C OF E JMI (E)   \n",
      "13248   00059317              1.0                ADELAIDE ROAD NATURE AREA   \n",
      "16815   00055884              1.0                         HONEYBOURNE ROAD   \n",
      "18690   00059963              1.0                   Ampthill Square Estate   \n",
      "18958   00059246              1.0  Belsize nature reserve, Russell Nursery   \n",
      "19606   00005127              1.0       CUMBERLAND MARKET, OPEN SPACE (LS)   \n",
      "20169   00017912              1.0                            SHERRIFF ROAD   \n",
      "20226   00047080              1.0                   Ampthill Square Estate   \n",
      "21287   00029059              1.0         Estate 1-20 Marrick House (cons)   \n",
      "22470   00012126              1.0                       KINGS COLLEGE ROAD   \n",
      "23301   00010784              1.0                       Holly Lodge Estate   \n",
      "23315   00056485              1.0                       WATERLOW PARK (LS)   \n",
      "\n",
      "      Contract Area                                    Scientific Name  \\\n",
      "66          Housing                                   Acer saccharinum   \n",
      "125        Highways                                   Sorbus aucuparia   \n",
      "1148       Highways                                     Tilia euchlora   \n",
      "1998          Parks                                    Ilex aquifolium   \n",
      "2246        Housing                                     Tilia europaea   \n",
      "5478       Highways                                    Vacant Tree Pit   \n",
      "10637      Highways                               Platanus x hispanica   \n",
      "10977      Highways                              Amelanchier lamarckii   \n",
      "11795         Parks                               Platanus x hispanica   \n",
      "11856       Housing                        Prunus unidentified species   \n",
      "12056       Housing                                   Acer platanoides   \n",
      "12936     Education                              Amelanchier lamarckii   \n",
      "13248         Parks                                         Stump Only   \n",
      "16815      Highways                     Acer pseudoplatanus 'Brilliant   \n",
      "18690       Housing  Vacant Tree Pit (planned: Parrotia persica van...   \n",
      "18958         Parks                                      Ulmus procera   \n",
      "19606         Parks                               Platanus x hispanica   \n",
      "20169      Highways                                 Tilia platyphyllos   \n",
      "20226       Housing                         Malus unidentified species   \n",
      "21287       Housing                                     Sambucus nigra   \n",
      "22470      Highways                                 Fraxinus excelsior   \n",
      "23301       Housing                                    Ilex aquifolium   \n",
      "23315         Parks                                 Fraxinus excelsior   \n",
      "\n",
      "      Inspection Date Inspection Due Date  Height In Metres  Spread In Metres  \\\n",
      "66         2019-05-28           2022/2023              12.0               5.0   \n",
      "125        2017-07-19           2020/2021               6.0               2.0   \n",
      "1148       2018-09-28           2021/2022              15.0               6.0   \n",
      "1998       2017-03-21           2019/2020               9.0               6.0   \n",
      "2246       2019-01-29           2021/2022              16.0              12.0   \n",
      "5478              NaT                 NaN               NaN               NaN   \n",
      "10637      2017-08-14           2020/2021              20.0               8.0   \n",
      "10977      2017-08-14           2020/2021               3.0               2.0   \n",
      "11795      2018-06-04           2021/2022              30.0              23.0   \n",
      "11856      2017-01-06           2020/2021               3.0               3.0   \n",
      "12056      2018-04-17           2021/2022               3.0               1.0   \n",
      "12936      2019-10-07           2022/2023               4.0               2.0   \n",
      "13248      2019-01-31           2021/2022               0.0               5.0   \n",
      "16815      2018-05-10           2021/2022               2.0               1.0   \n",
      "18690      2019-01-08           2022/2023               NaN               NaN   \n",
      "18958      2019-01-29           2021/2022               5.0               4.0   \n",
      "19606      2018-03-13           2020/2021              10.0               8.0   \n",
      "20169      2018-10-09           2021/2022               9.0               5.0   \n",
      "20226      2019-01-08           2022/2023               5.0               3.0   \n",
      "21287      2018-06-19           2021/2022               6.0               6.0   \n",
      "22470      2018-07-13           2021/2022              18.0              12.0   \n",
      "23301      2017-06-14           2020/2021               7.0               5.0   \n",
      "23315      2019-05-24           2022/2023              12.0               5.0   \n",
      "\n",
      "       Diameter In Centimetres At Breast Height  Ward Code  \\\n",
      "66                                         20.0  E05000131   \n",
      "125                                        10.0  E05000130   \n",
      "1148                                       38.0  E05000145   \n",
      "1998                                       44.0  E05000132   \n",
      "2246                                       47.0  E05000140   \n",
      "5478                                        NaN  E05000138   \n",
      "10637                                      52.0  E05000139   \n",
      "10977                                       5.0  E05000139   \n",
      "11795                                     165.0  E05000138   \n",
      "11856                                      13.0  E05000137   \n",
      "12056                                       6.0  E05000128   \n",
      "12936                                       8.0  E05000140   \n",
      "13248                                      50.0  E05000128   \n",
      "16815                                       4.0  E05000145   \n",
      "18690                                       NaN  E05000143   \n",
      "18958                                      11.0  E05000134   \n",
      "19606                                      38.0  E05000142   \n",
      "20169                                      42.0  E05000145   \n",
      "20226                                      16.0  E05000143   \n",
      "21287                                      39.0  E05000140   \n",
      "22470                                      48.0  E05000128   \n",
      "23301                                      20.0  E05000137   \n",
      "23315                                      16.0  E05000137   \n",
      "\n",
      "                            Ward Name  Easting  Northing  Longitude  \\\n",
      "66                         Cantelowes   529795    184142  -0.129750   \n",
      "125    Camden Town with Primrose Hill   528900    184020  -0.142698   \n",
      "1148                   West Hampstead   525572    185015  -0.190313   \n",
      "1998                    Fortune Green   525074    185541  -0.197304   \n",
      "2246                          Kilburn   525763    183613  -0.188060   \n",
      "5478        Holborn and Covent Garden   530073    181247  -0.126813   \n",
      "10637                    Kentish Town   529119    185889  -0.138863   \n",
      "10977                    Kentish Town   528920    185694  -0.141802   \n",
      "11795       Holborn and Covent Garden   530572    181701  -0.119460   \n",
      "11856                        Highgate   528661    185556  -0.145585   \n",
      "12056                         Belsize   527015    184315  -0.169763   \n",
      "12936                         Kilburn   525443    183919  -0.192552   \n",
      "13248                         Belsize   527577    184297  -0.161664   \n",
      "16815                  West Hampstead   525593    185050  -0.189987   \n",
      "18690      St Pancras and Somers Town   529216    183103  -0.138479   \n",
      "18958                      Gospel Oak   527523    185233  -0.162101   \n",
      "19606                   Regent's Park   528913    182814  -0.142959   \n",
      "20169                  West Hampstead   525265    184543  -0.194897   \n",
      "20226      St Pancras and Somers Town   529279    183106  -0.137573   \n",
      "21287                         Kilburn   525832    183583  -0.187075   \n",
      "22470                         Belsize   526999    184416  -0.169957   \n",
      "23301                        Highgate   528472    186812  -0.147845   \n",
      "23315                        Highgate   528730    187264  -0.143955   \n",
      "\n",
      "        Latitude                Location  \n",
      "66     51.541266   (51.541266, -0.12975)  \n",
      "125    51.540371  (51.540371, -0.142698)  \n",
      "1148   51.550062  (51.550062, -0.190313)  \n",
      "1998   51.554901  (51.554901, -0.197304)  \n",
      "2246   51.537424   (51.537424, -0.18806)  \n",
      "5478   51.515186  (51.515186, -0.126813)  \n",
      "10637  51.557120   (51.55712, -0.138863)  \n",
      "10977  51.555408  (51.555408, -0.141802)  \n",
      "11795  51.519146   (51.519146, -0.11946)  \n",
      "11856  51.554226  (51.554226, -0.145585)  \n",
      "12056  51.543451  (51.543451, -0.169763)  \n",
      "12936  51.540245  (51.540245, -0.192552)  \n",
      "13248  51.543163  (51.543163, -0.161664)  \n",
      "16815  51.550377  (51.550377, -0.189987)  \n",
      "18690  51.532058  (51.532058, -0.138479)  \n",
      "18958  51.551587  (51.551587, -0.162101)  \n",
      "19606  51.529527  (51.529527, -0.142959)  \n",
      "20169  51.545886  (51.545886, -0.194897)  \n",
      "20226  51.532073  (51.532073, -0.137573)  \n",
      "21287  51.537139  (51.537139, -0.187075)  \n",
      "22470  51.544363  (51.544363, -0.169957)  \n",
      "23301  51.565562  (51.565562, -0.147845)  \n",
      "23315  51.569567  (51.569567, -0.143955)  \n"
     ]
    }
   ],
   "source": [
    "# Find trees that don't have matching environmental data\n",
    "# TODO\n",
    "# Use isin to create a mask of matching rows based on the 'Identifier' column\n",
    "matching_mask = trees['Identifier'].isin(environmental['Identifier'])\n",
    "\n",
    "# Use ~ to invert the mask and select non-matching rows in the trees dataset\n",
    "non_matching_trees = trees[~matching_mask]\n",
    "\n",
    "# Display the non-matching trees\n",
    "print(non_matching_trees)"
   ]
  },
  {
   "cell_type": "code",
   "execution_count": 8,
   "id": "36cabc0b-2d67-4a8d-8d85-6d3d3b40acfb",
   "metadata": {
    "scrolled": true
   },
   "outputs": [
    {
     "name": "stdout",
     "output_type": "stream",
     "text": [
      "Number of rows in 'trees' dataset without matching environmental data: 23\n"
     ]
    }
   ],
   "source": [
    "# Confirm how many rows we have\n",
    "# TODO\n",
    "# Get the count of non-matching rows\n",
    "num_non_matching_rows = len(non_matching_trees)\n",
    "\n",
    "# Print the count\n",
    "print(f\"Number of rows in 'trees' dataset without matching environmental data: {num_non_matching_rows}\")"
   ]
  },
  {
   "cell_type": "markdown",
   "id": "163e0301-fae2-41cc-a7a7-11a31b9e0499",
   "metadata": {},
   "source": [
    "### 8.2 Find Environmental Data that Doesn't have Matching Tree Data\n",
    "<div style=\"background-color:lemonchiffon; border:1px solid; padding:5px; margin:5px; font-weight:bold\"><font color=\"crimson\">\n",
    "TODO: Complete the following code cells\n",
    "    </font></div>"
   ]
  },
  {
   "cell_type": "code",
   "execution_count": 10,
   "id": "17727576-c7c3-487a-87d1-d27d326f661c",
   "metadata": {},
   "outputs": [
    {
     "name": "stdout",
     "output_type": "stream",
     "text": [
      "Empty DataFrame\n",
      "Columns: [Identifier, Maturity, Physiological Condition, Tree Set To Be Removed, Removal Reason, Capital Asset Value For Amenity Trees, Carbon Storage In Kilograms, Gross Carbon Sequestration Per Year In Kilograms, Pollution Removal Per Year In Grams]\n",
      "Index: []\n"
     ]
    }
   ],
   "source": [
    "# Find environmental data that doesn't have matching tree data\n",
    "# TODO\n",
    "# Use isin to create a mask of matching rows based on the 'Identifier' column\n",
    "matching_mask = environmental['Identifier'].isin(trees['Identifier'])\n",
    "\n",
    "# Use ~ to invert the mask and select non-matching rows in the environmental dataset\n",
    "non_matching_environmental = environmental[~matching_mask]\n",
    "\n",
    "# Display the non-matching environmental data\n",
    "print(non_matching_environmental)"
   ]
  },
  {
   "cell_type": "code",
   "execution_count": 11,
   "id": "7c562a4f-6a70-4e53-8dc5-c2ebd3a1417f",
   "metadata": {},
   "outputs": [
    {
     "name": "stdout",
     "output_type": "stream",
     "text": [
      "Number of rows in 'environmental' dataset without matching tree data: 0\n"
     ]
    }
   ],
   "source": [
    "# Confirm how many rows we have\n",
    "# TODO\n",
    "# Get the count of non-matching rows\n",
    "num_non_matching_rows = len(non_matching_environmental)\n",
    "\n",
    "# Print the count\n",
    "print(f\"Number of rows in 'environmental' dataset without matching tree data: {num_non_matching_rows}\")"
   ]
  },
  {
   "cell_type": "markdown",
   "id": "ce4445b4-53db-4d95-82b6-4af1088046bf",
   "metadata": {},
   "source": [
    "### 8.3 Find Trees that Don't have Matching Common Names Data\n",
    "<div style=\"background-color:lemonchiffon; border:1px solid; padding:5px; margin:5px; font-weight:bold\"><font color=\"crimson\">\n",
    "TODO: Complete the following code cells\n",
    "    </font></div>"
   ]
  },
  {
   "cell_type": "code",
   "execution_count": 13,
   "id": "f66f9bfd-6bfc-4faf-946e-d5d8f6cbb4b6",
   "metadata": {},
   "outputs": [
    {
     "name": "stdout",
     "output_type": "stream",
     "text": [
      "      Identifier  Number Of Trees                             Site Name  \\\n",
      "151     00051832              1.0                           ARGYLE WALK   \n",
      "384     00053954              1.0                        CHURCHILL ROAD   \n",
      "495     00047497              1.0                        PATSHULL PLACE   \n",
      "611     00055434              1.0                  SHARPLES HALL STREET   \n",
      "653     00055289              1.0                      QUEEN'S CRESCENT   \n",
      "...          ...              ...                                   ...   \n",
      "21826   00050835              1.0                           INGESTRE RD   \n",
      "22948   00052341              1.0                    NEW COMPTON STREET   \n",
      "23266   00048846              1.0                           ASMARA ROAD   \n",
      "23335   00048705              1.0                     GOLDINGTON STREET   \n",
      "23372   00031627              1.0  ST. GEORGE THE MARTYR C OF E JMI (E)   \n",
      "\n",
      "      Contract Area                Scientific Name Inspection Date  \\\n",
      "151        Highways  Sorbus aucuparia 'Streetwise'      2019-02-10   \n",
      "384        Highways  Sorbus aucuparia 'Streetwise'      2017-10-07   \n",
      "495        Highways  Sorbus aucuparia 'Streetwise'      2017-06-22   \n",
      "611        Highways  Sorbus aucuparia 'Streetwise'      2019-09-30   \n",
      "653        Highways  Sorbus aucuparia 'Streetwise'      2017-07-08   \n",
      "...             ...                            ...             ...   \n",
      "21826      Highways  Sorbus aucuparia 'Streetwise'      2017-08-18   \n",
      "22948      Highways  Sorbus aucuparia 'Streetwise'      2019-07-08   \n",
      "23266      Highways  Sorbus aucuparia 'Streetwise'      2018-08-28   \n",
      "23335      Highways  Sorbus aucuparia 'Streetwise'      2019-10-23   \n",
      "23372     Education       Cotoneaster salicifolius      2018-07-23   \n",
      "\n",
      "      Inspection Due Date  Height In Metres  Spread In Metres  \\\n",
      "151             2022/2023               7.0               3.0   \n",
      "384             2020/2021               3.0               2.0   \n",
      "495             2020/2021               5.0               3.0   \n",
      "611             2022/2023               2.0               2.0   \n",
      "653             2020/2021               4.0               1.0   \n",
      "...                   ...               ...               ...   \n",
      "21826           2020/2021               3.0               1.0   \n",
      "22948           2022/2023               4.0               3.0   \n",
      "23266           2021/2022               5.0               3.0   \n",
      "23335           2022/2023               6.0               2.0   \n",
      "23372           2021/2022               5.0               5.0   \n",
      "\n",
      "       Diameter In Centimetres At Breast Height  Ward Code  \\\n",
      "151                                        12.0  E05000141   \n",
      "384                                         5.0  E05000139   \n",
      "495                                        11.0  E05000131   \n",
      "611                                         4.0  E05000130   \n",
      "653                                         7.0  E05000136   \n",
      "...                                         ...        ...   \n",
      "21826                                       7.0  E05000139   \n",
      "22948                                       6.0  E05000138   \n",
      "23266                                       8.0  E05000132   \n",
      "23335                                      12.0  E05000143   \n",
      "23372                                       8.0  E05000138   \n",
      "\n",
      "                            Ward Name  Easting  Northing  Longitude  \\\n",
      "151                      King's Cross   530227    182706  -0.124054   \n",
      "384                      Kentish Town   529007    185975  -0.140440   \n",
      "495                        Cantelowes   529202    184717  -0.138094   \n",
      "611    Camden Town with Primrose Hill   527962    184050  -0.156202   \n",
      "653                        Haverstock   528072    184723  -0.154369   \n",
      "...                               ...      ...       ...        ...   \n",
      "21826                    Kentish Town   528962    185826  -0.141137   \n",
      "22948       Holborn and Covent Garden   529976    181160  -0.128249   \n",
      "23266                   Fortune Green   524568    185347  -0.204661   \n",
      "23335      St Pancras and Somers Town   529662    183417  -0.131941   \n",
      "23372       Holborn and Covent Garden   530742    182119  -0.116856   \n",
      "\n",
      "        Latitude                Location  \n",
      "151    51.528257  (51.528257, -0.124054)  \n",
      "384    51.557913   (51.557913, -0.14044)  \n",
      "495    51.546569  (51.546569, -0.138094)  \n",
      "611    51.540853  (51.540853, -0.156202)  \n",
      "653    51.546881  (51.546881, -0.154369)  \n",
      "...          ...                     ...  \n",
      "21826  51.556589  (51.556589, -0.141137)  \n",
      "22948  51.514422  (51.514422, -0.128249)  \n",
      "23266  51.553268  (51.553268, -0.204661)  \n",
      "23335  51.534780   (51.53478, -0.131941)  \n",
      "23372  51.522865  (51.522865, -0.116856)  \n",
      "\n",
      "[76 rows x 17 columns]\n"
     ]
    }
   ],
   "source": [
    "# Find trees with scientific names that don't have matching common names data\n",
    "# TODO\n",
    "# Use isin to create a mask of matching rows based on the 'Scientific Name' column\n",
    "matching_mask = trees['Scientific Name'].isin(names['Scientific Name'])\n",
    "\n",
    "# Use ~ to invert the mask and select non-matching rows in the trees dataset\n",
    "trees_without_matching_names = trees[~matching_mask]\n",
    "\n",
    "# Display the trees with scientific names that don't have matching common names\n",
    "print(trees_without_matching_names)"
   ]
  },
  {
   "cell_type": "code",
   "execution_count": 17,
   "id": "183f5951-2c4e-486a-beb9-68abc8be8674",
   "metadata": {},
   "outputs": [
    {
     "name": "stdout",
     "output_type": "stream",
     "text": [
      "Number of rows in 'trees' dataset without matching common names: 76\n"
     ]
    }
   ],
   "source": [
    "# Confirm how many rows we have\n",
    "# TODO\n",
    "# Get the count of non-matching rows\n",
    "num_non_matching_rows = len(trees_without_matching_names)\n",
    "\n",
    "# Print the count\n",
    "print(f\"Number of rows in 'trees' dataset without matching common names: {num_non_matching_rows}\")"
   ]
  },
  {
   "cell_type": "markdown",
   "id": "28a9ce1a-e0d6-42b2-b83a-bfb1c1a21f75",
   "metadata": {},
   "source": [
    "<hr/>\n",
    "\n",
    "### 8.4 Observations\n",
    "\n",
    "<div style=\"background-color:lemonchiffon; border:1px solid; padding:5px; margin:5px; font-weight:bold\"><font color=\"crimson\">\n",
    "TODO: Write down your observation about unmatched data issues.\n",
    "    </font></div>\n"
   ]
  },
  {
   "cell_type": "markdown",
   "id": "80b550e2-3d7e-44af-990a-cc59b070c269",
   "metadata": {},
   "source": [
    "Again, because the number of unmatching rows compared to the overall data size is very minimal, I would probably be happy to remove these unmatching names from the dataset. One reason I wouldn't simply just remove the data is if I drilled down into it a bit more and realised there were only a certain few types of tree that weren't matching up to the rest of the data regularly."
   ]
  },
  {
   "cell_type": "markdown",
   "id": "663f0130-1aee-4590-b6d3-ddc531035415",
   "metadata": {},
   "source": [
    "<hr/>"
   ]
  },
  {
   "cell_type": "markdown",
   "id": "ecb4c78f-147a-4cb7-b646-1de2d365c5e5",
   "metadata": {},
   "source": [
    "# END OF NOTEBOOK"
   ]
  },
  {
   "cell_type": "code",
   "execution_count": null,
   "id": "23027640-3750-4ea5-9057-e81626698bdb",
   "metadata": {},
   "outputs": [],
   "source": []
  }
 ],
 "metadata": {
  "kernelspec": {
   "display_name": "Python 3 (ipykernel)",
   "language": "python",
   "name": "python3"
  },
  "language_info": {
   "codemirror_mode": {
    "name": "ipython",
    "version": 3
   },
   "file_extension": ".py",
   "mimetype": "text/x-python",
   "name": "python",
   "nbconvert_exporter": "python",
   "pygments_lexer": "ipython3",
   "version": "3.11.4"
  }
 },
 "nbformat": 4,
 "nbformat_minor": 5
}
